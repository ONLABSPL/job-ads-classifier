{
  "nbformat": 4,
  "nbformat_minor": 0,
  "metadata": {
    "colab": {
      "provenance": [],
      "collapsed_sections": [],
      "authorship_tag": "ABX9TyNeJ3HmUqs8v/ACEZwGMmAd",
      "include_colab_link": true
    },
    "kernelspec": {
      "name": "python3",
      "display_name": "Python 3"
    },
    "language_info": {
      "name": "python"
    },
    "widgets": {
      "application/vnd.jupyter.widget-state+json": {
        "cde70bd2c1154ab2b36561e1e3e500e6": {
          "model_module": "@jupyter-widgets/controls",
          "model_name": "HBoxModel",
          "model_module_version": "1.5.0",
          "state": {
            "_dom_classes": [],
            "_model_module": "@jupyter-widgets/controls",
            "_model_module_version": "1.5.0",
            "_model_name": "HBoxModel",
            "_view_count": null,
            "_view_module": "@jupyter-widgets/controls",
            "_view_module_version": "1.5.0",
            "_view_name": "HBoxView",
            "box_style": "",
            "children": [
              "IPY_MODEL_924b09e3a032457cadf8aacdcbc805a8",
              "IPY_MODEL_3b6571ecc8e54f3c8951428bc454d2b1",
              "IPY_MODEL_dd03c1dbcecd46a6b93711d28ca6c061"
            ],
            "layout": "IPY_MODEL_62986ba6d17e464fb24984c6ffcdb03e"
          }
        },
        "924b09e3a032457cadf8aacdcbc805a8": {
          "model_module": "@jupyter-widgets/controls",
          "model_name": "HTMLModel",
          "model_module_version": "1.5.0",
          "state": {
            "_dom_classes": [],
            "_model_module": "@jupyter-widgets/controls",
            "_model_module_version": "1.5.0",
            "_model_name": "HTMLModel",
            "_view_count": null,
            "_view_module": "@jupyter-widgets/controls",
            "_view_module_version": "1.5.0",
            "_view_name": "HTMLView",
            "description": "",
            "description_tooltip": null,
            "layout": "IPY_MODEL_8e5053572c354910992c81517045045f",
            "placeholder": "​",
            "style": "IPY_MODEL_5e6bdc5adc1746f5806225ce22573580",
            "value": "Predicting DataLoader 0: 100%"
          }
        },
        "3b6571ecc8e54f3c8951428bc454d2b1": {
          "model_module": "@jupyter-widgets/controls",
          "model_name": "FloatProgressModel",
          "model_module_version": "1.5.0",
          "state": {
            "_dom_classes": [],
            "_model_module": "@jupyter-widgets/controls",
            "_model_module_version": "1.5.0",
            "_model_name": "FloatProgressModel",
            "_view_count": null,
            "_view_module": "@jupyter-widgets/controls",
            "_view_module_version": "1.5.0",
            "_view_name": "ProgressView",
            "bar_style": "success",
            "description": "",
            "description_tooltip": null,
            "layout": "IPY_MODEL_7f5423d614f44484b830ae162528661a",
            "max": 1,
            "min": 0,
            "orientation": "horizontal",
            "style": "IPY_MODEL_7c138ea5735b43a8928426ef6df36ecf",
            "value": 1
          }
        },
        "dd03c1dbcecd46a6b93711d28ca6c061": {
          "model_module": "@jupyter-widgets/controls",
          "model_name": "HTMLModel",
          "model_module_version": "1.5.0",
          "state": {
            "_dom_classes": [],
            "_model_module": "@jupyter-widgets/controls",
            "_model_module_version": "1.5.0",
            "_model_name": "HTMLModel",
            "_view_count": null,
            "_view_module": "@jupyter-widgets/controls",
            "_view_module_version": "1.5.0",
            "_view_name": "HTMLView",
            "description": "",
            "description_tooltip": null,
            "layout": "IPY_MODEL_cd5287705abc4f2298503deaeb2e804b",
            "placeholder": "​",
            "style": "IPY_MODEL_ed5c07c6783847f1bbd2d9095fc01742",
            "value": " 57/57 [00:05&lt;00:00, 10.01it/s]"
          }
        },
        "62986ba6d17e464fb24984c6ffcdb03e": {
          "model_module": "@jupyter-widgets/base",
          "model_name": "LayoutModel",
          "model_module_version": "1.2.0",
          "state": {
            "_model_module": "@jupyter-widgets/base",
            "_model_module_version": "1.2.0",
            "_model_name": "LayoutModel",
            "_view_count": null,
            "_view_module": "@jupyter-widgets/base",
            "_view_module_version": "1.2.0",
            "_view_name": "LayoutView",
            "align_content": null,
            "align_items": null,
            "align_self": null,
            "border": null,
            "bottom": null,
            "display": "inline-flex",
            "flex": null,
            "flex_flow": "row wrap",
            "grid_area": null,
            "grid_auto_columns": null,
            "grid_auto_flow": null,
            "grid_auto_rows": null,
            "grid_column": null,
            "grid_gap": null,
            "grid_row": null,
            "grid_template_areas": null,
            "grid_template_columns": null,
            "grid_template_rows": null,
            "height": null,
            "justify_content": null,
            "justify_items": null,
            "left": null,
            "margin": null,
            "max_height": null,
            "max_width": null,
            "min_height": null,
            "min_width": null,
            "object_fit": null,
            "object_position": null,
            "order": null,
            "overflow": null,
            "overflow_x": null,
            "overflow_y": null,
            "padding": null,
            "right": null,
            "top": null,
            "visibility": null,
            "width": "100%"
          }
        },
        "8e5053572c354910992c81517045045f": {
          "model_module": "@jupyter-widgets/base",
          "model_name": "LayoutModel",
          "model_module_version": "1.2.0",
          "state": {
            "_model_module": "@jupyter-widgets/base",
            "_model_module_version": "1.2.0",
            "_model_name": "LayoutModel",
            "_view_count": null,
            "_view_module": "@jupyter-widgets/base",
            "_view_module_version": "1.2.0",
            "_view_name": "LayoutView",
            "align_content": null,
            "align_items": null,
            "align_self": null,
            "border": null,
            "bottom": null,
            "display": null,
            "flex": null,
            "flex_flow": null,
            "grid_area": null,
            "grid_auto_columns": null,
            "grid_auto_flow": null,
            "grid_auto_rows": null,
            "grid_column": null,
            "grid_gap": null,
            "grid_row": null,
            "grid_template_areas": null,
            "grid_template_columns": null,
            "grid_template_rows": null,
            "height": null,
            "justify_content": null,
            "justify_items": null,
            "left": null,
            "margin": null,
            "max_height": null,
            "max_width": null,
            "min_height": null,
            "min_width": null,
            "object_fit": null,
            "object_position": null,
            "order": null,
            "overflow": null,
            "overflow_x": null,
            "overflow_y": null,
            "padding": null,
            "right": null,
            "top": null,
            "visibility": null,
            "width": null
          }
        },
        "5e6bdc5adc1746f5806225ce22573580": {
          "model_module": "@jupyter-widgets/controls",
          "model_name": "DescriptionStyleModel",
          "model_module_version": "1.5.0",
          "state": {
            "_model_module": "@jupyter-widgets/controls",
            "_model_module_version": "1.5.0",
            "_model_name": "DescriptionStyleModel",
            "_view_count": null,
            "_view_module": "@jupyter-widgets/base",
            "_view_module_version": "1.2.0",
            "_view_name": "StyleView",
            "description_width": ""
          }
        },
        "7f5423d614f44484b830ae162528661a": {
          "model_module": "@jupyter-widgets/base",
          "model_name": "LayoutModel",
          "model_module_version": "1.2.0",
          "state": {
            "_model_module": "@jupyter-widgets/base",
            "_model_module_version": "1.2.0",
            "_model_name": "LayoutModel",
            "_view_count": null,
            "_view_module": "@jupyter-widgets/base",
            "_view_module_version": "1.2.0",
            "_view_name": "LayoutView",
            "align_content": null,
            "align_items": null,
            "align_self": null,
            "border": null,
            "bottom": null,
            "display": null,
            "flex": "2",
            "flex_flow": null,
            "grid_area": null,
            "grid_auto_columns": null,
            "grid_auto_flow": null,
            "grid_auto_rows": null,
            "grid_column": null,
            "grid_gap": null,
            "grid_row": null,
            "grid_template_areas": null,
            "grid_template_columns": null,
            "grid_template_rows": null,
            "height": null,
            "justify_content": null,
            "justify_items": null,
            "left": null,
            "margin": null,
            "max_height": null,
            "max_width": null,
            "min_height": null,
            "min_width": null,
            "object_fit": null,
            "object_position": null,
            "order": null,
            "overflow": null,
            "overflow_x": null,
            "overflow_y": null,
            "padding": null,
            "right": null,
            "top": null,
            "visibility": null,
            "width": null
          }
        },
        "7c138ea5735b43a8928426ef6df36ecf": {
          "model_module": "@jupyter-widgets/controls",
          "model_name": "ProgressStyleModel",
          "model_module_version": "1.5.0",
          "state": {
            "_model_module": "@jupyter-widgets/controls",
            "_model_module_version": "1.5.0",
            "_model_name": "ProgressStyleModel",
            "_view_count": null,
            "_view_module": "@jupyter-widgets/base",
            "_view_module_version": "1.2.0",
            "_view_name": "StyleView",
            "bar_color": null,
            "description_width": ""
          }
        },
        "cd5287705abc4f2298503deaeb2e804b": {
          "model_module": "@jupyter-widgets/base",
          "model_name": "LayoutModel",
          "model_module_version": "1.2.0",
          "state": {
            "_model_module": "@jupyter-widgets/base",
            "_model_module_version": "1.2.0",
            "_model_name": "LayoutModel",
            "_view_count": null,
            "_view_module": "@jupyter-widgets/base",
            "_view_module_version": "1.2.0",
            "_view_name": "LayoutView",
            "align_content": null,
            "align_items": null,
            "align_self": null,
            "border": null,
            "bottom": null,
            "display": null,
            "flex": null,
            "flex_flow": null,
            "grid_area": null,
            "grid_auto_columns": null,
            "grid_auto_flow": null,
            "grid_auto_rows": null,
            "grid_column": null,
            "grid_gap": null,
            "grid_row": null,
            "grid_template_areas": null,
            "grid_template_columns": null,
            "grid_template_rows": null,
            "height": null,
            "justify_content": null,
            "justify_items": null,
            "left": null,
            "margin": null,
            "max_height": null,
            "max_width": null,
            "min_height": null,
            "min_width": null,
            "object_fit": null,
            "object_position": null,
            "order": null,
            "overflow": null,
            "overflow_x": null,
            "overflow_y": null,
            "padding": null,
            "right": null,
            "top": null,
            "visibility": null,
            "width": null
          }
        },
        "ed5c07c6783847f1bbd2d9095fc01742": {
          "model_module": "@jupyter-widgets/controls",
          "model_name": "DescriptionStyleModel",
          "model_module_version": "1.5.0",
          "state": {
            "_model_module": "@jupyter-widgets/controls",
            "_model_module_version": "1.5.0",
            "_model_name": "DescriptionStyleModel",
            "_view_count": null,
            "_view_module": "@jupyter-widgets/base",
            "_view_module_version": "1.2.0",
            "_view_name": "StyleView",
            "description_width": ""
          }
        },
        "8f3945c8325249548ce5eea54656d0a7": {
          "model_module": "@jupyter-widgets/controls",
          "model_name": "HBoxModel",
          "model_module_version": "1.5.0",
          "state": {
            "_dom_classes": [],
            "_model_module": "@jupyter-widgets/controls",
            "_model_module_version": "1.5.0",
            "_model_name": "HBoxModel",
            "_view_count": null,
            "_view_module": "@jupyter-widgets/controls",
            "_view_module_version": "1.5.0",
            "_view_name": "HBoxView",
            "box_style": "",
            "children": [
              "IPY_MODEL_68e5c2c05e8d4ac7bbc3f2b438ce4734",
              "IPY_MODEL_027830e6552b4985be7f81729f4e7444",
              "IPY_MODEL_4c8f8db9435f4a959bed2259dd2a968c"
            ],
            "layout": "IPY_MODEL_dd2cbaad57ff4b409cdee97e748289d3"
          }
        },
        "68e5c2c05e8d4ac7bbc3f2b438ce4734": {
          "model_module": "@jupyter-widgets/controls",
          "model_name": "HTMLModel",
          "model_module_version": "1.5.0",
          "state": {
            "_dom_classes": [],
            "_model_module": "@jupyter-widgets/controls",
            "_model_module_version": "1.5.0",
            "_model_name": "HTMLModel",
            "_view_count": null,
            "_view_module": "@jupyter-widgets/controls",
            "_view_module_version": "1.5.0",
            "_view_name": "HTMLView",
            "description": "",
            "description_tooltip": null,
            "layout": "IPY_MODEL_6a1c61c043ce4fe4b320b937bb7167b4",
            "placeholder": "​",
            "style": "IPY_MODEL_c714a0bbb4a14e038ddbe12fe939bd12",
            "value": "Downloading: 100%"
          }
        },
        "027830e6552b4985be7f81729f4e7444": {
          "model_module": "@jupyter-widgets/controls",
          "model_name": "FloatProgressModel",
          "model_module_version": "1.5.0",
          "state": {
            "_dom_classes": [],
            "_model_module": "@jupyter-widgets/controls",
            "_model_module_version": "1.5.0",
            "_model_name": "FloatProgressModel",
            "_view_count": null,
            "_view_module": "@jupyter-widgets/controls",
            "_view_module_version": "1.5.0",
            "_view_name": "ProgressView",
            "bar_style": "success",
            "description": "",
            "description_tooltip": null,
            "layout": "IPY_MODEL_733cc5131dfd48f485daa6203d7f6f2a",
            "max": 472,
            "min": 0,
            "orientation": "horizontal",
            "style": "IPY_MODEL_5a052141e6d44133a091ffab43617ba6",
            "value": 472
          }
        },
        "4c8f8db9435f4a959bed2259dd2a968c": {
          "model_module": "@jupyter-widgets/controls",
          "model_name": "HTMLModel",
          "model_module_version": "1.5.0",
          "state": {
            "_dom_classes": [],
            "_model_module": "@jupyter-widgets/controls",
            "_model_module_version": "1.5.0",
            "_model_name": "HTMLModel",
            "_view_count": null,
            "_view_module": "@jupyter-widgets/controls",
            "_view_module_version": "1.5.0",
            "_view_name": "HTMLView",
            "description": "",
            "description_tooltip": null,
            "layout": "IPY_MODEL_2470bbe8ab614b8fab9b79e9a981505b",
            "placeholder": "​",
            "style": "IPY_MODEL_12fe839d304b4c0b915ca7d8662f60f1",
            "value": " 472/472 [00:00&lt;00:00, 11.4kB/s]"
          }
        },
        "dd2cbaad57ff4b409cdee97e748289d3": {
          "model_module": "@jupyter-widgets/base",
          "model_name": "LayoutModel",
          "model_module_version": "1.2.0",
          "state": {
            "_model_module": "@jupyter-widgets/base",
            "_model_module_version": "1.2.0",
            "_model_name": "LayoutModel",
            "_view_count": null,
            "_view_module": "@jupyter-widgets/base",
            "_view_module_version": "1.2.0",
            "_view_name": "LayoutView",
            "align_content": null,
            "align_items": null,
            "align_self": null,
            "border": null,
            "bottom": null,
            "display": null,
            "flex": null,
            "flex_flow": null,
            "grid_area": null,
            "grid_auto_columns": null,
            "grid_auto_flow": null,
            "grid_auto_rows": null,
            "grid_column": null,
            "grid_gap": null,
            "grid_row": null,
            "grid_template_areas": null,
            "grid_template_columns": null,
            "grid_template_rows": null,
            "height": null,
            "justify_content": null,
            "justify_items": null,
            "left": null,
            "margin": null,
            "max_height": null,
            "max_width": null,
            "min_height": null,
            "min_width": null,
            "object_fit": null,
            "object_position": null,
            "order": null,
            "overflow": null,
            "overflow_x": null,
            "overflow_y": null,
            "padding": null,
            "right": null,
            "top": null,
            "visibility": null,
            "width": null
          }
        },
        "6a1c61c043ce4fe4b320b937bb7167b4": {
          "model_module": "@jupyter-widgets/base",
          "model_name": "LayoutModel",
          "model_module_version": "1.2.0",
          "state": {
            "_model_module": "@jupyter-widgets/base",
            "_model_module_version": "1.2.0",
            "_model_name": "LayoutModel",
            "_view_count": null,
            "_view_module": "@jupyter-widgets/base",
            "_view_module_version": "1.2.0",
            "_view_name": "LayoutView",
            "align_content": null,
            "align_items": null,
            "align_self": null,
            "border": null,
            "bottom": null,
            "display": null,
            "flex": null,
            "flex_flow": null,
            "grid_area": null,
            "grid_auto_columns": null,
            "grid_auto_flow": null,
            "grid_auto_rows": null,
            "grid_column": null,
            "grid_gap": null,
            "grid_row": null,
            "grid_template_areas": null,
            "grid_template_columns": null,
            "grid_template_rows": null,
            "height": null,
            "justify_content": null,
            "justify_items": null,
            "left": null,
            "margin": null,
            "max_height": null,
            "max_width": null,
            "min_height": null,
            "min_width": null,
            "object_fit": null,
            "object_position": null,
            "order": null,
            "overflow": null,
            "overflow_x": null,
            "overflow_y": null,
            "padding": null,
            "right": null,
            "top": null,
            "visibility": null,
            "width": null
          }
        },
        "c714a0bbb4a14e038ddbe12fe939bd12": {
          "model_module": "@jupyter-widgets/controls",
          "model_name": "DescriptionStyleModel",
          "model_module_version": "1.5.0",
          "state": {
            "_model_module": "@jupyter-widgets/controls",
            "_model_module_version": "1.5.0",
            "_model_name": "DescriptionStyleModel",
            "_view_count": null,
            "_view_module": "@jupyter-widgets/base",
            "_view_module_version": "1.2.0",
            "_view_name": "StyleView",
            "description_width": ""
          }
        },
        "733cc5131dfd48f485daa6203d7f6f2a": {
          "model_module": "@jupyter-widgets/base",
          "model_name": "LayoutModel",
          "model_module_version": "1.2.0",
          "state": {
            "_model_module": "@jupyter-widgets/base",
            "_model_module_version": "1.2.0",
            "_model_name": "LayoutModel",
            "_view_count": null,
            "_view_module": "@jupyter-widgets/base",
            "_view_module_version": "1.2.0",
            "_view_name": "LayoutView",
            "align_content": null,
            "align_items": null,
            "align_self": null,
            "border": null,
            "bottom": null,
            "display": null,
            "flex": null,
            "flex_flow": null,
            "grid_area": null,
            "grid_auto_columns": null,
            "grid_auto_flow": null,
            "grid_auto_rows": null,
            "grid_column": null,
            "grid_gap": null,
            "grid_row": null,
            "grid_template_areas": null,
            "grid_template_columns": null,
            "grid_template_rows": null,
            "height": null,
            "justify_content": null,
            "justify_items": null,
            "left": null,
            "margin": null,
            "max_height": null,
            "max_width": null,
            "min_height": null,
            "min_width": null,
            "object_fit": null,
            "object_position": null,
            "order": null,
            "overflow": null,
            "overflow_x": null,
            "overflow_y": null,
            "padding": null,
            "right": null,
            "top": null,
            "visibility": null,
            "width": null
          }
        },
        "5a052141e6d44133a091ffab43617ba6": {
          "model_module": "@jupyter-widgets/controls",
          "model_name": "ProgressStyleModel",
          "model_module_version": "1.5.0",
          "state": {
            "_model_module": "@jupyter-widgets/controls",
            "_model_module_version": "1.5.0",
            "_model_name": "ProgressStyleModel",
            "_view_count": null,
            "_view_module": "@jupyter-widgets/base",
            "_view_module_version": "1.2.0",
            "_view_name": "StyleView",
            "bar_color": null,
            "description_width": ""
          }
        },
        "2470bbe8ab614b8fab9b79e9a981505b": {
          "model_module": "@jupyter-widgets/base",
          "model_name": "LayoutModel",
          "model_module_version": "1.2.0",
          "state": {
            "_model_module": "@jupyter-widgets/base",
            "_model_module_version": "1.2.0",
            "_model_name": "LayoutModel",
            "_view_count": null,
            "_view_module": "@jupyter-widgets/base",
            "_view_module_version": "1.2.0",
            "_view_name": "LayoutView",
            "align_content": null,
            "align_items": null,
            "align_self": null,
            "border": null,
            "bottom": null,
            "display": null,
            "flex": null,
            "flex_flow": null,
            "grid_area": null,
            "grid_auto_columns": null,
            "grid_auto_flow": null,
            "grid_auto_rows": null,
            "grid_column": null,
            "grid_gap": null,
            "grid_row": null,
            "grid_template_areas": null,
            "grid_template_columns": null,
            "grid_template_rows": null,
            "height": null,
            "justify_content": null,
            "justify_items": null,
            "left": null,
            "margin": null,
            "max_height": null,
            "max_width": null,
            "min_height": null,
            "min_width": null,
            "object_fit": null,
            "object_position": null,
            "order": null,
            "overflow": null,
            "overflow_x": null,
            "overflow_y": null,
            "padding": null,
            "right": null,
            "top": null,
            "visibility": null,
            "width": null
          }
        },
        "12fe839d304b4c0b915ca7d8662f60f1": {
          "model_module": "@jupyter-widgets/controls",
          "model_name": "DescriptionStyleModel",
          "model_module_version": "1.5.0",
          "state": {
            "_model_module": "@jupyter-widgets/controls",
            "_model_module_version": "1.5.0",
            "_model_name": "DescriptionStyleModel",
            "_view_count": null,
            "_view_module": "@jupyter-widgets/base",
            "_view_module_version": "1.2.0",
            "_view_name": "StyleView",
            "description_width": ""
          }
        },
        "082567d389794fee895cdde42787faf7": {
          "model_module": "@jupyter-widgets/controls",
          "model_name": "HBoxModel",
          "model_module_version": "1.5.0",
          "state": {
            "_dom_classes": [],
            "_model_module": "@jupyter-widgets/controls",
            "_model_module_version": "1.5.0",
            "_model_name": "HBoxModel",
            "_view_count": null,
            "_view_module": "@jupyter-widgets/controls",
            "_view_module_version": "1.5.0",
            "_view_name": "HBoxView",
            "box_style": "",
            "children": [
              "IPY_MODEL_a672a04a95044a9fa7f994d6ccae89f0",
              "IPY_MODEL_d534021778914d5b8bd774b8344d979e",
              "IPY_MODEL_e4fb03b26c6e4a4a861e7bb37a19a348"
            ],
            "layout": "IPY_MODEL_29499cc27e9c433ba20e8854c127fc4b"
          }
        },
        "a672a04a95044a9fa7f994d6ccae89f0": {
          "model_module": "@jupyter-widgets/controls",
          "model_name": "HTMLModel",
          "model_module_version": "1.5.0",
          "state": {
            "_dom_classes": [],
            "_model_module": "@jupyter-widgets/controls",
            "_model_module_version": "1.5.0",
            "_model_name": "HTMLModel",
            "_view_count": null,
            "_view_module": "@jupyter-widgets/controls",
            "_view_module_version": "1.5.0",
            "_view_name": "HTMLView",
            "description": "",
            "description_tooltip": null,
            "layout": "IPY_MODEL_a0e2083db3a647fdaa809a80bdab2585",
            "placeholder": "​",
            "style": "IPY_MODEL_a135cca377e64bd8ad2044b747ab725d",
            "value": "Downloading: 100%"
          }
        },
        "d534021778914d5b8bd774b8344d979e": {
          "model_module": "@jupyter-widgets/controls",
          "model_name": "FloatProgressModel",
          "model_module_version": "1.5.0",
          "state": {
            "_dom_classes": [],
            "_model_module": "@jupyter-widgets/controls",
            "_model_module_version": "1.5.0",
            "_model_name": "FloatProgressModel",
            "_view_count": null,
            "_view_module": "@jupyter-widgets/controls",
            "_view_module_version": "1.5.0",
            "_view_name": "ProgressView",
            "bar_style": "success",
            "description": "",
            "description_tooltip": null,
            "layout": "IPY_MODEL_6861739654eb40ecb43d08736cd012f8",
            "max": 654201076,
            "min": 0,
            "orientation": "horizontal",
            "style": "IPY_MODEL_02288637a36c4839b94eec989e55a45a",
            "value": 654201076
          }
        },
        "e4fb03b26c6e4a4a861e7bb37a19a348": {
          "model_module": "@jupyter-widgets/controls",
          "model_name": "HTMLModel",
          "model_module_version": "1.5.0",
          "state": {
            "_dom_classes": [],
            "_model_module": "@jupyter-widgets/controls",
            "_model_module_version": "1.5.0",
            "_model_name": "HTMLModel",
            "_view_count": null,
            "_view_module": "@jupyter-widgets/controls",
            "_view_module_version": "1.5.0",
            "_view_name": "HTMLView",
            "description": "",
            "description_tooltip": null,
            "layout": "IPY_MODEL_6d366a314591498c9acb20a26493750a",
            "placeholder": "​",
            "style": "IPY_MODEL_6f3ad67f96fd4437ba8a0082953e4e65",
            "value": " 624M/624M [00:34&lt;00:00, 19.9MB/s]"
          }
        },
        "29499cc27e9c433ba20e8854c127fc4b": {
          "model_module": "@jupyter-widgets/base",
          "model_name": "LayoutModel",
          "model_module_version": "1.2.0",
          "state": {
            "_model_module": "@jupyter-widgets/base",
            "_model_module_version": "1.2.0",
            "_model_name": "LayoutModel",
            "_view_count": null,
            "_view_module": "@jupyter-widgets/base",
            "_view_module_version": "1.2.0",
            "_view_name": "LayoutView",
            "align_content": null,
            "align_items": null,
            "align_self": null,
            "border": null,
            "bottom": null,
            "display": null,
            "flex": null,
            "flex_flow": null,
            "grid_area": null,
            "grid_auto_columns": null,
            "grid_auto_flow": null,
            "grid_auto_rows": null,
            "grid_column": null,
            "grid_gap": null,
            "grid_row": null,
            "grid_template_areas": null,
            "grid_template_columns": null,
            "grid_template_rows": null,
            "height": null,
            "justify_content": null,
            "justify_items": null,
            "left": null,
            "margin": null,
            "max_height": null,
            "max_width": null,
            "min_height": null,
            "min_width": null,
            "object_fit": null,
            "object_position": null,
            "order": null,
            "overflow": null,
            "overflow_x": null,
            "overflow_y": null,
            "padding": null,
            "right": null,
            "top": null,
            "visibility": null,
            "width": null
          }
        },
        "a0e2083db3a647fdaa809a80bdab2585": {
          "model_module": "@jupyter-widgets/base",
          "model_name": "LayoutModel",
          "model_module_version": "1.2.0",
          "state": {
            "_model_module": "@jupyter-widgets/base",
            "_model_module_version": "1.2.0",
            "_model_name": "LayoutModel",
            "_view_count": null,
            "_view_module": "@jupyter-widgets/base",
            "_view_module_version": "1.2.0",
            "_view_name": "LayoutView",
            "align_content": null,
            "align_items": null,
            "align_self": null,
            "border": null,
            "bottom": null,
            "display": null,
            "flex": null,
            "flex_flow": null,
            "grid_area": null,
            "grid_auto_columns": null,
            "grid_auto_flow": null,
            "grid_auto_rows": null,
            "grid_column": null,
            "grid_gap": null,
            "grid_row": null,
            "grid_template_areas": null,
            "grid_template_columns": null,
            "grid_template_rows": null,
            "height": null,
            "justify_content": null,
            "justify_items": null,
            "left": null,
            "margin": null,
            "max_height": null,
            "max_width": null,
            "min_height": null,
            "min_width": null,
            "object_fit": null,
            "object_position": null,
            "order": null,
            "overflow": null,
            "overflow_x": null,
            "overflow_y": null,
            "padding": null,
            "right": null,
            "top": null,
            "visibility": null,
            "width": null
          }
        },
        "a135cca377e64bd8ad2044b747ab725d": {
          "model_module": "@jupyter-widgets/controls",
          "model_name": "DescriptionStyleModel",
          "model_module_version": "1.5.0",
          "state": {
            "_model_module": "@jupyter-widgets/controls",
            "_model_module_version": "1.5.0",
            "_model_name": "DescriptionStyleModel",
            "_view_count": null,
            "_view_module": "@jupyter-widgets/base",
            "_view_module_version": "1.2.0",
            "_view_name": "StyleView",
            "description_width": ""
          }
        },
        "6861739654eb40ecb43d08736cd012f8": {
          "model_module": "@jupyter-widgets/base",
          "model_name": "LayoutModel",
          "model_module_version": "1.2.0",
          "state": {
            "_model_module": "@jupyter-widgets/base",
            "_model_module_version": "1.2.0",
            "_model_name": "LayoutModel",
            "_view_count": null,
            "_view_module": "@jupyter-widgets/base",
            "_view_module_version": "1.2.0",
            "_view_name": "LayoutView",
            "align_content": null,
            "align_items": null,
            "align_self": null,
            "border": null,
            "bottom": null,
            "display": null,
            "flex": null,
            "flex_flow": null,
            "grid_area": null,
            "grid_auto_columns": null,
            "grid_auto_flow": null,
            "grid_auto_rows": null,
            "grid_column": null,
            "grid_gap": null,
            "grid_row": null,
            "grid_template_areas": null,
            "grid_template_columns": null,
            "grid_template_rows": null,
            "height": null,
            "justify_content": null,
            "justify_items": null,
            "left": null,
            "margin": null,
            "max_height": null,
            "max_width": null,
            "min_height": null,
            "min_width": null,
            "object_fit": null,
            "object_position": null,
            "order": null,
            "overflow": null,
            "overflow_x": null,
            "overflow_y": null,
            "padding": null,
            "right": null,
            "top": null,
            "visibility": null,
            "width": null
          }
        },
        "02288637a36c4839b94eec989e55a45a": {
          "model_module": "@jupyter-widgets/controls",
          "model_name": "ProgressStyleModel",
          "model_module_version": "1.5.0",
          "state": {
            "_model_module": "@jupyter-widgets/controls",
            "_model_module_version": "1.5.0",
            "_model_name": "ProgressStyleModel",
            "_view_count": null,
            "_view_module": "@jupyter-widgets/base",
            "_view_module_version": "1.2.0",
            "_view_name": "StyleView",
            "bar_color": null,
            "description_width": ""
          }
        },
        "6d366a314591498c9acb20a26493750a": {
          "model_module": "@jupyter-widgets/base",
          "model_name": "LayoutModel",
          "model_module_version": "1.2.0",
          "state": {
            "_model_module": "@jupyter-widgets/base",
            "_model_module_version": "1.2.0",
            "_model_name": "LayoutModel",
            "_view_count": null,
            "_view_module": "@jupyter-widgets/base",
            "_view_module_version": "1.2.0",
            "_view_name": "LayoutView",
            "align_content": null,
            "align_items": null,
            "align_self": null,
            "border": null,
            "bottom": null,
            "display": null,
            "flex": null,
            "flex_flow": null,
            "grid_area": null,
            "grid_auto_columns": null,
            "grid_auto_flow": null,
            "grid_auto_rows": null,
            "grid_column": null,
            "grid_gap": null,
            "grid_row": null,
            "grid_template_areas": null,
            "grid_template_columns": null,
            "grid_template_rows": null,
            "height": null,
            "justify_content": null,
            "justify_items": null,
            "left": null,
            "margin": null,
            "max_height": null,
            "max_width": null,
            "min_height": null,
            "min_width": null,
            "object_fit": null,
            "object_position": null,
            "order": null,
            "overflow": null,
            "overflow_x": null,
            "overflow_y": null,
            "padding": null,
            "right": null,
            "top": null,
            "visibility": null,
            "width": null
          }
        },
        "6f3ad67f96fd4437ba8a0082953e4e65": {
          "model_module": "@jupyter-widgets/controls",
          "model_name": "DescriptionStyleModel",
          "model_module_version": "1.5.0",
          "state": {
            "_model_module": "@jupyter-widgets/controls",
            "_model_module_version": "1.5.0",
            "_model_name": "DescriptionStyleModel",
            "_view_count": null,
            "_view_module": "@jupyter-widgets/base",
            "_view_module_version": "1.2.0",
            "_view_name": "StyleView",
            "description_width": ""
          }
        },
        "331edb74ea5146e6995af4d8283e748d": {
          "model_module": "@jupyter-widgets/controls",
          "model_name": "HBoxModel",
          "model_module_version": "1.5.0",
          "state": {
            "_dom_classes": [],
            "_model_module": "@jupyter-widgets/controls",
            "_model_module_version": "1.5.0",
            "_model_name": "HBoxModel",
            "_view_count": null,
            "_view_module": "@jupyter-widgets/controls",
            "_view_module_version": "1.5.0",
            "_view_name": "HBoxView",
            "box_style": "",
            "children": [
              "IPY_MODEL_43bebd0c04e74d5f86e3aab0ba818549",
              "IPY_MODEL_309773fadf9846aa867f741224f4a6ea",
              "IPY_MODEL_9d134da2920242af988b5916a735c857"
            ],
            "layout": "IPY_MODEL_5ade36f3d1544a8e8e9206dfaba3677f"
          }
        },
        "43bebd0c04e74d5f86e3aab0ba818549": {
          "model_module": "@jupyter-widgets/controls",
          "model_name": "HTMLModel",
          "model_module_version": "1.5.0",
          "state": {
            "_dom_classes": [],
            "_model_module": "@jupyter-widgets/controls",
            "_model_module_version": "1.5.0",
            "_model_name": "HTMLModel",
            "_view_count": null,
            "_view_module": "@jupyter-widgets/controls",
            "_view_module_version": "1.5.0",
            "_view_name": "HTMLView",
            "description": "",
            "description_tooltip": null,
            "layout": "IPY_MODEL_f51a0a197408488f9e0c8f3d7c819460",
            "placeholder": "​",
            "style": "IPY_MODEL_57455c44495c4b11a2a72bc992bbf2a8",
            "value": "Predicting DataLoader 0:   0%"
          }
        },
        "309773fadf9846aa867f741224f4a6ea": {
          "model_module": "@jupyter-widgets/controls",
          "model_name": "FloatProgressModel",
          "model_module_version": "1.5.0",
          "state": {
            "_dom_classes": [],
            "_model_module": "@jupyter-widgets/controls",
            "_model_module_version": "1.5.0",
            "_model_name": "FloatProgressModel",
            "_view_count": null,
            "_view_module": "@jupyter-widgets/controls",
            "_view_module_version": "1.5.0",
            "_view_name": "ProgressView",
            "bar_style": "info",
            "description": "",
            "description_tooltip": null,
            "layout": "IPY_MODEL_6a28fb62aabb40c8acee8b67347115c7",
            "max": 1,
            "min": 0,
            "orientation": "horizontal",
            "style": "IPY_MODEL_ea1828d6371540749b6e45e3f41e112a",
            "value": 0
          }
        },
        "9d134da2920242af988b5916a735c857": {
          "model_module": "@jupyter-widgets/controls",
          "model_name": "HTMLModel",
          "model_module_version": "1.5.0",
          "state": {
            "_dom_classes": [],
            "_model_module": "@jupyter-widgets/controls",
            "_model_module_version": "1.5.0",
            "_model_name": "HTMLModel",
            "_view_count": null,
            "_view_module": "@jupyter-widgets/controls",
            "_view_module_version": "1.5.0",
            "_view_name": "HTMLView",
            "description": "",
            "description_tooltip": null,
            "layout": "IPY_MODEL_7c08841b58ab492f99214a9593194290",
            "placeholder": "​",
            "style": "IPY_MODEL_51809eded18e4fad8a65ea9555ed52b9",
            "value": " 0/57 [00:00&lt;?, ?it/s]"
          }
        },
        "5ade36f3d1544a8e8e9206dfaba3677f": {
          "model_module": "@jupyter-widgets/base",
          "model_name": "LayoutModel",
          "model_module_version": "1.2.0",
          "state": {
            "_model_module": "@jupyter-widgets/base",
            "_model_module_version": "1.2.0",
            "_model_name": "LayoutModel",
            "_view_count": null,
            "_view_module": "@jupyter-widgets/base",
            "_view_module_version": "1.2.0",
            "_view_name": "LayoutView",
            "align_content": null,
            "align_items": null,
            "align_self": null,
            "border": null,
            "bottom": null,
            "display": "inline-flex",
            "flex": null,
            "flex_flow": "row wrap",
            "grid_area": null,
            "grid_auto_columns": null,
            "grid_auto_flow": null,
            "grid_auto_rows": null,
            "grid_column": null,
            "grid_gap": null,
            "grid_row": null,
            "grid_template_areas": null,
            "grid_template_columns": null,
            "grid_template_rows": null,
            "height": null,
            "justify_content": null,
            "justify_items": null,
            "left": null,
            "margin": null,
            "max_height": null,
            "max_width": null,
            "min_height": null,
            "min_width": null,
            "object_fit": null,
            "object_position": null,
            "order": null,
            "overflow": null,
            "overflow_x": null,
            "overflow_y": null,
            "padding": null,
            "right": null,
            "top": null,
            "visibility": null,
            "width": "100%"
          }
        },
        "f51a0a197408488f9e0c8f3d7c819460": {
          "model_module": "@jupyter-widgets/base",
          "model_name": "LayoutModel",
          "model_module_version": "1.2.0",
          "state": {
            "_model_module": "@jupyter-widgets/base",
            "_model_module_version": "1.2.0",
            "_model_name": "LayoutModel",
            "_view_count": null,
            "_view_module": "@jupyter-widgets/base",
            "_view_module_version": "1.2.0",
            "_view_name": "LayoutView",
            "align_content": null,
            "align_items": null,
            "align_self": null,
            "border": null,
            "bottom": null,
            "display": null,
            "flex": null,
            "flex_flow": null,
            "grid_area": null,
            "grid_auto_columns": null,
            "grid_auto_flow": null,
            "grid_auto_rows": null,
            "grid_column": null,
            "grid_gap": null,
            "grid_row": null,
            "grid_template_areas": null,
            "grid_template_columns": null,
            "grid_template_rows": null,
            "height": null,
            "justify_content": null,
            "justify_items": null,
            "left": null,
            "margin": null,
            "max_height": null,
            "max_width": null,
            "min_height": null,
            "min_width": null,
            "object_fit": null,
            "object_position": null,
            "order": null,
            "overflow": null,
            "overflow_x": null,
            "overflow_y": null,
            "padding": null,
            "right": null,
            "top": null,
            "visibility": null,
            "width": null
          }
        },
        "57455c44495c4b11a2a72bc992bbf2a8": {
          "model_module": "@jupyter-widgets/controls",
          "model_name": "DescriptionStyleModel",
          "model_module_version": "1.5.0",
          "state": {
            "_model_module": "@jupyter-widgets/controls",
            "_model_module_version": "1.5.0",
            "_model_name": "DescriptionStyleModel",
            "_view_count": null,
            "_view_module": "@jupyter-widgets/base",
            "_view_module_version": "1.2.0",
            "_view_name": "StyleView",
            "description_width": ""
          }
        },
        "6a28fb62aabb40c8acee8b67347115c7": {
          "model_module": "@jupyter-widgets/base",
          "model_name": "LayoutModel",
          "model_module_version": "1.2.0",
          "state": {
            "_model_module": "@jupyter-widgets/base",
            "_model_module_version": "1.2.0",
            "_model_name": "LayoutModel",
            "_view_count": null,
            "_view_module": "@jupyter-widgets/base",
            "_view_module_version": "1.2.0",
            "_view_name": "LayoutView",
            "align_content": null,
            "align_items": null,
            "align_self": null,
            "border": null,
            "bottom": null,
            "display": null,
            "flex": "2",
            "flex_flow": null,
            "grid_area": null,
            "grid_auto_columns": null,
            "grid_auto_flow": null,
            "grid_auto_rows": null,
            "grid_column": null,
            "grid_gap": null,
            "grid_row": null,
            "grid_template_areas": null,
            "grid_template_columns": null,
            "grid_template_rows": null,
            "height": null,
            "justify_content": null,
            "justify_items": null,
            "left": null,
            "margin": null,
            "max_height": null,
            "max_width": null,
            "min_height": null,
            "min_width": null,
            "object_fit": null,
            "object_position": null,
            "order": null,
            "overflow": null,
            "overflow_x": null,
            "overflow_y": null,
            "padding": null,
            "right": null,
            "top": null,
            "visibility": null,
            "width": null
          }
        },
        "ea1828d6371540749b6e45e3f41e112a": {
          "model_module": "@jupyter-widgets/controls",
          "model_name": "ProgressStyleModel",
          "model_module_version": "1.5.0",
          "state": {
            "_model_module": "@jupyter-widgets/controls",
            "_model_module_version": "1.5.0",
            "_model_name": "ProgressStyleModel",
            "_view_count": null,
            "_view_module": "@jupyter-widgets/base",
            "_view_module_version": "1.2.0",
            "_view_name": "StyleView",
            "bar_color": null,
            "description_width": ""
          }
        },
        "7c08841b58ab492f99214a9593194290": {
          "model_module": "@jupyter-widgets/base",
          "model_name": "LayoutModel",
          "model_module_version": "1.2.0",
          "state": {
            "_model_module": "@jupyter-widgets/base",
            "_model_module_version": "1.2.0",
            "_model_name": "LayoutModel",
            "_view_count": null,
            "_view_module": "@jupyter-widgets/base",
            "_view_module_version": "1.2.0",
            "_view_name": "LayoutView",
            "align_content": null,
            "align_items": null,
            "align_self": null,
            "border": null,
            "bottom": null,
            "display": null,
            "flex": null,
            "flex_flow": null,
            "grid_area": null,
            "grid_auto_columns": null,
            "grid_auto_flow": null,
            "grid_auto_rows": null,
            "grid_column": null,
            "grid_gap": null,
            "grid_row": null,
            "grid_template_areas": null,
            "grid_template_columns": null,
            "grid_template_rows": null,
            "height": null,
            "justify_content": null,
            "justify_items": null,
            "left": null,
            "margin": null,
            "max_height": null,
            "max_width": null,
            "min_height": null,
            "min_width": null,
            "object_fit": null,
            "object_position": null,
            "order": null,
            "overflow": null,
            "overflow_x": null,
            "overflow_y": null,
            "padding": null,
            "right": null,
            "top": null,
            "visibility": null,
            "width": null
          }
        },
        "51809eded18e4fad8a65ea9555ed52b9": {
          "model_module": "@jupyter-widgets/controls",
          "model_name": "DescriptionStyleModel",
          "model_module_version": "1.5.0",
          "state": {
            "_model_module": "@jupyter-widgets/controls",
            "_model_module_version": "1.5.0",
            "_model_name": "DescriptionStyleModel",
            "_view_count": null,
            "_view_module": "@jupyter-widgets/base",
            "_view_module_version": "1.2.0",
            "_view_name": "StyleView",
            "description_width": ""
          }
        }
      }
    },
    "accelerator": "GPU"
  },
  "cells": [
    {
      "cell_type": "markdown",
      "metadata": {
        "id": "view-in-github",
        "colab_type": "text"
      },
      "source": [
        "<a href=\"https://colab.research.google.com/github/ncn-foreigners/job-ads-classifier/blob/main/job_classification_examples_polski.ipynb\" target=\"_parent\"><img src=\"https://colab.research.google.com/assets/colab-badge.svg\" alt=\"Open In Colab\"/></a>"
      ]
    },
    {
      "cell_type": "markdown",
      "source": [
        "## O tutorialu\n",
        "\n",
        "Notatnik ma na celu przedstawienie sposobu wykorzystania algorytmu klasyfikacji opisów ofert pracy do kodów zawodów określonych w ramach [Klasyfikacji Zawodów i Specjalności 2022 (KSiZ)](https://psz.praca.gov.pl/rynek-pracy/bazy-danych/klasyfikacja-zawodow-i-specjalnosci). W KSiZ zawody określa się na poziomie 1, 2, 3, 4 i 6 cyfrowych kodów. Algorytm tak przygotowany aby można było danej ofercie pracy przypisać kod 6 cyfrowy.\n",
        "\n",
        "Do uczenia (zbór treningowy i testowy) wykorzystano następujące zbiory danych:\n",
        "\n",
        "+ oficjalny słownik KSiZ 2022 (tylko treningowy),\n",
        "+ słownik synonimów GUS dla 6 cyfrowych kodów zawodów (tylko treningowy),\n",
        "+ słownik [ESCO](https://esco.ec.europa.eu/select-language?destination=/node/1) dla zawodów, które można było przypisać 1-1 (tylko treningowy),\n",
        "+ zakodowane oferty pracy z [Centralnej Bazy Ofert Pracy](https://oferty.praca.gov.pl/portal/index.cbop) (trening i test),\n",
        "+ zawody z [Nabory KPRM](https://nabory.kprm.gov.pl/), które można było przypisać 1-1 (trening i test),\n",
        "+ 3000 ofert z internetu zakodowane przez 3 ekspertki (trening i test).\n",
        "\n",
        "Uwaga: algorytm przedstawiamy tak jaki jest. Nie gwarantujemy jego 100% poprawości oraz działania na różnych sprzętach. Konfiguracja jest po stronie użytkownika.\n",
        "\n",
        "Uwaga 2: model oparty na transformerach wymaga do działania GPU.\n",
        "\n",
        "Autorzy: \n",
        "+ Marek Wydmuch (Politechnika Poznańska, OLX; autor kodu i biblioteki napkinXC), \n",
        "+ Maciej Beręsewicz (Uniwersytet Ekonomiczny w Poznaniu, Urząd Statystyczny w Poznaniu; zaprojektowanie badania, wymogów i zbiorów), \n",
        "+ Herman Cherniaiev (Wyższa Szkoła Informatyki i Zarządzania w Rzeszowie, Instytut Badań Edukcyjnych w Warszawie; przygotowanie danych online, konsultacje),  \n",
        "+ Robert Pater (Wyższa Szkoła Informatyki i Zarządzania w Rzeszowie, Instytut Badań Edukcyjnych w Warszawie; konsultacje, nadzór)."
      ],
      "metadata": {
        "id": "1pc72JoAjnt7"
      }
    },
    {
      "cell_type": "markdown",
      "source": [
        "## Podstaowe ustawienia dla colab"
      ],
      "metadata": {
        "id": "wJDnS402wmr-"
      }
    },
    {
      "cell_type": "markdown",
      "source": [
        "Ustawienia wydruki w colab"
      ],
      "metadata": {
        "id": "UVZAWcdUp57Q"
      }
    },
    {
      "cell_type": "code",
      "source": [
        "from google.colab.data_table import DataTable\n",
        "DataTable.max_columns = 60"
      ],
      "metadata": {
        "id": "J6SOOc1LxGpH"
      },
      "execution_count": 1,
      "outputs": []
    },
    {
      "cell_type": "markdown",
      "source": [
        "Klonowanie repozytorium"
      ],
      "metadata": {
        "id": "VSLUm2SSp7S2"
      }
    },
    {
      "cell_type": "code",
      "source": [
        "!git clone https://github.com/ncn-foreigners/job-ads-classifier.git "
      ],
      "metadata": {
        "colab": {
          "base_uri": "https://localhost:8080/"
        },
        "id": "wMEXrRDL5Zdo",
        "outputId": "f4eb4f94-4c99-48b4-d2ce-982284973b1b"
      },
      "execution_count": 2,
      "outputs": [
        {
          "output_type": "stream",
          "name": "stdout",
          "text": [
            "Cloning into 'job-ads-classifier'...\n",
            "remote: Enumerating objects: 145, done.\u001b[K\n",
            "remote: Counting objects: 100% (145/145), done.\u001b[K\n",
            "remote: Compressing objects: 100% (126/126), done.\u001b[K\n",
            "remote: Total 145 (delta 57), reused 59 (delta 11), pack-reused 0\u001b[K\n",
            "Receiving objects: 100% (145/145), 3.27 MiB | 16.84 MiB/s, done.\n",
            "Resolving deltas: 100% (57/57), done.\n"
          ]
        }
      ]
    },
    {
      "cell_type": "markdown",
      "source": [
        "Środowisko wirtualne na potrzeby projektu"
      ],
      "metadata": {
        "id": "7Mwhg_IFp-op"
      }
    },
    {
      "cell_type": "code",
      "source": [
        "!pip install virtualenv\n",
        "!virtualenv classifier\n",
        "!source /content/classifier/bin/activate"
      ],
      "metadata": {
        "id": "Ngyq9ATpzWmy",
        "colab": {
          "base_uri": "https://localhost:8080/"
        },
        "outputId": "e1044c89-e8b1-42fe-e5ed-0afcf03d6a83"
      },
      "execution_count": 3,
      "outputs": [
        {
          "output_type": "stream",
          "name": "stdout",
          "text": [
            "Looking in indexes: https://pypi.org/simple, https://us-python.pkg.dev/colab-wheels/public/simple/\n",
            "Collecting virtualenv\n",
            "  Downloading virtualenv-20.16.6-py3-none-any.whl (8.8 MB)\n",
            "\u001b[K     |████████████████████████████████| 8.8 MB 5.1 MB/s \n",
            "\u001b[?25hCollecting distlib<1,>=0.3.6\n",
            "  Downloading distlib-0.3.6-py2.py3-none-any.whl (468 kB)\n",
            "\u001b[K     |████████████████████████████████| 468 kB 64.6 MB/s \n",
            "\u001b[?25hCollecting platformdirs<3,>=2.4\n",
            "  Downloading platformdirs-2.5.2-py3-none-any.whl (14 kB)\n",
            "Requirement already satisfied: filelock<4,>=3.4.1 in /usr/local/lib/python3.7/dist-packages (from virtualenv) (3.8.0)\n",
            "Requirement already satisfied: importlib-metadata>=4.8.3 in /usr/local/lib/python3.7/dist-packages (from virtualenv) (4.13.0)\n",
            "Requirement already satisfied: zipp>=0.5 in /usr/local/lib/python3.7/dist-packages (from importlib-metadata>=4.8.3->virtualenv) (3.9.0)\n",
            "Requirement already satisfied: typing-extensions>=3.6.4 in /usr/local/lib/python3.7/dist-packages (from importlib-metadata>=4.8.3->virtualenv) (4.1.1)\n",
            "Installing collected packages: platformdirs, distlib, virtualenv\n",
            "Successfully installed distlib-0.3.6 platformdirs-2.5.2 virtualenv-20.16.6\n",
            "created virtual environment CPython3.7.15.final.0-64 in 1034ms\n",
            "  creator CPython3Posix(dest=/content/classifier, clear=False, no_vcs_ignore=False, global=False)\n",
            "  seeder FromAppData(download=False, pip=bundle, setuptools=bundle, wheel=bundle, via=copy, app_data_dir=/root/.local/share/virtualenv)\n",
            "    added seed packages: pip==22.3, setuptools==65.5.0, wheel==0.37.1\n",
            "  activators BashActivator,CShellActivator,FishActivator,NushellActivator,PowerShellActivator,PythonActivator\n"
          ]
        }
      ]
    },
    {
      "cell_type": "markdown",
      "source": [
        "Aktualizacja pip."
      ],
      "metadata": {
        "id": "U93bJKwkqBVR"
      }
    },
    {
      "cell_type": "code",
      "source": [
        "!python -m pip install --upgrade pip"
      ],
      "metadata": {
        "id": "7mceE_iyzBUl",
        "colab": {
          "base_uri": "https://localhost:8080/"
        },
        "outputId": "e3686969-2e86-4c0d-ad5e-3aeb2f8e3a7e"
      },
      "execution_count": 4,
      "outputs": [
        {
          "output_type": "stream",
          "name": "stdout",
          "text": [
            "Looking in indexes: https://pypi.org/simple, https://us-python.pkg.dev/colab-wheels/public/simple/\n",
            "Requirement already satisfied: pip in /usr/local/lib/python3.7/dist-packages (21.1.3)\n",
            "Collecting pip\n",
            "  Downloading pip-22.3-py3-none-any.whl (2.1 MB)\n",
            "\u001b[K     |████████████████████████████████| 2.1 MB 4.8 MB/s \n",
            "\u001b[?25hInstalling collected packages: pip\n",
            "  Attempting uninstall: pip\n",
            "    Found existing installation: pip 21.1.3\n",
            "    Uninstalling pip-21.1.3:\n",
            "      Successfully uninstalled pip-21.1.3\n",
            "Successfully installed pip-22.3\n"
          ]
        }
      ]
    },
    {
      "cell_type": "markdown",
      "source": [
        "Pobieramy modele z google drive i przerzucamy je w odpowiednie miejsca"
      ],
      "metadata": {
        "id": "ZRl29ob1jlcB"
      }
    },
    {
      "cell_type": "code",
      "source": [
        "!gdown 126YUU3X9AfzdtEJgANzusgo7msonoCzu\n",
        "!unzip models-v1.1.zip\n",
        "!rm -rf __MACOSX\n",
        "!mkdir ./job-ads-classifier/models\n",
        "!mv transformer_model ./job-ads-classifier/models/\n",
        "!mv linear_model ./job-ads-classifier/models/"
      ],
      "metadata": {
        "id": "MyQ9L0fsj6y6",
        "colab": {
          "base_uri": "https://localhost:8080/"
        },
        "outputId": "0736aa94-3932-4157-b6cb-7fab966ab323"
      },
      "execution_count": 5,
      "outputs": [
        {
          "output_type": "stream",
          "name": "stdout",
          "text": [
            "Downloading...\n",
            "From: https://drive.google.com/uc?id=126YUU3X9AfzdtEJgANzusgo7msonoCzu\n",
            "To: /content/models-v1.1.zip\n",
            "100% 2.09G/2.09G [00:18<00:00, 111MB/s]\n",
            "Archive:  models-v1.1.zip\n",
            "   creating: linear_model/\n",
            "  inflating: __MACOSX/._linear_model  \n",
            "  inflating: linear_model/X_train.bin  \n",
            "  inflating: __MACOSX/linear_model/._X_train.bin  \n",
            "  inflating: linear_model/napkinxc_hierarchy.bin  \n",
            "  inflating: __MACOSX/linear_model/._napkinxc_hierarchy.bin  \n",
            "  inflating: linear_model/tfidf_vectorizer.bin  \n",
            "  inflating: __MACOSX/linear_model/._tfidf_vectorizer.bin  \n",
            "  inflating: linear_model/weights.bin  \n",
            "  inflating: __MACOSX/linear_model/._weights.bin  \n",
            "  inflating: linear_model/Y_train.bin  \n",
            "  inflating: __MACOSX/linear_model/._Y_train.bin  \n",
            "  inflating: linear_model/stemmer.bin  \n",
            "  inflating: __MACOSX/linear_model/._stemmer.bin  \n",
            "  inflating: linear_model/args.bin   \n",
            "  inflating: __MACOSX/linear_model/._args.bin  \n",
            "  inflating: linear_model/tree.txt   \n",
            "  inflating: __MACOSX/linear_model/._tree.txt  \n",
            "  inflating: linear_model/tree.bin   \n",
            "  inflating: __MACOSX/linear_model/._tree.bin  \n",
            "  inflating: linear_model/hierarchy.bin  \n",
            "  inflating: __MACOSX/linear_model/._hierarchy.bin  \n",
            "  inflating: linear_model/train_data.libsvm  \n",
            "  inflating: __MACOSX/linear_model/._train_data.libsvm  \n",
            "   creating: transformer_model/\n",
            "  inflating: __MACOSX/._transformer_model  \n",
            "  inflating: transformer_model/transformer_arch.bin  \n",
            "  inflating: __MACOSX/transformer_model/._transformer_arch.bin  \n",
            "  inflating: transformer_model/transformer_classifier.ckpt  \n",
            "  inflating: __MACOSX/transformer_model/._transformer_classifier.ckpt  \n",
            "   creating: transformer_model/ckpts/\n",
            "  inflating: __MACOSX/transformer_model/._ckpts  \n",
            "  inflating: transformer_model/config.json  \n",
            "  inflating: __MACOSX/transformer_model/._config.json  \n",
            "  inflating: transformer_model/pytorch_model.bin  \n",
            "  inflating: __MACOSX/transformer_model/._pytorch_model.bin  \n",
            "  inflating: transformer_model/hierarchy.bin  \n",
            "  inflating: __MACOSX/transformer_model/._hierarchy.bin  \n",
            "  inflating: transformer_model/ckpts/.DS_Store  \n",
            "  inflating: __MACOSX/transformer_model/ckpts/._.DS_Store  \n"
          ]
        }
      ]
    },
    {
      "cell_type": "markdown",
      "source": [
        "Instalacja potrzebnych pakietów (uwaga: tu wykorzystujemy plik dla Python 3.7 dla colab). Model był uczony na Python 3.9 i wymaga do działania pliku `requirements.txt`. Po zainstalowaniu należy zrestartować środowisko."
      ],
      "metadata": {
        "id": "dAvXnUqOowuo"
      }
    },
    {
      "cell_type": "code",
      "source": [
        "!pip install torch\n",
        "!pip install -r /content/job-ads-classifier/requirements-py37-colab.txt"
      ],
      "metadata": {
        "colab": {
          "base_uri": "https://localhost:8080/",
          "height": 1000
        },
        "id": "zzr3QOU4agHF",
        "outputId": "55f80336-e261-4acf-8505-d89ad6213c43"
      },
      "execution_count": 6,
      "outputs": [
        {
          "output_type": "stream",
          "name": "stdout",
          "text": [
            "Looking in indexes: https://pypi.org/simple, https://us-python.pkg.dev/colab-wheels/public/simple/\n",
            "Requirement already satisfied: torch in /usr/local/lib/python3.7/dist-packages (1.12.1+cu113)\n",
            "Requirement already satisfied: typing-extensions in /usr/local/lib/python3.7/dist-packages (from torch) (4.1.1)\n",
            "\u001b[33mWARNING: Running pip as the 'root' user can result in broken permissions and conflicting behaviour with the system package manager. It is recommended to use a virtual environment instead: https://pip.pypa.io/warnings/venv\u001b[0m\u001b[33m\n",
            "\u001b[0mLooking in indexes: https://pypi.org/simple, https://us-python.pkg.dev/colab-wheels/public/simple/\n",
            "Requirement already satisfied: lxml in /usr/local/lib/python3.7/dist-packages (from -r /content/job-ads-classifier/requirements-py37-colab.txt (line 1)) (4.9.1)\n",
            "Collecting huggingface-hub==0.4.0\n",
            "  Downloading huggingface_hub-0.4.0-py3-none-any.whl (67 kB)\n",
            "\u001b[2K     \u001b[90m━━━━━━━━━━━━━━━━━━━━━━━━━━━━━━━━━━━━━━━━\u001b[0m \u001b[32m67.0/67.0 kB\u001b[0m \u001b[31m4.5 MB/s\u001b[0m eta \u001b[36m0:00:00\u001b[0m\n",
            "\u001b[?25hCollecting jsbeautifier==1.14.0\n",
            "  Downloading jsbeautifier-1.14.0.tar.gz (73 kB)\n",
            "\u001b[2K     \u001b[90m━━━━━━━━━━━━━━━━━━━━━━━━━━━━━━━━━━━━━━━━\u001b[0m \u001b[32m73.0/73.0 kB\u001b[0m \u001b[31m4.4 MB/s\u001b[0m eta \u001b[36m0:00:00\u001b[0m\n",
            "\u001b[?25h  Installing build dependencies ... \u001b[?25l\u001b[?25hdone\n",
            "  Getting requirements to build wheel ... \u001b[?25l\u001b[?25hdone\n",
            "  Preparing metadata (pyproject.toml) ... \u001b[?25l\u001b[?25hdone\n",
            "Collecting napkinxc==0.6.0\n",
            "  Downloading napkinxc-0.6.0-cp37-cp37m-manylinux_2_17_x86_64.manylinux2014_x86_64.whl (541 kB)\n",
            "\u001b[2K     \u001b[90m━━━━━━━━━━━━━━━━━━━━━━━━━━━━━━━━━━━━━━\u001b[0m \u001b[32m541.5/541.5 kB\u001b[0m \u001b[31m18.3 MB/s\u001b[0m eta \u001b[36m0:00:00\u001b[0m\n",
            "\u001b[?25hCollecting nltk==3.5\n",
            "  Downloading nltk-3.5.zip (1.4 MB)\n",
            "\u001b[2K     \u001b[90m━━━━━━━━━━━━━━━━━━━━━━━━━━━━━━━━━━━━━━━━\u001b[0m \u001b[32m1.4/1.4 MB\u001b[0m \u001b[31m44.8 MB/s\u001b[0m eta \u001b[36m0:00:00\u001b[0m\n",
            "\u001b[?25h  Preparing metadata (setup.py) ... \u001b[?25l\u001b[?25hdone\n",
            "Requirement already satisfied: numpy in /usr/local/lib/python3.7/dist-packages (from -r /content/job-ads-classifier/requirements-py37-colab.txt (line 6)) (1.21.6)\n",
            "Collecting pandas==1.3.4\n",
            "  Downloading pandas-1.3.4-cp37-cp37m-manylinux_2_17_x86_64.manylinux2014_x86_64.whl (11.3 MB)\n",
            "\u001b[2K     \u001b[90m━━━━━━━━━━━━━━━━━━━━━━━━━━━━━━━━━━━━━━━━\u001b[0m \u001b[32m11.3/11.3 MB\u001b[0m \u001b[31m75.7 MB/s\u001b[0m eta \u001b[36m0:00:00\u001b[0m\n",
            "\u001b[?25hCollecting pyreadr==0.4.4\n",
            "  Downloading pyreadr-0.4.4-cp37-cp37m-manylinux_2_17_x86_64.manylinux2014_x86_64.whl (361 kB)\n",
            "\u001b[2K     \u001b[90m━━━━━━━━━━━━━━━━━━━━━━━━━━━━━━━━━━━━━━\u001b[0m \u001b[32m361.7/361.7 kB\u001b[0m \u001b[31m30.0 MB/s\u001b[0m eta \u001b[36m0:00:00\u001b[0m\n",
            "\u001b[?25hCollecting pystempel==1.2.0\n",
            "  Downloading pystempel-1.2.0-py3-none-any.whl (2.7 MB)\n",
            "\u001b[2K     \u001b[90m━━━━━━━━━━━━━━━━━━━━━━━━━━━━━━━━━━━━━━━━\u001b[0m \u001b[32m2.7/2.7 MB\u001b[0m \u001b[31m73.2 MB/s\u001b[0m eta \u001b[36m0:00:00\u001b[0m\n",
            "\u001b[?25hCollecting pytorch-lightning==1.6.0\n",
            "  Downloading pytorch_lightning-1.6.0-py3-none-any.whl (582 kB)\n",
            "\u001b[2K     \u001b[90m━━━━━━━━━━━━━━━━━━━━━━━━━━━━━━━━━━━━━━\u001b[0m \u001b[32m582.1/582.1 kB\u001b[0m \u001b[31m38.5 MB/s\u001b[0m eta \u001b[36m0:00:00\u001b[0m\n",
            "\u001b[?25hCollecting regex==2020.7.14\n",
            "  Downloading regex-2020.7.14-cp37-cp37m-manylinux2010_x86_64.whl (660 kB)\n",
            "\u001b[2K     \u001b[90m━━━━━━━━━━━━━━━━━━━━━━━━━━━━━━━━━━━━━━\u001b[0m \u001b[32m660.4/660.4 kB\u001b[0m \u001b[31m41.6 MB/s\u001b[0m eta \u001b[36m0:00:00\u001b[0m\n",
            "\u001b[?25hCollecting scikit-image==0.18.1\n",
            "  Downloading scikit_image-0.18.1-cp37-cp37m-manylinux1_x86_64.whl (29.2 MB)\n",
            "\u001b[2K     \u001b[90m━━━━━━━━━━━━━━━━━━━━━━━━━━━━━━━━━━━━━━━━\u001b[0m \u001b[32m29.2/29.2 MB\u001b[0m \u001b[31m38.8 MB/s\u001b[0m eta \u001b[36m0:00:00\u001b[0m\n",
            "\u001b[?25hCollecting scikit-learn==1.0.0\n",
            "  Downloading scikit_learn-1.0-cp37-cp37m-manylinux_2_12_x86_64.manylinux2010_x86_64.whl (23.1 MB)\n",
            "\u001b[2K     \u001b[90m━━━━━━━━━━━━━━━━━━━━━━━━━━━━━━━━━━━━━━━━\u001b[0m \u001b[32m23.1/23.1 MB\u001b[0m \u001b[31m49.7 MB/s\u001b[0m eta \u001b[36m0:00:00\u001b[0m\n",
            "\u001b[?25hCollecting scikit-multilearn==0.2.0\n",
            "  Downloading scikit_multilearn-0.2.0-py3-none-any.whl (89 kB)\n",
            "\u001b[2K     \u001b[90m━━━━━━━━━━━━━━━━━━━━━━━━━━━━━━━━━━━━━━━━\u001b[0m \u001b[32m89.4/89.4 kB\u001b[0m \u001b[31m9.9 MB/s\u001b[0m eta \u001b[36m0:00:00\u001b[0m\n",
            "\u001b[?25hCollecting scikit-surprise==1.1.1\n",
            "  Downloading scikit-surprise-1.1.1.tar.gz (11.8 MB)\n",
            "\u001b[2K     \u001b[90m━━━━━━━━━━━━━━━━━━━━━━━━━━━━━━━━━━━━━━━━\u001b[0m \u001b[32m11.8/11.8 MB\u001b[0m \u001b[31m71.3 MB/s\u001b[0m eta \u001b[36m0:00:00\u001b[0m\n",
            "\u001b[?25h  Preparing metadata (setup.py) ... \u001b[?25l\u001b[?25hdone\n",
            "Requirement already satisfied: scipy==1.7.3 in /usr/local/lib/python3.7/dist-packages (from -r /content/job-ads-classifier/requirements-py37-colab.txt (line 16)) (1.7.3)\n",
            "Collecting stop-words==2018.7.23\n",
            "  Downloading stop-words-2018.7.23.tar.gz (31 kB)\n",
            "  Preparing metadata (setup.py) ... \u001b[?25l\u001b[?25hdone\n",
            "Requirement already satisfied: tensorboard<2.10,>=2.9 in /usr/local/lib/python3.7/dist-packages (from -r /content/job-ads-classifier/requirements-py37-colab.txt (line 19)) (2.9.1)\n",
            "Collecting matplotlib==3.5.1\n",
            "  Downloading matplotlib-3.5.1-cp37-cp37m-manylinux_2_5_x86_64.manylinux1_x86_64.whl (11.2 MB)\n",
            "\u001b[2K     \u001b[90m━━━━━━━━━━━━━━━━━━━━━━━━━━━━━━━━━━━━━━━━\u001b[0m \u001b[32m11.2/11.2 MB\u001b[0m \u001b[31m73.3 MB/s\u001b[0m eta \u001b[36m0:00:00\u001b[0m\n",
            "\u001b[?25hCollecting tokenizers==0.10.3\n",
            "  Downloading tokenizers-0.10.3-cp37-cp37m-manylinux_2_5_x86_64.manylinux1_x86_64.manylinux_2_12_x86_64.manylinux2010_x86_64.whl (3.3 MB)\n",
            "\u001b[2K     \u001b[90m━━━━━━━━━━━━━━━━━━━━━━━━━━━━━━━━━━━━━━━━\u001b[0m \u001b[32m3.3/3.3 MB\u001b[0m \u001b[31m77.4 MB/s\u001b[0m eta \u001b[36m0:00:00\u001b[0m\n",
            "\u001b[?25hCollecting torchmetrics==0.7.0\n",
            "  Downloading torchmetrics-0.7.0-py3-none-any.whl (396 kB)\n",
            "\u001b[2K     \u001b[90m━━━━━━━━━━━━━━━━━━━━━━━━━━━━━━━━━━━━━━\u001b[0m \u001b[32m396.6/396.6 kB\u001b[0m \u001b[31m31.7 MB/s\u001b[0m eta \u001b[36m0:00:00\u001b[0m\n",
            "\u001b[?25hCollecting transformers==4.15.0\n",
            "  Downloading transformers-4.15.0-py3-none-any.whl (3.4 MB)\n",
            "\u001b[2K     \u001b[90m━━━━━━━━━━━━━━━━━━━━━━━━━━━━━━━━━━━━━━━━\u001b[0m \u001b[32m3.4/3.4 MB\u001b[0m \u001b[31m72.1 MB/s\u001b[0m eta \u001b[36m0:00:00\u001b[0m\n",
            "\u001b[?25hRequirement already satisfied: tqdm>=4.57.0 in /usr/local/lib/python3.7/dist-packages (from -r /content/job-ads-classifier/requirements-py37-colab.txt (line 24)) (4.64.1)\n",
            "Collecting xlrd==1.2.0\n",
            "  Downloading xlrd-1.2.0-py2.py3-none-any.whl (103 kB)\n",
            "\u001b[2K     \u001b[90m━━━━━━━━━━━━━━━━━━━━━━━━━━━━━━━━━━━━━━\u001b[0m \u001b[32m103.3/103.3 kB\u001b[0m \u001b[31m12.2 MB/s\u001b[0m eta \u001b[36m0:00:00\u001b[0m\n",
            "\u001b[?25hRequirement already satisfied: itsdangerous<2.0,>=0.24 in /usr/local/lib/python3.7/dist-packages (from -r /content/job-ads-classifier/requirements-py37-colab.txt (line 26)) (1.1.0)\n",
            "Requirement already satisfied: importlib-metadata in /usr/local/lib/python3.7/dist-packages (from huggingface-hub==0.4.0->-r /content/job-ads-classifier/requirements-py37-colab.txt (line 2)) (4.13.0)\n",
            "Requirement already satisfied: packaging>=20.9 in /usr/local/lib/python3.7/dist-packages (from huggingface-hub==0.4.0->-r /content/job-ads-classifier/requirements-py37-colab.txt (line 2)) (21.3)\n",
            "Requirement already satisfied: pyyaml in /usr/local/lib/python3.7/dist-packages (from huggingface-hub==0.4.0->-r /content/job-ads-classifier/requirements-py37-colab.txt (line 2)) (6.0)\n",
            "Requirement already satisfied: filelock in /usr/local/lib/python3.7/dist-packages (from huggingface-hub==0.4.0->-r /content/job-ads-classifier/requirements-py37-colab.txt (line 2)) (3.8.0)\n",
            "Requirement already satisfied: requests in /usr/local/lib/python3.7/dist-packages (from huggingface-hub==0.4.0->-r /content/job-ads-classifier/requirements-py37-colab.txt (line 2)) (2.23.0)\n",
            "Requirement already satisfied: typing-extensions>=3.7.4.3 in /usr/local/lib/python3.7/dist-packages (from huggingface-hub==0.4.0->-r /content/job-ads-classifier/requirements-py37-colab.txt (line 2)) (4.1.1)\n",
            "Requirement already satisfied: six>=1.13.0 in /usr/local/lib/python3.7/dist-packages (from jsbeautifier==1.14.0->-r /content/job-ads-classifier/requirements-py37-colab.txt (line 3)) (1.15.0)\n",
            "Collecting editorconfig>=0.12.2\n",
            "  Downloading EditorConfig-0.12.3-py3-none-any.whl (16 kB)\n",
            "Requirement already satisfied: gdown in /usr/local/lib/python3.7/dist-packages (from napkinxc==0.6.0->-r /content/job-ads-classifier/requirements-py37-colab.txt (line 4)) (4.4.0)\n",
            "Requirement already satisfied: click in /usr/local/lib/python3.7/dist-packages (from nltk==3.5->-r /content/job-ads-classifier/requirements-py37-colab.txt (line 5)) (7.1.2)\n",
            "Requirement already satisfied: joblib in /usr/local/lib/python3.7/dist-packages (from nltk==3.5->-r /content/job-ads-classifier/requirements-py37-colab.txt (line 5)) (1.2.0)\n",
            "Requirement already satisfied: pytz>=2017.3 in /usr/local/lib/python3.7/dist-packages (from pandas==1.3.4->-r /content/job-ads-classifier/requirements-py37-colab.txt (line 7)) (2022.5)\n",
            "Requirement already satisfied: python-dateutil>=2.7.3 in /usr/local/lib/python3.7/dist-packages (from pandas==1.3.4->-r /content/job-ads-classifier/requirements-py37-colab.txt (line 7)) (2.8.2)\n",
            "Requirement already satisfied: sortedcontainers in /usr/local/lib/python3.7/dist-packages (from pystempel==1.2.0->-r /content/job-ads-classifier/requirements-py37-colab.txt (line 9)) (2.4.0)\n",
            "Requirement already satisfied: fsspec[http]!=2021.06.0,>=2021.05.0 in /usr/local/lib/python3.7/dist-packages (from pytorch-lightning==1.6.0->-r /content/job-ads-classifier/requirements-py37-colab.txt (line 10)) (2022.10.0)\n",
            "Requirement already satisfied: torch>=1.8.* in /usr/local/lib/python3.7/dist-packages (from pytorch-lightning==1.6.0->-r /content/job-ads-classifier/requirements-py37-colab.txt (line 10)) (1.12.1+cu113)\n",
            "Collecting pyDeprecate<0.4.0,>=0.3.1\n",
            "  Downloading pyDeprecate-0.3.2-py3-none-any.whl (10 kB)\n",
            "Requirement already satisfied: pillow!=7.1.0,!=7.1.1,>=4.3.0 in /usr/local/lib/python3.7/dist-packages (from scikit-image==0.18.1->-r /content/job-ads-classifier/requirements-py37-colab.txt (line 12)) (7.1.2)\n",
            "Requirement already satisfied: tifffile>=2019.7.26 in /usr/local/lib/python3.7/dist-packages (from scikit-image==0.18.1->-r /content/job-ads-classifier/requirements-py37-colab.txt (line 12)) (2021.11.2)\n",
            "Requirement already satisfied: networkx>=2.0 in /usr/local/lib/python3.7/dist-packages (from scikit-image==0.18.1->-r /content/job-ads-classifier/requirements-py37-colab.txt (line 12)) (2.6.3)\n",
            "Requirement already satisfied: PyWavelets>=1.1.1 in /usr/local/lib/python3.7/dist-packages (from scikit-image==0.18.1->-r /content/job-ads-classifier/requirements-py37-colab.txt (line 12)) (1.3.0)\n",
            "Requirement already satisfied: imageio>=2.3.0 in /usr/local/lib/python3.7/dist-packages (from scikit-image==0.18.1->-r /content/job-ads-classifier/requirements-py37-colab.txt (line 12)) (2.9.0)\n",
            "Requirement already satisfied: threadpoolctl>=2.0.0 in /usr/local/lib/python3.7/dist-packages (from scikit-learn==1.0.0->-r /content/job-ads-classifier/requirements-py37-colab.txt (line 13)) (3.1.0)\n",
            "Requirement already satisfied: pyparsing>=2.2.1 in /usr/local/lib/python3.7/dist-packages (from matplotlib==3.5.1->-r /content/job-ads-classifier/requirements-py37-colab.txt (line 20)) (3.0.9)\n",
            "Requirement already satisfied: kiwisolver>=1.0.1 in /usr/local/lib/python3.7/dist-packages (from matplotlib==3.5.1->-r /content/job-ads-classifier/requirements-py37-colab.txt (line 20)) (1.4.4)\n",
            "Requirement already satisfied: cycler>=0.10 in /usr/local/lib/python3.7/dist-packages (from matplotlib==3.5.1->-r /content/job-ads-classifier/requirements-py37-colab.txt (line 20)) (0.11.0)\n",
            "Collecting fonttools>=4.22.0\n",
            "  Downloading fonttools-4.38.0-py3-none-any.whl (965 kB)\n",
            "\u001b[2K     \u001b[90m━━━━━━━━━━━━━━━━━━━━━━━━━━━━━━━━━━━━━━\u001b[0m \u001b[32m965.4/965.4 kB\u001b[0m \u001b[31m51.3 MB/s\u001b[0m eta \u001b[36m0:00:00\u001b[0m\n",
            "\u001b[?25hCollecting sacremoses\n",
            "  Downloading sacremoses-0.0.53.tar.gz (880 kB)\n",
            "\u001b[2K     \u001b[90m━━━━━━━━━━━━━━━━━━━━━━━━━━━━━━━━━━━━━━\u001b[0m \u001b[32m880.6/880.6 kB\u001b[0m \u001b[31m51.0 MB/s\u001b[0m eta \u001b[36m0:00:00\u001b[0m\n",
            "\u001b[?25h  Preparing metadata (setup.py) ... \u001b[?25l\u001b[?25hdone\n",
            "Requirement already satisfied: tensorboard-plugin-wit>=1.6.0 in /usr/local/lib/python3.7/dist-packages (from tensorboard<2.10,>=2.9->-r /content/job-ads-classifier/requirements-py37-colab.txt (line 19)) (1.8.1)\n",
            "Requirement already satisfied: markdown>=2.6.8 in /usr/local/lib/python3.7/dist-packages (from tensorboard<2.10,>=2.9->-r /content/job-ads-classifier/requirements-py37-colab.txt (line 19)) (3.4.1)\n",
            "Requirement already satisfied: werkzeug>=1.0.1 in /usr/local/lib/python3.7/dist-packages (from tensorboard<2.10,>=2.9->-r /content/job-ads-classifier/requirements-py37-colab.txt (line 19)) (1.0.1)\n",
            "Requirement already satisfied: google-auth<3,>=1.6.3 in /usr/local/lib/python3.7/dist-packages (from tensorboard<2.10,>=2.9->-r /content/job-ads-classifier/requirements-py37-colab.txt (line 19)) (1.35.0)\n",
            "Requirement already satisfied: setuptools>=41.0.0 in /usr/local/lib/python3.7/dist-packages (from tensorboard<2.10,>=2.9->-r /content/job-ads-classifier/requirements-py37-colab.txt (line 19)) (57.4.0)\n",
            "Requirement already satisfied: grpcio>=1.24.3 in /usr/local/lib/python3.7/dist-packages (from tensorboard<2.10,>=2.9->-r /content/job-ads-classifier/requirements-py37-colab.txt (line 19)) (1.50.0)\n",
            "Requirement already satisfied: protobuf<3.20,>=3.9.2 in /usr/local/lib/python3.7/dist-packages (from tensorboard<2.10,>=2.9->-r /content/job-ads-classifier/requirements-py37-colab.txt (line 19)) (3.17.3)\n",
            "Requirement already satisfied: google-auth-oauthlib<0.5,>=0.4.1 in /usr/local/lib/python3.7/dist-packages (from tensorboard<2.10,>=2.9->-r /content/job-ads-classifier/requirements-py37-colab.txt (line 19)) (0.4.6)\n",
            "Requirement already satisfied: tensorboard-data-server<0.7.0,>=0.6.0 in /usr/local/lib/python3.7/dist-packages (from tensorboard<2.10,>=2.9->-r /content/job-ads-classifier/requirements-py37-colab.txt (line 19)) (0.6.1)\n",
            "Requirement already satisfied: absl-py>=0.4 in /usr/local/lib/python3.7/dist-packages (from tensorboard<2.10,>=2.9->-r /content/job-ads-classifier/requirements-py37-colab.txt (line 19)) (1.3.0)\n",
            "Requirement already satisfied: wheel>=0.26 in /usr/local/lib/python3.7/dist-packages (from tensorboard<2.10,>=2.9->-r /content/job-ads-classifier/requirements-py37-colab.txt (line 19)) (0.37.1)\n",
            "Requirement already satisfied: aiohttp!=4.0.0a0,!=4.0.0a1 in /usr/local/lib/python3.7/dist-packages (from fsspec[http]!=2021.06.0,>=2021.05.0->pytorch-lightning==1.6.0->-r /content/job-ads-classifier/requirements-py37-colab.txt (line 10)) (3.8.3)\n",
            "Requirement already satisfied: cachetools<5.0,>=2.0.0 in /usr/local/lib/python3.7/dist-packages (from google-auth<3,>=1.6.3->tensorboard<2.10,>=2.9->-r /content/job-ads-classifier/requirements-py37-colab.txt (line 19)) (4.2.4)\n",
            "Requirement already satisfied: rsa<5,>=3.1.4 in /usr/local/lib/python3.7/dist-packages (from google-auth<3,>=1.6.3->tensorboard<2.10,>=2.9->-r /content/job-ads-classifier/requirements-py37-colab.txt (line 19)) (4.9)\n",
            "Requirement already satisfied: pyasn1-modules>=0.2.1 in /usr/local/lib/python3.7/dist-packages (from google-auth<3,>=1.6.3->tensorboard<2.10,>=2.9->-r /content/job-ads-classifier/requirements-py37-colab.txt (line 19)) (0.2.8)\n",
            "Requirement already satisfied: requests-oauthlib>=0.7.0 in /usr/local/lib/python3.7/dist-packages (from google-auth-oauthlib<0.5,>=0.4.1->tensorboard<2.10,>=2.9->-r /content/job-ads-classifier/requirements-py37-colab.txt (line 19)) (1.3.1)\n",
            "Requirement already satisfied: zipp>=0.5 in /usr/local/lib/python3.7/dist-packages (from importlib-metadata->huggingface-hub==0.4.0->-r /content/job-ads-classifier/requirements-py37-colab.txt (line 2)) (3.9.0)\n",
            "Requirement already satisfied: urllib3!=1.25.0,!=1.25.1,<1.26,>=1.21.1 in /usr/local/lib/python3.7/dist-packages (from requests->huggingface-hub==0.4.0->-r /content/job-ads-classifier/requirements-py37-colab.txt (line 2)) (1.24.3)\n",
            "Requirement already satisfied: idna<3,>=2.5 in /usr/local/lib/python3.7/dist-packages (from requests->huggingface-hub==0.4.0->-r /content/job-ads-classifier/requirements-py37-colab.txt (line 2)) (2.10)\n",
            "Requirement already satisfied: chardet<4,>=3.0.2 in /usr/local/lib/python3.7/dist-packages (from requests->huggingface-hub==0.4.0->-r /content/job-ads-classifier/requirements-py37-colab.txt (line 2)) (3.0.4)\n",
            "Requirement already satisfied: certifi>=2017.4.17 in /usr/local/lib/python3.7/dist-packages (from requests->huggingface-hub==0.4.0->-r /content/job-ads-classifier/requirements-py37-colab.txt (line 2)) (2022.9.24)\n",
            "Requirement already satisfied: beautifulsoup4 in /usr/local/lib/python3.7/dist-packages (from gdown->napkinxc==0.6.0->-r /content/job-ads-classifier/requirements-py37-colab.txt (line 4)) (4.6.3)\n",
            "Requirement already satisfied: attrs>=17.3.0 in /usr/local/lib/python3.7/dist-packages (from aiohttp!=4.0.0a0,!=4.0.0a1->fsspec[http]!=2021.06.0,>=2021.05.0->pytorch-lightning==1.6.0->-r /content/job-ads-classifier/requirements-py37-colab.txt (line 10)) (22.1.0)\n",
            "Requirement already satisfied: aiosignal>=1.1.2 in /usr/local/lib/python3.7/dist-packages (from aiohttp!=4.0.0a0,!=4.0.0a1->fsspec[http]!=2021.06.0,>=2021.05.0->pytorch-lightning==1.6.0->-r /content/job-ads-classifier/requirements-py37-colab.txt (line 10)) (1.2.0)\n",
            "Requirement already satisfied: asynctest==0.13.0 in /usr/local/lib/python3.7/dist-packages (from aiohttp!=4.0.0a0,!=4.0.0a1->fsspec[http]!=2021.06.0,>=2021.05.0->pytorch-lightning==1.6.0->-r /content/job-ads-classifier/requirements-py37-colab.txt (line 10)) (0.13.0)\n",
            "Requirement already satisfied: async-timeout<5.0,>=4.0.0a3 in /usr/local/lib/python3.7/dist-packages (from aiohttp!=4.0.0a0,!=4.0.0a1->fsspec[http]!=2021.06.0,>=2021.05.0->pytorch-lightning==1.6.0->-r /content/job-ads-classifier/requirements-py37-colab.txt (line 10)) (4.0.2)\n",
            "Requirement already satisfied: multidict<7.0,>=4.5 in /usr/local/lib/python3.7/dist-packages (from aiohttp!=4.0.0a0,!=4.0.0a1->fsspec[http]!=2021.06.0,>=2021.05.0->pytorch-lightning==1.6.0->-r /content/job-ads-classifier/requirements-py37-colab.txt (line 10)) (6.0.2)\n",
            "Requirement already satisfied: yarl<2.0,>=1.0 in /usr/local/lib/python3.7/dist-packages (from aiohttp!=4.0.0a0,!=4.0.0a1->fsspec[http]!=2021.06.0,>=2021.05.0->pytorch-lightning==1.6.0->-r /content/job-ads-classifier/requirements-py37-colab.txt (line 10)) (1.8.1)\n",
            "Requirement already satisfied: charset-normalizer<3.0,>=2.0 in /usr/local/lib/python3.7/dist-packages (from aiohttp!=4.0.0a0,!=4.0.0a1->fsspec[http]!=2021.06.0,>=2021.05.0->pytorch-lightning==1.6.0->-r /content/job-ads-classifier/requirements-py37-colab.txt (line 10)) (2.1.1)\n",
            "Requirement already satisfied: frozenlist>=1.1.1 in /usr/local/lib/python3.7/dist-packages (from aiohttp!=4.0.0a0,!=4.0.0a1->fsspec[http]!=2021.06.0,>=2021.05.0->pytorch-lightning==1.6.0->-r /content/job-ads-classifier/requirements-py37-colab.txt (line 10)) (1.3.1)\n",
            "Requirement already satisfied: pyasn1<0.5.0,>=0.4.6 in /usr/local/lib/python3.7/dist-packages (from pyasn1-modules>=0.2.1->google-auth<3,>=1.6.3->tensorboard<2.10,>=2.9->-r /content/job-ads-classifier/requirements-py37-colab.txt (line 19)) (0.4.8)\n",
            "Requirement already satisfied: oauthlib>=3.0.0 in /usr/local/lib/python3.7/dist-packages (from requests-oauthlib>=0.7.0->google-auth-oauthlib<0.5,>=0.4.1->tensorboard<2.10,>=2.9->-r /content/job-ads-classifier/requirements-py37-colab.txt (line 19)) (3.2.2)\n",
            "Requirement already satisfied: PySocks!=1.5.7,>=1.5.6 in /usr/local/lib/python3.7/dist-packages (from requests->huggingface-hub==0.4.0->-r /content/job-ads-classifier/requirements-py37-colab.txt (line 2)) (1.7.1)\n",
            "Building wheels for collected packages: jsbeautifier, nltk, scikit-surprise, stop-words, sacremoses\n",
            "  Building wheel for jsbeautifier (pyproject.toml) ... \u001b[?25l\u001b[?25hdone\n",
            "  Created wheel for jsbeautifier: filename=jsbeautifier-1.14.0-py3-none-any.whl size=91951 sha256=2ebdae5f7b4e7925a5c6ae5468d1a86dd6c66ae63f4c0e023c06a8e296b6623f\n",
            "  Stored in directory: /root/.cache/pip/wheels/33/e0/98/aefab0b2c82e4fcc641c4051cc182eb0700b854a32df05d25e\n",
            "  Building wheel for nltk (setup.py) ... \u001b[?25l\u001b[?25hdone\n",
            "  Created wheel for nltk: filename=nltk-3.5-py3-none-any.whl size=1434690 sha256=5b47987ed684a199ff1ef819fb894e1f43394e13aa09df2ca213eecdb3bef2a5\n",
            "  Stored in directory: /root/.cache/pip/wheels/f8/59/cf/f7a731f600bcb19a6c61225ff7feb4ed00f2701446fdf51b07\n",
            "  Building wheel for scikit-surprise (setup.py) ... \u001b[?25l\u001b[?25hdone\n",
            "  Created wheel for scikit-surprise: filename=scikit_surprise-1.1.1-cp37-cp37m-linux_x86_64.whl size=1633953 sha256=a8a62fdaabd4c2a123818721e8423814b6945d935d8ca2dd58d78c0caac786ee\n",
            "  Stored in directory: /root/.cache/pip/wheels/45/cc/aa/02a53fc2982d55288bb9d37a397fdbf8552f193a10ba357074\n",
            "  Building wheel for stop-words (setup.py) ... \u001b[?25l\u001b[?25hdone\n",
            "  Created wheel for stop-words: filename=stop_words-2018.7.23-py3-none-any.whl size=32911 sha256=ec57afa755db6af8de2e7818f55aacf8600f2f81eb55f2e1a92bdfb7bece6091\n",
            "  Stored in directory: /root/.cache/pip/wheels/70/a7/6b/d7bbc2540e5534dc58ee21f8effdce8bb143370b2dc957d822\n",
            "  Building wheel for sacremoses (setup.py) ... \u001b[?25l\u001b[?25hdone\n",
            "  Created wheel for sacremoses: filename=sacremoses-0.0.53-py3-none-any.whl size=895260 sha256=8a76bb299081b5c60654904b101c46a2d8a3c0e914f98c3951dca94faa22c6ae\n",
            "  Stored in directory: /root/.cache/pip/wheels/5b/e0/77/05245143a5b31f65af6a21f7afd3219e9fa4896f918af45677\n",
            "Successfully built jsbeautifier nltk scikit-surprise stop-words sacremoses\n",
            "Installing collected packages: tokenizers, stop-words, scikit-multilearn, regex, editorconfig, xlrd, sacremoses, pystempel, pyDeprecate, nltk, jsbeautifier, fonttools, torchmetrics, scikit-surprise, scikit-learn, pandas, matplotlib, huggingface-hub, transformers, scikit-image, pyreadr, napkinxc, pytorch-lightning\n",
            "  Attempting uninstall: regex\n",
            "    Found existing installation: regex 2022.6.2\n",
            "    Uninstalling regex-2022.6.2:\n",
            "      Successfully uninstalled regex-2022.6.2\n",
            "  Attempting uninstall: xlrd\n",
            "    Found existing installation: xlrd 1.1.0\n",
            "    Uninstalling xlrd-1.1.0:\n",
            "      Successfully uninstalled xlrd-1.1.0\n",
            "  Attempting uninstall: nltk\n",
            "    Found existing installation: nltk 3.7\n",
            "    Uninstalling nltk-3.7:\n",
            "      Successfully uninstalled nltk-3.7\n",
            "  Attempting uninstall: scikit-learn\n",
            "    Found existing installation: scikit-learn 1.0.2\n",
            "    Uninstalling scikit-learn-1.0.2:\n",
            "      Successfully uninstalled scikit-learn-1.0.2\n",
            "  Attempting uninstall: pandas\n",
            "    Found existing installation: pandas 1.3.5\n",
            "    Uninstalling pandas-1.3.5:\n",
            "      Successfully uninstalled pandas-1.3.5\n",
            "  Attempting uninstall: matplotlib\n",
            "    Found existing installation: matplotlib 3.2.2\n",
            "    Uninstalling matplotlib-3.2.2:\n",
            "      Successfully uninstalled matplotlib-3.2.2\n",
            "  Attempting uninstall: scikit-image\n",
            "    Found existing installation: scikit-image 0.18.3\n",
            "    Uninstalling scikit-image-0.18.3:\n",
            "      Successfully uninstalled scikit-image-0.18.3\n",
            "Successfully installed editorconfig-0.12.3 fonttools-4.38.0 huggingface-hub-0.4.0 jsbeautifier-1.14.0 matplotlib-3.5.1 napkinxc-0.6.0 nltk-3.5 pandas-1.3.4 pyDeprecate-0.3.2 pyreadr-0.4.4 pystempel-1.2.0 pytorch-lightning-1.6.0 regex-2020.7.14 sacremoses-0.0.53 scikit-image-0.18.1 scikit-learn-1.0 scikit-multilearn-0.2.0 scikit-surprise-1.1.1 stop-words-2018.7.23 tokenizers-0.10.3 torchmetrics-0.7.0 transformers-4.15.0 xlrd-1.2.0\n",
            "\u001b[33mWARNING: Running pip as the 'root' user can result in broken permissions and conflicting behaviour with the system package manager. It is recommended to use a virtual environment instead: https://pip.pypa.io/warnings/venv\u001b[0m\u001b[33m\n",
            "\u001b[0m"
          ]
        },
        {
          "output_type": "display_data",
          "data": {
            "application/vnd.colab-display-data+json": {
              "pip_warning": {
                "packages": [
                  "matplotlib",
                  "mpl_toolkits"
                ]
              }
            }
          },
          "metadata": {}
        }
      ]
    },
    {
      "cell_type": "markdown",
      "source": [
        "## Wykorzystanie istniejących modeli"
      ],
      "metadata": {
        "id": "fuxpaiMCv66r"
      }
    },
    {
      "cell_type": "markdown",
      "source": [
        "Podajemy ścieżki do odpowiednich folderów."
      ],
      "metadata": {
        "id": "59heofNomnez"
      }
    },
    {
      "cell_type": "code",
      "source": [
        "classifier_dir=\"/content/job-ads-classifier\"\n",
        "models_dir=\"/content/job-ads-classifier/models\""
      ],
      "metadata": {
        "id": "d7SVkAGGkjqV"
      },
      "execution_count": 7,
      "outputs": []
    },
    {
      "cell_type": "markdown",
      "source": [
        "Ładujemy wymagane moduły."
      ],
      "metadata": {
        "id": "lBrdSIQ4wsRI"
      }
    },
    {
      "cell_type": "code",
      "source": [
        "import sys\n",
        "sys.path.insert(1, '/content/job-ads-classifier')"
      ],
      "metadata": {
        "id": "QhaM-XckGxzE"
      },
      "execution_count": 8,
      "outputs": []
    },
    {
      "cell_type": "code",
      "source": [
        "import numpy as np\n",
        "import pandas as pd\n",
        "from job_offers_classifier.load_save import load_to_df, save_obj, load_obj\n",
        "from job_offers_classifier.job_offers_classfier import *\n",
        "import torch\n",
        "from torchmetrics import MetricCollection, Recall, Accuracy, ConfusionMatrix\n",
        "execfile(f\"{classifier_dir}/functions.py\")"
      ],
      "metadata": {
        "id": "oB8NFIKswxje"
      },
      "execution_count": 9,
      "outputs": []
    },
    {
      "cell_type": "markdown",
      "source": [
        "Pobieramy oferty pracy z nabory KPRM na potrzeby przykładu."
      ],
      "metadata": {
        "id": "1vVguSR1wwWW"
      }
    },
    {
      "cell_type": "code",
      "source": [
        "kprm_df = pd.read_xml(f\"{classifier_dir}/example-data/kprm-2022-10-21.xml\", xpath = \"./new/oferta\")\n",
        "kprm_df = kprm_df.replace(\"\\\\<\\\\!\\\\[CDATA\\\\[ \", \"\", regex=True)\n",
        "kprm_df = kprm_df.replace(\" \\\\]\\\\]\\\\>\", \"\", regex=True)\n",
        "kprm_df = kprm_df.replace(r'<[^<>]*>', ' ', regex=True)\n",
        "kprm_df = kprm_df.replace('&nbsp;', ' ', regex=True)\n",
        "kprm_df = kprm_df.replace('&dash;', ' ', regex=True)\n",
        "kprm_df = kprm_df.replace('&oacute;', ' ', regex=True)\n",
        "kprm_df = kprm_df.replace('\\r', ' ', regex=True)\n",
        "kprm_df['desc'] = kprm_df[['stanowisko', 'do_spraw', 'nazwa_firmy', 'poledodatkowelista1', 'poledodatkowelista3']].apply(lambda row: ' '.join(row.values.astype(str)), axis=1)\n",
        "kprm_df[[\"unid\", \"nazwa_firmy\", \"stanowisko\", \"do_spraw\", \"poledodatkowelista1\", \"poledodatkowelista3\"]].head(n=2)"
      ],
      "metadata": {
        "colab": {
          "base_uri": "https://localhost:8080/",
          "height": 189
        },
        "id": "Wy8oi59nwreR",
        "outputId": "340d983f-cc8f-4859-d265-6138f539d2ee"
      },
      "execution_count": 10,
      "outputs": [
        {
          "output_type": "execute_result",
          "data": {
            "text/plain": [
              "     unid                                        nazwa_firmy   stanowisko  \\\n",
              "0  108903                      Główny Urząd Miar w Warszawie     metrolog   \n",
              "1  108902  Ministerstwo Rodziny i Polityki Społecznej w W...  referendarz   \n",
              "\n",
              "                                            do_spraw  \\\n",
              "0  pomiarów w dziedzinie akustyki w Świętokrzyski...   \n",
              "1                            współpracy prawnej FGŚP   \n",
              "\n",
              "                                 poledodatkowelista1  \\\n",
              "0    bierze udział w pracach badawczych, rozwojow...   \n",
              "1    ­Bierze udział w pracach legislacyjnych doty...   \n",
              "\n",
              "                                 poledodatkowelista3  \n",
              "0    * MIEJSCE WYKONYWANIA PRACY      Warszawa, u...  \n",
              "1      Praca administracyjno-biurowa.    Opracowy...  "
            ],
            "text/html": [
              "\n",
              "  <div id=\"df-47ea614f-577a-40a0-be6c-26b2e34e365d\">\n",
              "    <div class=\"colab-df-container\">\n",
              "      <div>\n",
              "<style scoped>\n",
              "    .dataframe tbody tr th:only-of-type {\n",
              "        vertical-align: middle;\n",
              "    }\n",
              "\n",
              "    .dataframe tbody tr th {\n",
              "        vertical-align: top;\n",
              "    }\n",
              "\n",
              "    .dataframe thead th {\n",
              "        text-align: right;\n",
              "    }\n",
              "</style>\n",
              "<table border=\"1\" class=\"dataframe\">\n",
              "  <thead>\n",
              "    <tr style=\"text-align: right;\">\n",
              "      <th></th>\n",
              "      <th>unid</th>\n",
              "      <th>nazwa_firmy</th>\n",
              "      <th>stanowisko</th>\n",
              "      <th>do_spraw</th>\n",
              "      <th>poledodatkowelista1</th>\n",
              "      <th>poledodatkowelista3</th>\n",
              "    </tr>\n",
              "  </thead>\n",
              "  <tbody>\n",
              "    <tr>\n",
              "      <th>0</th>\n",
              "      <td>108903</td>\n",
              "      <td>Główny Urząd Miar w Warszawie</td>\n",
              "      <td>metrolog</td>\n",
              "      <td>pomiarów w dziedzinie akustyki w Świętokrzyski...</td>\n",
              "      <td>bierze udział w pracach badawczych, rozwojow...</td>\n",
              "      <td>* MIEJSCE WYKONYWANIA PRACY      Warszawa, u...</td>\n",
              "    </tr>\n",
              "    <tr>\n",
              "      <th>1</th>\n",
              "      <td>108902</td>\n",
              "      <td>Ministerstwo Rodziny i Polityki Społecznej w W...</td>\n",
              "      <td>referendarz</td>\n",
              "      <td>współpracy prawnej FGŚP</td>\n",
              "      <td>­Bierze udział w pracach legislacyjnych doty...</td>\n",
              "      <td>Praca administracyjno-biurowa.    Opracowy...</td>\n",
              "    </tr>\n",
              "  </tbody>\n",
              "</table>\n",
              "</div>\n",
              "      <button class=\"colab-df-convert\" onclick=\"convertToInteractive('df-47ea614f-577a-40a0-be6c-26b2e34e365d')\"\n",
              "              title=\"Convert this dataframe to an interactive table.\"\n",
              "              style=\"display:none;\">\n",
              "        \n",
              "  <svg xmlns=\"http://www.w3.org/2000/svg\" height=\"24px\"viewBox=\"0 0 24 24\"\n",
              "       width=\"24px\">\n",
              "    <path d=\"M0 0h24v24H0V0z\" fill=\"none\"/>\n",
              "    <path d=\"M18.56 5.44l.94 2.06.94-2.06 2.06-.94-2.06-.94-.94-2.06-.94 2.06-2.06.94zm-11 1L8.5 8.5l.94-2.06 2.06-.94-2.06-.94L8.5 2.5l-.94 2.06-2.06.94zm10 10l.94 2.06.94-2.06 2.06-.94-2.06-.94-.94-2.06-.94 2.06-2.06.94z\"/><path d=\"M17.41 7.96l-1.37-1.37c-.4-.4-.92-.59-1.43-.59-.52 0-1.04.2-1.43.59L10.3 9.45l-7.72 7.72c-.78.78-.78 2.05 0 2.83L4 21.41c.39.39.9.59 1.41.59.51 0 1.02-.2 1.41-.59l7.78-7.78 2.81-2.81c.8-.78.8-2.07 0-2.86zM5.41 20L4 18.59l7.72-7.72 1.47 1.35L5.41 20z\"/>\n",
              "  </svg>\n",
              "      </button>\n",
              "      \n",
              "  <style>\n",
              "    .colab-df-container {\n",
              "      display:flex;\n",
              "      flex-wrap:wrap;\n",
              "      gap: 12px;\n",
              "    }\n",
              "\n",
              "    .colab-df-convert {\n",
              "      background-color: #E8F0FE;\n",
              "      border: none;\n",
              "      border-radius: 50%;\n",
              "      cursor: pointer;\n",
              "      display: none;\n",
              "      fill: #1967D2;\n",
              "      height: 32px;\n",
              "      padding: 0 0 0 0;\n",
              "      width: 32px;\n",
              "    }\n",
              "\n",
              "    .colab-df-convert:hover {\n",
              "      background-color: #E2EBFA;\n",
              "      box-shadow: 0px 1px 2px rgba(60, 64, 67, 0.3), 0px 1px 3px 1px rgba(60, 64, 67, 0.15);\n",
              "      fill: #174EA6;\n",
              "    }\n",
              "\n",
              "    [theme=dark] .colab-df-convert {\n",
              "      background-color: #3B4455;\n",
              "      fill: #D2E3FC;\n",
              "    }\n",
              "\n",
              "    [theme=dark] .colab-df-convert:hover {\n",
              "      background-color: #434B5C;\n",
              "      box-shadow: 0px 1px 3px 1px rgba(0, 0, 0, 0.15);\n",
              "      filter: drop-shadow(0px 1px 2px rgba(0, 0, 0, 0.3));\n",
              "      fill: #FFFFFF;\n",
              "    }\n",
              "  </style>\n",
              "\n",
              "      <script>\n",
              "        const buttonEl =\n",
              "          document.querySelector('#df-47ea614f-577a-40a0-be6c-26b2e34e365d button.colab-df-convert');\n",
              "        buttonEl.style.display =\n",
              "          google.colab.kernel.accessAllowed ? 'block' : 'none';\n",
              "\n",
              "        async function convertToInteractive(key) {\n",
              "          const element = document.querySelector('#df-47ea614f-577a-40a0-be6c-26b2e34e365d');\n",
              "          const dataTable =\n",
              "            await google.colab.kernel.invokeFunction('convertToInteractive',\n",
              "                                                     [key], {});\n",
              "          if (!dataTable) return;\n",
              "\n",
              "          const docLinkHtml = 'Like what you see? Visit the ' +\n",
              "            '<a target=\"_blank\" href=https://colab.research.google.com/notebooks/data_table.ipynb>data table notebook</a>'\n",
              "            + ' to learn more about interactive tables.';\n",
              "          element.innerHTML = '';\n",
              "          dataTable['output_type'] = 'display_data';\n",
              "          await google.colab.output.renderOutput(dataTable, element);\n",
              "          const docLink = document.createElement('div');\n",
              "          docLink.innerHTML = docLinkHtml;\n",
              "          element.appendChild(docLink);\n",
              "        }\n",
              "      </script>\n",
              "    </div>\n",
              "  </div>\n",
              "  "
            ]
          },
          "metadata": {},
          "execution_count": 10
        }
      ]
    },
    {
      "cell_type": "markdown",
      "source": [
        "Przykładowy opis na potrzeby klasyfikacji."
      ],
      "metadata": {
        "id": "Hp6h7iVZmz5e"
      }
    },
    {
      "cell_type": "code",
      "source": [
        "kprm_df.desc[0]"
      ],
      "metadata": {
        "colab": {
          "base_uri": "https://localhost:8080/",
          "height": 140
        },
        "id": "CtVsiZEUy1K_",
        "outputId": "1839e891-caee-4748-d029-5b883309bccd"
      },
      "execution_count": 11,
      "outputs": [
        {
          "output_type": "execute_result",
          "data": {
            "text/plain": [
              "'metrolog pomiarów w dziedzinie akustyki w Świętokrzyskim Kampusie Laboratoryjnym Głównego Urzędu Miar (ŚKLGUM) Główny Urząd Miar w Warszawie   bierze udział w pracach badawczych, rozwojowych i technicznych związanych z tworzeniem nowych  i doskonaleniem istniejących rozwiązań w zakresie wzorców jednostek miar, metod i stanowisk pomiarowych,  automatyzacji stanowisk pomiarowych w celu potwierdzenia możliwości pomiarowych ŚKLGUM  bierze udział w przygotowaniu i uruchomieniu stanowisk pomiarowych w ŚKLGUM w Kielcach, w tym  w szczególności w opracowywaniu dokumentacji technicznej dla nowotworzonego zespołu stanowisk  pomiarowych z komorą bezechową dużą i małą, udział w szkoleniach w zakresie obsługi aparatury pomiarowej na ww.  stanowiskach, pogłębianie wiedzy specjalistycznej z zakresu obsługi budowanych stanowisk pomiarowych  w celu nabycia zaawansowanej wiedzy i umiejętności niezbędnych do profesjonalnego wykonywania  obowiązków w ŚKLGUM  wykonuje prace związane z utrzymywaniem i doskonaleniem państwowego wzorca jednostki miary lub  wzorców odniesienia m.in. poprzez: wyznaczanie charakterystyk metrologicznych i parametrów technicznych wzorca, prowadzenie prac badawczo-rozwojowych, uczestniczenie w porównaniach międzynarodowych  w celu zapewnienia najwyższego poziomu metrologicznego wzorców i powiązania z międzynarodowym  systemem miar, a także potwierdzenia na arenie międzynarodowej możliwości pomiarowych ŚKLGUM  bierze udział w prowadzeniu spraw związanych z transferem wiedzy metrologicznej, w tym w szczególności  przygotowuje referaty i artykuły na konferencje krajowe i międzynarodowe, prowadzi szkolenia specjalistyczne w celu propagowania wiedzy metrologicznej i możliwości pomiarowych ŚKLGUM  bierze udział w audytach wzajemnych („peer review”) w celu potwierdzenia kompetencji technicznych Laboratorium, w szczególności w zakresie pomiarów w komorach bezechowych  opracowuje, sprawdza i aktualizuje dokumenty systemu zarządzania dotyczące stanowisk  pomiarowych (instrukcje wzorcowania, karty wyposażenia, harmonogramy wzorcowania) w celu zapewnienia  efektywnej realizacji możliwości pracy Laboratorium, w szczególności w zakresie pomiarów w komorach  bezechowych  realizuje pomiary w zakresie wzorcowania przyrządów oraz przygotowuje dokumentację procesu wzorcowania w celu potwierdzenia możliwości pomiarowych ŚKLGUM  przygotowuje dane potrzebne do planów: zadań metrologicznych, współpracy z zagranicą,  szkoleniowego, inwestycyjnego itp.     * MIEJSCE WYKONYWANIA PRACY      Warszawa, ul. Elektoralna 2 (do dnia uruchomienia Świętokrzyskiego Kampusu Laboratoryjnego Gł wnego Urzędu Miar)      Kielce (od dnia uruchomienia Świętokrzyskiego Kampusu Laboratoryjnego Gł wnego Urzędu Miar, kt re planowane jest w 2023 roku).     Praca administracyjno-biurowa polegająca m.in. na opracowywaniu dokument w, obsłudze urządzeń biurowych, czynnościach koncepcyjnych. Czas pracy przy monitorze ekranowym powyżej 4 godz. dziennie, przy naturalnym i sztucznym oświetleniu. Praca w szczeg lnie trudnych warunkach środowiskowych. Zagrożenie korupcją. Krajowe lub zagraniczne wyjazdy służbowe. Permanentna obsługa klient w zewnętrznych (spoza administracji, np. obywatele, przedsiębiorstwa) lub przeprowadzanie kontroli w innych urzędach.    W budynku znajduje się winda, są także łazienki dostosowane do os b poruszających się na w zku inwalidzkim. '"
            ],
            "application/vnd.google.colaboratory.intrinsic+json": {
              "type": "string"
            }
          },
          "metadata": {},
          "execution_count": 11
        }
      ]
    },
    {
      "cell_type": "markdown",
      "source": [
        "### Wykorzystujemy model regresji logistycznej\n",
        "\n",
        "Tutaj nazywamy to modelem liniowym."
      ],
      "metadata": {
        "id": "xAUjwi0Fv87j"
      }
    },
    {
      "cell_type": "code",
      "source": [
        "model_paper_linear = LinearJobOffersClassifier()\n",
        "model_paper_linear.load(f\"{models_dir}/linear_model\")"
      ],
      "metadata": {
        "colab": {
          "base_uri": "https://localhost:8080/"
        },
        "id": "8uNY-wHjlFv8",
        "outputId": "ec18ee33-299a-4349-ae33-febc3ac79e54"
      },
      "execution_count": 12,
      "outputs": [
        {
          "output_type": "stream",
          "name": "stderr",
          "text": [
            "/usr/local/lib/python3.7/dist-packages/sklearn/base.py:333: UserWarning: Trying to unpickle estimator TfidfTransformer from version 0.23.2 when using version 1.0. This might lead to breaking code or invalid results. Use at your own risk. For more info please refer to:\n",
            "https://scikit-learn.org/stable/modules/model_persistence.html#security-maintainability-limitations\n",
            "  UserWarning,\n",
            "/usr/local/lib/python3.7/dist-packages/sklearn/base.py:333: UserWarning: Trying to unpickle estimator TfidfVectorizer from version 0.23.2 when using version 1.0. This might lead to breaking code or invalid results. Use at your own risk. For more info please refer to:\n",
            "https://scikit-learn.org/stable/modules/model_persistence.html#security-maintainability-limitations\n",
            "  UserWarning,\n"
          ]
        }
      ]
    },
    {
      "cell_type": "markdown",
      "source": [
        "Predykcja z wykorzystaniem metody `predict`. Argumenty:\n",
        "+ `X_text` -- opisy zawodów\n",
        "+ `output_level` -- podajemy poziom KSiZ (0=1 cyfra, 1=2 cyfry, 3=4 cyfry, 5 lub \"last\" - 6 cyfr)\n",
        "+ `format` -- podajemy format wynikowy (`dataframe` albo `array`)"
      ],
      "metadata": {
        "id": "r0gv_REkm_te"
      }
    },
    {
      "cell_type": "code",
      "source": [
        "kprm_df_zaw1 = model_paper_linear.predict(\n",
        "    X_text=list(kprm_df[\"desc\"]),\n",
        "    output_level=0,\n",
        "    format=\"dataframe\"\n",
        ")\n",
        "\n",
        "kprm_df_zaw1.head(n=4)"
      ],
      "metadata": {
        "colab": {
          "base_uri": "https://localhost:8080/",
          "height": 275
        },
        "id": "H9fQjuU0lHCy",
        "outputId": "24a49cc8-569d-4a59-d44e-bbde6f6647bf"
      },
      "execution_count": 13,
      "outputs": [
        {
          "output_type": "stream",
          "name": "stdout",
          "text": [
            "Processing X ...\n",
            "Processing text ...\n"
          ]
        },
        {
          "output_type": "stream",
          "name": "stderr",
          "text": [
            "100%|██████████| 450/450 [00:05<00:00, 84.93it/s] \n"
          ]
        },
        {
          "output_type": "stream",
          "name": "stdout",
          "text": [
            "Transforming text to tf-idf ...\n",
            "Predicting ...\n"
          ]
        },
        {
          "output_type": "stream",
          "name": "stderr",
          "text": [
            "100%|██████████| 450/450 [00:00<00:00, 1517.00it/s]\n"
          ]
        },
        {
          "output_type": "execute_result",
          "data": {
            "text/plain": [
              "          0         1         2         3         4         5         6  \\\n",
              "0  0.000004  0.000375  0.995414  0.001849  0.000196  0.000036  0.000097   \n",
              "1  0.000036  0.003809  0.975725  0.008887  0.005552  0.001637  0.000095   \n",
              "2  0.000003  0.001122  0.994654  0.000671  0.003392  0.000006  0.000037   \n",
              "3  0.000263  0.055281  0.309090  0.253439  0.157664  0.001704  0.001521   \n",
              "\n",
              "          7             8         9  \n",
              "0  0.001800  1.008496e-04  0.000080  \n",
              "1  0.004038  1.148050e-04  0.000061  \n",
              "2  0.000016  3.609709e-07  0.000053  \n",
              "3  0.211391  1.167186e-03  0.008434  "
            ],
            "text/html": [
              "\n",
              "  <div id=\"df-8bb70010-a3fc-472a-a885-c98a5e10c736\">\n",
              "    <div class=\"colab-df-container\">\n",
              "      <div>\n",
              "<style scoped>\n",
              "    .dataframe tbody tr th:only-of-type {\n",
              "        vertical-align: middle;\n",
              "    }\n",
              "\n",
              "    .dataframe tbody tr th {\n",
              "        vertical-align: top;\n",
              "    }\n",
              "\n",
              "    .dataframe thead th {\n",
              "        text-align: right;\n",
              "    }\n",
              "</style>\n",
              "<table border=\"1\" class=\"dataframe\">\n",
              "  <thead>\n",
              "    <tr style=\"text-align: right;\">\n",
              "      <th></th>\n",
              "      <th>0</th>\n",
              "      <th>1</th>\n",
              "      <th>2</th>\n",
              "      <th>3</th>\n",
              "      <th>4</th>\n",
              "      <th>5</th>\n",
              "      <th>6</th>\n",
              "      <th>7</th>\n",
              "      <th>8</th>\n",
              "      <th>9</th>\n",
              "    </tr>\n",
              "  </thead>\n",
              "  <tbody>\n",
              "    <tr>\n",
              "      <th>0</th>\n",
              "      <td>0.000004</td>\n",
              "      <td>0.000375</td>\n",
              "      <td>0.995414</td>\n",
              "      <td>0.001849</td>\n",
              "      <td>0.000196</td>\n",
              "      <td>0.000036</td>\n",
              "      <td>0.000097</td>\n",
              "      <td>0.001800</td>\n",
              "      <td>1.008496e-04</td>\n",
              "      <td>0.000080</td>\n",
              "    </tr>\n",
              "    <tr>\n",
              "      <th>1</th>\n",
              "      <td>0.000036</td>\n",
              "      <td>0.003809</td>\n",
              "      <td>0.975725</td>\n",
              "      <td>0.008887</td>\n",
              "      <td>0.005552</td>\n",
              "      <td>0.001637</td>\n",
              "      <td>0.000095</td>\n",
              "      <td>0.004038</td>\n",
              "      <td>1.148050e-04</td>\n",
              "      <td>0.000061</td>\n",
              "    </tr>\n",
              "    <tr>\n",
              "      <th>2</th>\n",
              "      <td>0.000003</td>\n",
              "      <td>0.001122</td>\n",
              "      <td>0.994654</td>\n",
              "      <td>0.000671</td>\n",
              "      <td>0.003392</td>\n",
              "      <td>0.000006</td>\n",
              "      <td>0.000037</td>\n",
              "      <td>0.000016</td>\n",
              "      <td>3.609709e-07</td>\n",
              "      <td>0.000053</td>\n",
              "    </tr>\n",
              "    <tr>\n",
              "      <th>3</th>\n",
              "      <td>0.000263</td>\n",
              "      <td>0.055281</td>\n",
              "      <td>0.309090</td>\n",
              "      <td>0.253439</td>\n",
              "      <td>0.157664</td>\n",
              "      <td>0.001704</td>\n",
              "      <td>0.001521</td>\n",
              "      <td>0.211391</td>\n",
              "      <td>1.167186e-03</td>\n",
              "      <td>0.008434</td>\n",
              "    </tr>\n",
              "  </tbody>\n",
              "</table>\n",
              "</div>\n",
              "      <button class=\"colab-df-convert\" onclick=\"convertToInteractive('df-8bb70010-a3fc-472a-a885-c98a5e10c736')\"\n",
              "              title=\"Convert this dataframe to an interactive table.\"\n",
              "              style=\"display:none;\">\n",
              "        \n",
              "  <svg xmlns=\"http://www.w3.org/2000/svg\" height=\"24px\"viewBox=\"0 0 24 24\"\n",
              "       width=\"24px\">\n",
              "    <path d=\"M0 0h24v24H0V0z\" fill=\"none\"/>\n",
              "    <path d=\"M18.56 5.44l.94 2.06.94-2.06 2.06-.94-2.06-.94-.94-2.06-.94 2.06-2.06.94zm-11 1L8.5 8.5l.94-2.06 2.06-.94-2.06-.94L8.5 2.5l-.94 2.06-2.06.94zm10 10l.94 2.06.94-2.06 2.06-.94-2.06-.94-.94-2.06-.94 2.06-2.06.94z\"/><path d=\"M17.41 7.96l-1.37-1.37c-.4-.4-.92-.59-1.43-.59-.52 0-1.04.2-1.43.59L10.3 9.45l-7.72 7.72c-.78.78-.78 2.05 0 2.83L4 21.41c.39.39.9.59 1.41.59.51 0 1.02-.2 1.41-.59l7.78-7.78 2.81-2.81c.8-.78.8-2.07 0-2.86zM5.41 20L4 18.59l7.72-7.72 1.47 1.35L5.41 20z\"/>\n",
              "  </svg>\n",
              "      </button>\n",
              "      \n",
              "  <style>\n",
              "    .colab-df-container {\n",
              "      display:flex;\n",
              "      flex-wrap:wrap;\n",
              "      gap: 12px;\n",
              "    }\n",
              "\n",
              "    .colab-df-convert {\n",
              "      background-color: #E8F0FE;\n",
              "      border: none;\n",
              "      border-radius: 50%;\n",
              "      cursor: pointer;\n",
              "      display: none;\n",
              "      fill: #1967D2;\n",
              "      height: 32px;\n",
              "      padding: 0 0 0 0;\n",
              "      width: 32px;\n",
              "    }\n",
              "\n",
              "    .colab-df-convert:hover {\n",
              "      background-color: #E2EBFA;\n",
              "      box-shadow: 0px 1px 2px rgba(60, 64, 67, 0.3), 0px 1px 3px 1px rgba(60, 64, 67, 0.15);\n",
              "      fill: #174EA6;\n",
              "    }\n",
              "\n",
              "    [theme=dark] .colab-df-convert {\n",
              "      background-color: #3B4455;\n",
              "      fill: #D2E3FC;\n",
              "    }\n",
              "\n",
              "    [theme=dark] .colab-df-convert:hover {\n",
              "      background-color: #434B5C;\n",
              "      box-shadow: 0px 1px 3px 1px rgba(0, 0, 0, 0.15);\n",
              "      filter: drop-shadow(0px 1px 2px rgba(0, 0, 0, 0.3));\n",
              "      fill: #FFFFFF;\n",
              "    }\n",
              "  </style>\n",
              "\n",
              "      <script>\n",
              "        const buttonEl =\n",
              "          document.querySelector('#df-8bb70010-a3fc-472a-a885-c98a5e10c736 button.colab-df-convert');\n",
              "        buttonEl.style.display =\n",
              "          google.colab.kernel.accessAllowed ? 'block' : 'none';\n",
              "\n",
              "        async function convertToInteractive(key) {\n",
              "          const element = document.querySelector('#df-8bb70010-a3fc-472a-a885-c98a5e10c736');\n",
              "          const dataTable =\n",
              "            await google.colab.kernel.invokeFunction('convertToInteractive',\n",
              "                                                     [key], {});\n",
              "          if (!dataTable) return;\n",
              "\n",
              "          const docLinkHtml = 'Like what you see? Visit the ' +\n",
              "            '<a target=\"_blank\" href=https://colab.research.google.com/notebooks/data_table.ipynb>data table notebook</a>'\n",
              "            + ' to learn more about interactive tables.';\n",
              "          element.innerHTML = '';\n",
              "          dataTable['output_type'] = 'display_data';\n",
              "          await google.colab.output.renderOutput(dataTable, element);\n",
              "          const docLink = document.createElement('div');\n",
              "          docLink.innerHTML = docLinkHtml;\n",
              "          element.appendChild(docLink);\n",
              "        }\n",
              "      </script>\n",
              "    </div>\n",
              "  </div>\n",
              "  "
            ]
          },
          "metadata": {},
          "execution_count": 13
        }
      ]
    },
    {
      "cell_type": "markdown",
      "source": [
        "Rozkład zawodów według 1 cyfrowych kodów zawodów."
      ],
      "metadata": {
        "id": "mBKjMOTUqPfn"
      }
    },
    {
      "cell_type": "code",
      "source": [
        "np.sum(kprm_df_zaw1, axis=0)"
      ],
      "metadata": {
        "colab": {
          "base_uri": "https://localhost:8080/"
        },
        "id": "0VR-qbRXnhxj",
        "outputId": "82eeb309-47c6-43db-8196-d72bc7609da2"
      },
      "execution_count": 14,
      "outputs": [
        {
          "output_type": "execute_result",
          "data": {
            "text/plain": [
              "0      0.017761\n",
              "1     13.853405\n",
              "2    254.529663\n",
              "3    111.025528\n",
              "4     53.315598\n",
              "5      6.214397\n",
              "6      0.951644\n",
              "7      3.155583\n",
              "8      2.712708\n",
              "9      4.203103\n",
              "dtype: float32"
            ]
          },
          "metadata": {},
          "execution_count": 14
        }
      ]
    },
    {
      "cell_type": "markdown",
      "source": [
        "Możemy również wybrać `top_k` zawodów. Poniżej wskazujemy top 5."
      ],
      "metadata": {
        "id": "0pQ9TbwAqa8F"
      }
    },
    {
      "cell_type": "code",
      "source": [
        "kprm_df_zaw6_top5 = model_paper_linear.predict(\n",
        "    X_text=list(kprm_df[\"desc\"]),\n",
        "    output_level=\"last\",\n",
        "    format=\"dataframe\",\n",
        "    top_k=5\n",
        ")"
      ],
      "metadata": {
        "colab": {
          "base_uri": "https://localhost:8080/"
        },
        "id": "3w4OG2EOr_Fu",
        "outputId": "61ecb3f9-5e4e-437f-9f99-de007ed7366f"
      },
      "execution_count": 15,
      "outputs": [
        {
          "output_type": "stream",
          "name": "stdout",
          "text": [
            "Processing X ...\n",
            "Processing text ...\n"
          ]
        },
        {
          "output_type": "stream",
          "name": "stderr",
          "text": [
            "100%|██████████| 450/450 [00:02<00:00, 189.99it/s]\n"
          ]
        },
        {
          "output_type": "stream",
          "name": "stdout",
          "text": [
            "Transforming text to tf-idf ...\n",
            "Predicting ...\n"
          ]
        },
        {
          "output_type": "stream",
          "name": "stderr",
          "text": [
            "100%|██████████| 450/450 [00:00<00:00, 1587.10it/s]\n"
          ]
        }
      ]
    },
    {
      "cell_type": "code",
      "source": [
        "kprm_df_zaw6_top5.head(n=5)"
      ],
      "metadata": {
        "colab": {
          "base_uri": "https://localhost:8080/",
          "height": 204
        },
        "id": "CJbv4aRLsDuz",
        "outputId": "6036af20-4dff-4971-b29a-d5bbf8e8edf5"
      },
      "execution_count": 16,
      "outputs": [
        {
          "output_type": "execute_result",
          "data": {
            "text/plain": [
              "  class_1 class_2 class_3 class_4 class_5    prob_1    prob_2    prob_3  \\\n",
              "0  214921  214922  214990  214903  214932  0.635320  0.203939  0.019870   \n",
              "1  242217  242190  242102  242290  242232  0.818859  0.063468  0.017318   \n",
              "2  242217  241107  241190  241103  241102  0.697043  0.109484  0.087459   \n",
              "3  242217  711101  335290  411003  334306  0.271974  0.106116  0.072340   \n",
              "4  325512  335990  325502  335905  334306  0.269934  0.133360  0.103502   \n",
              "\n",
              "     prob_4    prob_5  \n",
              "0  0.012856  0.009343  \n",
              "1  0.011158  0.006835  \n",
              "2  0.032341  0.012461  \n",
              "3  0.069055  0.061913  \n",
              "4  0.067749  0.048600  "
            ],
            "text/html": [
              "\n",
              "  <div id=\"df-eaf3d668-3d2d-4de0-9baa-8e86deeff95a\">\n",
              "    <div class=\"colab-df-container\">\n",
              "      <div>\n",
              "<style scoped>\n",
              "    .dataframe tbody tr th:only-of-type {\n",
              "        vertical-align: middle;\n",
              "    }\n",
              "\n",
              "    .dataframe tbody tr th {\n",
              "        vertical-align: top;\n",
              "    }\n",
              "\n",
              "    .dataframe thead th {\n",
              "        text-align: right;\n",
              "    }\n",
              "</style>\n",
              "<table border=\"1\" class=\"dataframe\">\n",
              "  <thead>\n",
              "    <tr style=\"text-align: right;\">\n",
              "      <th></th>\n",
              "      <th>class_1</th>\n",
              "      <th>class_2</th>\n",
              "      <th>class_3</th>\n",
              "      <th>class_4</th>\n",
              "      <th>class_5</th>\n",
              "      <th>prob_1</th>\n",
              "      <th>prob_2</th>\n",
              "      <th>prob_3</th>\n",
              "      <th>prob_4</th>\n",
              "      <th>prob_5</th>\n",
              "    </tr>\n",
              "  </thead>\n",
              "  <tbody>\n",
              "    <tr>\n",
              "      <th>0</th>\n",
              "      <td>214921</td>\n",
              "      <td>214922</td>\n",
              "      <td>214990</td>\n",
              "      <td>214903</td>\n",
              "      <td>214932</td>\n",
              "      <td>0.635320</td>\n",
              "      <td>0.203939</td>\n",
              "      <td>0.019870</td>\n",
              "      <td>0.012856</td>\n",
              "      <td>0.009343</td>\n",
              "    </tr>\n",
              "    <tr>\n",
              "      <th>1</th>\n",
              "      <td>242217</td>\n",
              "      <td>242190</td>\n",
              "      <td>242102</td>\n",
              "      <td>242290</td>\n",
              "      <td>242232</td>\n",
              "      <td>0.818859</td>\n",
              "      <td>0.063468</td>\n",
              "      <td>0.017318</td>\n",
              "      <td>0.011158</td>\n",
              "      <td>0.006835</td>\n",
              "    </tr>\n",
              "    <tr>\n",
              "      <th>2</th>\n",
              "      <td>242217</td>\n",
              "      <td>241107</td>\n",
              "      <td>241190</td>\n",
              "      <td>241103</td>\n",
              "      <td>241102</td>\n",
              "      <td>0.697043</td>\n",
              "      <td>0.109484</td>\n",
              "      <td>0.087459</td>\n",
              "      <td>0.032341</td>\n",
              "      <td>0.012461</td>\n",
              "    </tr>\n",
              "    <tr>\n",
              "      <th>3</th>\n",
              "      <td>242217</td>\n",
              "      <td>711101</td>\n",
              "      <td>335290</td>\n",
              "      <td>411003</td>\n",
              "      <td>334306</td>\n",
              "      <td>0.271974</td>\n",
              "      <td>0.106116</td>\n",
              "      <td>0.072340</td>\n",
              "      <td>0.069055</td>\n",
              "      <td>0.061913</td>\n",
              "    </tr>\n",
              "    <tr>\n",
              "      <th>4</th>\n",
              "      <td>325512</td>\n",
              "      <td>335990</td>\n",
              "      <td>325502</td>\n",
              "      <td>335905</td>\n",
              "      <td>334306</td>\n",
              "      <td>0.269934</td>\n",
              "      <td>0.133360</td>\n",
              "      <td>0.103502</td>\n",
              "      <td>0.067749</td>\n",
              "      <td>0.048600</td>\n",
              "    </tr>\n",
              "  </tbody>\n",
              "</table>\n",
              "</div>\n",
              "      <button class=\"colab-df-convert\" onclick=\"convertToInteractive('df-eaf3d668-3d2d-4de0-9baa-8e86deeff95a')\"\n",
              "              title=\"Convert this dataframe to an interactive table.\"\n",
              "              style=\"display:none;\">\n",
              "        \n",
              "  <svg xmlns=\"http://www.w3.org/2000/svg\" height=\"24px\"viewBox=\"0 0 24 24\"\n",
              "       width=\"24px\">\n",
              "    <path d=\"M0 0h24v24H0V0z\" fill=\"none\"/>\n",
              "    <path d=\"M18.56 5.44l.94 2.06.94-2.06 2.06-.94-2.06-.94-.94-2.06-.94 2.06-2.06.94zm-11 1L8.5 8.5l.94-2.06 2.06-.94-2.06-.94L8.5 2.5l-.94 2.06-2.06.94zm10 10l.94 2.06.94-2.06 2.06-.94-2.06-.94-.94-2.06-.94 2.06-2.06.94z\"/><path d=\"M17.41 7.96l-1.37-1.37c-.4-.4-.92-.59-1.43-.59-.52 0-1.04.2-1.43.59L10.3 9.45l-7.72 7.72c-.78.78-.78 2.05 0 2.83L4 21.41c.39.39.9.59 1.41.59.51 0 1.02-.2 1.41-.59l7.78-7.78 2.81-2.81c.8-.78.8-2.07 0-2.86zM5.41 20L4 18.59l7.72-7.72 1.47 1.35L5.41 20z\"/>\n",
              "  </svg>\n",
              "      </button>\n",
              "      \n",
              "  <style>\n",
              "    .colab-df-container {\n",
              "      display:flex;\n",
              "      flex-wrap:wrap;\n",
              "      gap: 12px;\n",
              "    }\n",
              "\n",
              "    .colab-df-convert {\n",
              "      background-color: #E8F0FE;\n",
              "      border: none;\n",
              "      border-radius: 50%;\n",
              "      cursor: pointer;\n",
              "      display: none;\n",
              "      fill: #1967D2;\n",
              "      height: 32px;\n",
              "      padding: 0 0 0 0;\n",
              "      width: 32px;\n",
              "    }\n",
              "\n",
              "    .colab-df-convert:hover {\n",
              "      background-color: #E2EBFA;\n",
              "      box-shadow: 0px 1px 2px rgba(60, 64, 67, 0.3), 0px 1px 3px 1px rgba(60, 64, 67, 0.15);\n",
              "      fill: #174EA6;\n",
              "    }\n",
              "\n",
              "    [theme=dark] .colab-df-convert {\n",
              "      background-color: #3B4455;\n",
              "      fill: #D2E3FC;\n",
              "    }\n",
              "\n",
              "    [theme=dark] .colab-df-convert:hover {\n",
              "      background-color: #434B5C;\n",
              "      box-shadow: 0px 1px 3px 1px rgba(0, 0, 0, 0.15);\n",
              "      filter: drop-shadow(0px 1px 2px rgba(0, 0, 0, 0.3));\n",
              "      fill: #FFFFFF;\n",
              "    }\n",
              "  </style>\n",
              "\n",
              "      <script>\n",
              "        const buttonEl =\n",
              "          document.querySelector('#df-eaf3d668-3d2d-4de0-9baa-8e86deeff95a button.colab-df-convert');\n",
              "        buttonEl.style.display =\n",
              "          google.colab.kernel.accessAllowed ? 'block' : 'none';\n",
              "\n",
              "        async function convertToInteractive(key) {\n",
              "          const element = document.querySelector('#df-eaf3d668-3d2d-4de0-9baa-8e86deeff95a');\n",
              "          const dataTable =\n",
              "            await google.colab.kernel.invokeFunction('convertToInteractive',\n",
              "                                                     [key], {});\n",
              "          if (!dataTable) return;\n",
              "\n",
              "          const docLinkHtml = 'Like what you see? Visit the ' +\n",
              "            '<a target=\"_blank\" href=https://colab.research.google.com/notebooks/data_table.ipynb>data table notebook</a>'\n",
              "            + ' to learn more about interactive tables.';\n",
              "          element.innerHTML = '';\n",
              "          dataTable['output_type'] = 'display_data';\n",
              "          await google.colab.output.renderOutput(dataTable, element);\n",
              "          const docLink = document.createElement('div');\n",
              "          docLink.innerHTML = docLinkHtml;\n",
              "          element.appendChild(docLink);\n",
              "        }\n",
              "      </script>\n",
              "    </div>\n",
              "  </div>\n",
              "  "
            ]
          },
          "metadata": {},
          "execution_count": 16
        }
      ]
    },
    {
      "cell_type": "markdown",
      "source": [
        "### Transformer model\n",
        "\n",
        "Ten model będzie działał tylko jak będzie dostęp do GPU na colab. Bez GPU pojawia się problem z wczytaniem danych na Colab."
      ],
      "metadata": {
        "id": "2j_LhmFuwA6O"
      }
    },
    {
      "cell_type": "code",
      "source": [
        "model_paper_trans = TransformerJobOffersClassifier(gpus=0, threads=2) ## bez gpu\n",
        "#model_paper_trans = TransformerJobOffersClassifier(gpus=1, threads=2)\n",
        "model_paper_trans.load(f\"{models_dir}/transformer_model\")"
      ],
      "metadata": {
        "colab": {
          "base_uri": "https://localhost:8080/",
          "height": 172,
          "referenced_widgets": [
            "8f3945c8325249548ce5eea54656d0a7",
            "68e5c2c05e8d4ac7bbc3f2b438ce4734",
            "027830e6552b4985be7f81729f4e7444",
            "4c8f8db9435f4a959bed2259dd2a968c",
            "dd2cbaad57ff4b409cdee97e748289d3",
            "6a1c61c043ce4fe4b320b937bb7167b4",
            "c714a0bbb4a14e038ddbe12fe939bd12",
            "733cc5131dfd48f485daa6203d7f6f2a",
            "5a052141e6d44133a091ffab43617ba6",
            "2470bbe8ab614b8fab9b79e9a981505b",
            "12fe839d304b4c0b915ca7d8662f60f1",
            "082567d389794fee895cdde42787faf7",
            "a672a04a95044a9fa7f994d6ccae89f0",
            "d534021778914d5b8bd774b8344d979e",
            "e4fb03b26c6e4a4a861e7bb37a19a348",
            "29499cc27e9c433ba20e8854c127fc4b",
            "a0e2083db3a647fdaa809a80bdab2585",
            "a135cca377e64bd8ad2044b747ab725d",
            "6861739654eb40ecb43d08736cd012f8",
            "02288637a36c4839b94eec989e55a45a",
            "6d366a314591498c9acb20a26493750a",
            "6f3ad67f96fd4437ba8a0082953e4e65"
          ]
        },
        "id": "Aof6YX_Nnkpc",
        "outputId": "cf0984b0-9422-4c37-e662-75772c70fd0f"
      },
      "execution_count": null,
      "outputs": [
        {
          "output_type": "stream",
          "name": "stdout",
          "text": [
            "Initializing TransformerClassifier with model_name=allegro/herbert-base-cased, output_type=linear, num_labels=2904, learning_rate=1e-05, weight_decay=0.01, warmup_steps=50 ...\n"
          ]
        },
        {
          "output_type": "display_data",
          "data": {
            "text/plain": [
              "Downloading:   0%|          | 0.00/472 [00:00<?, ?B/s]"
            ],
            "application/vnd.jupyter.widget-view+json": {
              "version_major": 2,
              "version_minor": 0,
              "model_id": "8f3945c8325249548ce5eea54656d0a7"
            }
          },
          "metadata": {}
        },
        {
          "output_type": "display_data",
          "data": {
            "text/plain": [
              "Downloading:   0%|          | 0.00/624M [00:00<?, ?B/s]"
            ],
            "application/vnd.jupyter.widget-view+json": {
              "version_major": 2,
              "version_minor": 0,
              "model_id": "082567d389794fee895cdde42787faf7"
            }
          },
          "metadata": {}
        },
        {
          "output_type": "stream",
          "name": "stderr",
          "text": [
            "Some weights of the model checkpoint at allegro/herbert-base-cased were not used when initializing BertModel: ['cls.sso.sso_relationship.weight', 'cls.predictions.decoder.weight', 'cls.predictions.transform.dense.weight', 'cls.predictions.decoder.bias', 'cls.predictions.bias', 'cls.predictions.transform.LayerNorm.bias', 'cls.predictions.transform.dense.bias', 'cls.predictions.transform.LayerNorm.weight', 'cls.sso.sso_relationship.bias']\n",
            "- This IS expected if you are initializing BertModel from the checkpoint of a model trained on another task or with another architecture (e.g. initializing a BertForSequenceClassification model from a BertForPreTraining model).\n",
            "- This IS NOT expected if you are initializing BertModel from the checkpoint of a model that you expect to be exactly identical (initializing a BertForSequenceClassification model from a BertForSequenceClassification model).\n"
          ]
        }
      ]
    },
    {
      "cell_type": "markdown",
      "source": [
        "Predykcja z wykorzystaniem modelu opartego na transformerach. Uwaga: teraz podajemy argument `X`, a nie `X_text`. Reszta pozostaje bez zmian."
      ],
      "metadata": {
        "id": "nZfQhEL7oFgJ"
      }
    },
    {
      "cell_type": "code",
      "source": [
        "kprm_df_zaw1_trans = model_paper_trans.predict(\n",
        "    X=list(kprm_df[\"desc\"]),\n",
        "    output_level=0,\n",
        "    format=\"dataframe\"\n",
        ")"
      ],
      "metadata": {
        "id": "P7SE_ax2n07g",
        "colab": {
          "base_uri": "https://localhost:8080/",
          "height": 727,
          "referenced_widgets": [
            "331edb74ea5146e6995af4d8283e748d",
            "43bebd0c04e74d5f86e3aab0ba818549",
            "309773fadf9846aa867f741224f4a6ea",
            "9d134da2920242af988b5916a735c857",
            "5ade36f3d1544a8e8e9206dfaba3677f",
            "f51a0a197408488f9e0c8f3d7c819460",
            "57455c44495c4b11a2a72bc992bbf2a8",
            "6a28fb62aabb40c8acee8b67347115c7",
            "ea1828d6371540749b6e45e3f41e112a",
            "7c08841b58ab492f99214a9593194290",
            "51809eded18e4fad8a65ea9555ed52b9"
          ]
        },
        "outputId": "f6c66819-2bd4-4e13-a4aa-5f2f07cb51e2"
      },
      "execution_count": null,
      "outputs": [
        {
          "output_type": "stream",
          "name": "stdout",
          "text": [
            "Initializing TransformerDataModule with model_name=allegro/herbert-base-cased, max_seq_length=512, train/eval_batch_size=8/8, num_workers=2 ...\n",
            "Setting up TransformerDataModule ...\n"
          ]
        },
        {
          "output_type": "stream",
          "name": "stderr",
          "text": [
            "/usr/local/lib/python3.7/dist-packages/pytorch_lightning/trainer/connectors/accelerator_connector.py:667: UserWarning: You passed `Trainer(accelerator='cpu', precision=16)` but native AMP is not supported on CPU. Using `precision='bf16'` instead.\n",
            "  \"You passed `Trainer(accelerator='cpu', precision=16)` but native AMP is not supported on CPU.\"\n",
            "INFO:pytorch_lightning.utilities.rank_zero:Using bfloat16 Automatic Mixed Precision (AMP)\n",
            "/usr/local/lib/python3.7/dist-packages/pytorch_lightning/loops/utilities.py:94: PossibleUserWarning: `max_epochs` was not set. Setting it to 1000 epochs. To train without an epoch limit, set `max_epochs=-1`.\n",
            "  category=PossibleUserWarning,\n",
            "INFO:pytorch_lightning.utilities.rank_zero:GPU available: False, used: False\n",
            "INFO:pytorch_lightning.utilities.rank_zero:TPU available: False, using: 0 TPU cores\n",
            "INFO:pytorch_lightning.utilities.rank_zero:IPU available: False, using: 0 IPUs\n",
            "INFO:pytorch_lightning.utilities.rank_zero:HPU available: False, using: 0 HPUs\n",
            "INFO:pytorch_lightning.utilities.rank_zero:Restoring states from the checkpoint path at /content/job-ads-classifier/models/transformer_model/transformer_classifier.ckpt\n"
          ]
        },
        {
          "output_type": "stream",
          "name": "stdout",
          "text": [
            "Starting predicting with TransformerClassifier ...\n"
          ]
        },
        {
          "output_type": "stream",
          "name": "stderr",
          "text": [
            "INFO:pytorch_lightning.utilities.rank_zero:Loaded model weights from checkpoint at /content/job-ads-classifier/models/transformer_model/transformer_classifier.ckpt\n"
          ]
        },
        {
          "output_type": "display_data",
          "data": {
            "text/plain": [
              "Predicting: 0it [00:00, ?it/s]"
            ],
            "application/vnd.jupyter.widget-view+json": {
              "version_major": 2,
              "version_minor": 0,
              "model_id": "331edb74ea5146e6995af4d8283e748d"
            }
          },
          "metadata": {}
        },
        {
          "output_type": "stream",
          "name": "stderr",
          "text": [
            "/usr/local/lib/python3.7/dist-packages/pytorch_lightning/trainer/trainer.py:727: UserWarning: Detected KeyboardInterrupt, attempting graceful shutdown...\n",
            "  rank_zero_warn(\"Detected KeyboardInterrupt, attempting graceful shutdown...\")\n"
          ]
        },
        {
          "output_type": "error",
          "ename": "TypeError",
          "evalue": "ignored",
          "traceback": [
            "\u001b[0;31m---------------------------------------------------------------------------\u001b[0m",
            "\u001b[0;31mTypeError\u001b[0m                                 Traceback (most recent call last)",
            "\u001b[0;32m<ipython-input-17-f7f6b774d559>\u001b[0m in \u001b[0;36m<module>\u001b[0;34m\u001b[0m\n\u001b[1;32m      2\u001b[0m     \u001b[0mX\u001b[0m\u001b[0;34m=\u001b[0m\u001b[0mlist\u001b[0m\u001b[0;34m(\u001b[0m\u001b[0mkprm_df\u001b[0m\u001b[0;34m[\u001b[0m\u001b[0;34m\"desc\"\u001b[0m\u001b[0;34m]\u001b[0m\u001b[0;34m)\u001b[0m\u001b[0;34m,\u001b[0m\u001b[0;34m\u001b[0m\u001b[0;34m\u001b[0m\u001b[0m\n\u001b[1;32m      3\u001b[0m     \u001b[0moutput_level\u001b[0m\u001b[0;34m=\u001b[0m\u001b[0;36m0\u001b[0m\u001b[0;34m,\u001b[0m\u001b[0;34m\u001b[0m\u001b[0;34m\u001b[0m\u001b[0m\n\u001b[0;32m----> 4\u001b[0;31m     \u001b[0mformat\u001b[0m\u001b[0;34m=\u001b[0m\u001b[0;34m\"dataframe\"\u001b[0m\u001b[0;34m\u001b[0m\u001b[0;34m\u001b[0m\u001b[0m\n\u001b[0m\u001b[1;32m      5\u001b[0m )\n",
            "\u001b[0;32m/content/job-ads-classifier/job_offers_classifier/job_offers_classfier.py\u001b[0m in \u001b[0;36mpredict\u001b[0;34m(self, X, output_level, format, top_k)\u001b[0m\n\u001b[1;32m    510\u001b[0m \u001b[0;34m\u001b[0m\u001b[0m\n\u001b[1;32m    511\u001b[0m     \u001b[0;32mdef\u001b[0m \u001b[0mpredict\u001b[0m\u001b[0;34m(\u001b[0m\u001b[0mself\u001b[0m\u001b[0;34m,\u001b[0m \u001b[0mX\u001b[0m\u001b[0;34m,\u001b[0m \u001b[0moutput_level\u001b[0m\u001b[0;34m=\u001b[0m\u001b[0;34m\"last\"\u001b[0m\u001b[0;34m,\u001b[0m \u001b[0mformat\u001b[0m\u001b[0;34m=\u001b[0m\u001b[0;34m'array'\u001b[0m\u001b[0;34m,\u001b[0m \u001b[0mtop_k\u001b[0m\u001b[0;34m=\u001b[0m\u001b[0;32mNone\u001b[0m\u001b[0;34m)\u001b[0m\u001b[0;34m:\u001b[0m\u001b[0;34m\u001b[0m\u001b[0;34m\u001b[0m\u001b[0m\n\u001b[0;32m--> 512\u001b[0;31m         \u001b[0mlast_level_pred\u001b[0m \u001b[0;34m=\u001b[0m \u001b[0mself\u001b[0m\u001b[0;34m.\u001b[0m\u001b[0m_predict\u001b[0m\u001b[0;34m(\u001b[0m\u001b[0mX\u001b[0m\u001b[0;34m)\u001b[0m\u001b[0;34m\u001b[0m\u001b[0;34m\u001b[0m\u001b[0m\n\u001b[0m\u001b[1;32m    513\u001b[0m         \u001b[0;32mreturn\u001b[0m \u001b[0mself\u001b[0m\u001b[0;34m.\u001b[0m\u001b[0m_get_output\u001b[0m\u001b[0;34m(\u001b[0m\u001b[0mlast_level_pred\u001b[0m\u001b[0;34m,\u001b[0m \u001b[0moutput_level\u001b[0m\u001b[0;34m=\u001b[0m\u001b[0moutput_level\u001b[0m\u001b[0;34m,\u001b[0m \u001b[0mformat\u001b[0m\u001b[0;34m=\u001b[0m\u001b[0mformat\u001b[0m\u001b[0;34m,\u001b[0m \u001b[0mtop_k\u001b[0m\u001b[0;34m=\u001b[0m\u001b[0mtop_k\u001b[0m\u001b[0;34m)\u001b[0m\u001b[0;34m\u001b[0m\u001b[0;34m\u001b[0m\u001b[0m\n\u001b[1;32m    514\u001b[0m \u001b[0;34m\u001b[0m\u001b[0m\n",
            "\u001b[0;32m/content/job-ads-classifier/job_offers_classifier/job_offers_classfier.py\u001b[0m in \u001b[0;36m_predict\u001b[0;34m(self, X)\u001b[0m\n\u001b[1;32m    507\u001b[0m         \u001b[0mtrainer\u001b[0m \u001b[0;34m=\u001b[0m \u001b[0mTrainerWrapper\u001b[0m\u001b[0;34m(\u001b[0m\u001b[0mckpt_dir\u001b[0m\u001b[0;34m=\u001b[0m\u001b[0mself\u001b[0m\u001b[0;34m.\u001b[0m\u001b[0mckpt_path\u001b[0m\u001b[0;34m,\u001b[0m \u001b[0mtrainer_args\u001b[0m\u001b[0;34m=\u001b[0m\u001b[0;34m{\u001b[0m\u001b[0;34m\"gpus\"\u001b[0m\u001b[0;34m:\u001b[0m \u001b[0mself\u001b[0m\u001b[0;34m.\u001b[0m\u001b[0mgpus\u001b[0m\u001b[0;34m,\u001b[0m \u001b[0;34m\"precision\"\u001b[0m\u001b[0;34m:\u001b[0m \u001b[0mself\u001b[0m\u001b[0;34m.\u001b[0m\u001b[0mprecision\u001b[0m\u001b[0;34m}\u001b[0m\u001b[0;34m,\u001b[0m\u001b[0;34m)\u001b[0m\u001b[0;34m\u001b[0m\u001b[0;34m\u001b[0m\u001b[0m\n\u001b[1;32m    508\u001b[0m         \u001b[0mpred\u001b[0m \u001b[0;34m=\u001b[0m \u001b[0mtrainer\u001b[0m\u001b[0;34m.\u001b[0m\u001b[0mpredict\u001b[0m\u001b[0;34m(\u001b[0m\u001b[0mself\u001b[0m\u001b[0;34m.\u001b[0m\u001b[0mbase_model\u001b[0m\u001b[0;34m,\u001b[0m \u001b[0mdataloaders\u001b[0m\u001b[0;34m=\u001b[0m\u001b[0mdata_module\u001b[0m\u001b[0;34m.\u001b[0m\u001b[0mtest_dataloader\u001b[0m\u001b[0;34m(\u001b[0m\u001b[0;34m)\u001b[0m\u001b[0;34m,\u001b[0m \u001b[0mckpt_path\u001b[0m\u001b[0;34m=\u001b[0m\u001b[0mself\u001b[0m\u001b[0;34m.\u001b[0m\u001b[0mckpt_path\u001b[0m\u001b[0;34m)\u001b[0m\u001b[0;34m\u001b[0m\u001b[0;34m\u001b[0m\u001b[0m\n\u001b[0;32m--> 509\u001b[0;31m         \u001b[0;32mreturn\u001b[0m \u001b[0mnp\u001b[0m\u001b[0;34m.\u001b[0m\u001b[0marray\u001b[0m\u001b[0;34m(\u001b[0m\u001b[0mtorch\u001b[0m\u001b[0;34m.\u001b[0m\u001b[0mvstack\u001b[0m\u001b[0;34m(\u001b[0m\u001b[0mpred\u001b[0m\u001b[0;34m)\u001b[0m\u001b[0;34m)\u001b[0m\u001b[0;34m\u001b[0m\u001b[0;34m\u001b[0m\u001b[0m\n\u001b[0m\u001b[1;32m    510\u001b[0m \u001b[0;34m\u001b[0m\u001b[0m\n\u001b[1;32m    511\u001b[0m     \u001b[0;32mdef\u001b[0m \u001b[0mpredict\u001b[0m\u001b[0;34m(\u001b[0m\u001b[0mself\u001b[0m\u001b[0;34m,\u001b[0m \u001b[0mX\u001b[0m\u001b[0;34m,\u001b[0m \u001b[0moutput_level\u001b[0m\u001b[0;34m=\u001b[0m\u001b[0;34m\"last\"\u001b[0m\u001b[0;34m,\u001b[0m \u001b[0mformat\u001b[0m\u001b[0;34m=\u001b[0m\u001b[0;34m'array'\u001b[0m\u001b[0;34m,\u001b[0m \u001b[0mtop_k\u001b[0m\u001b[0;34m=\u001b[0m\u001b[0;32mNone\u001b[0m\u001b[0;34m)\u001b[0m\u001b[0;34m:\u001b[0m\u001b[0;34m\u001b[0m\u001b[0;34m\u001b[0m\u001b[0m\n",
            "\u001b[0;31mTypeError\u001b[0m: vstack(): argument 'tensors' (position 1) must be tuple of Tensors, not NoneType"
          ]
        }
      ]
    },
    {
      "cell_type": "markdown",
      "source": [
        "Rozkład 1 cyfrowych kodów zawodów."
      ],
      "metadata": {
        "id": "wO9PRPeqqeiH"
      }
    },
    {
      "cell_type": "code",
      "source": [
        "np.sum(kprm_df_zaw1_trans, axis=0)"
      ],
      "metadata": {
        "colab": {
          "base_uri": "https://localhost:8080/",
          "height": 164
        },
        "id": "XRWMWn1TozGO",
        "outputId": "2bd3b39b-0613-48c2-84b4-0147192a8cf3"
      },
      "execution_count": null,
      "outputs": [
        {
          "output_type": "error",
          "ename": "NameError",
          "evalue": "ignored",
          "traceback": [
            "\u001b[0;31m---------------------------------------------------------------------------\u001b[0m",
            "\u001b[0;31mNameError\u001b[0m                                 Traceback (most recent call last)",
            "\u001b[0;32m<ipython-input-16-4c5f4e046b6b>\u001b[0m in \u001b[0;36m<module>\u001b[0;34m\u001b[0m\n\u001b[0;32m----> 1\u001b[0;31m \u001b[0mnp\u001b[0m\u001b[0;34m.\u001b[0m\u001b[0msum\u001b[0m\u001b[0;34m(\u001b[0m\u001b[0mkprm_df_zaw1_trans\u001b[0m\u001b[0;34m,\u001b[0m \u001b[0maxis\u001b[0m\u001b[0;34m=\u001b[0m\u001b[0;36m0\u001b[0m\u001b[0;34m)\u001b[0m\u001b[0;34m\u001b[0m\u001b[0;34m\u001b[0m\u001b[0m\n\u001b[0m",
            "\u001b[0;31mNameError\u001b[0m: name 'kprm_df_zaw1_trans' is not defined"
          ]
        }
      ]
    },
    {
      "cell_type": "markdown",
      "source": [
        "Wybieramy top 5 zawodów."
      ],
      "metadata": {
        "id": "GAQLzXQroTnX"
      }
    },
    {
      "cell_type": "code",
      "source": [
        "kprm_df_zaw6_top5_trans = model_paper_trans.predict(\n",
        "    X=list(kprm_df[\"desc\"]),\n",
        "    output_level=\"last\",\n",
        "    format=\"dataframe\",\n",
        "    top_k=5\n",
        ")"
      ],
      "metadata": {
        "colab": {
          "base_uri": "https://localhost:8080/",
          "height": 256,
          "referenced_widgets": [
            "cde70bd2c1154ab2b36561e1e3e500e6",
            "924b09e3a032457cadf8aacdcbc805a8",
            "3b6571ecc8e54f3c8951428bc454d2b1",
            "dd03c1dbcecd46a6b93711d28ca6c061",
            "62986ba6d17e464fb24984c6ffcdb03e",
            "8e5053572c354910992c81517045045f",
            "5e6bdc5adc1746f5806225ce22573580",
            "7f5423d614f44484b830ae162528661a",
            "7c138ea5735b43a8928426ef6df36ecf",
            "cd5287705abc4f2298503deaeb2e804b",
            "ed5c07c6783847f1bbd2d9095fc01742"
          ]
        },
        "id": "Rb2uBBA-wBYr",
        "outputId": "2fc91b4b-bc02-4dbb-e915-0465f8d77ff6"
      },
      "execution_count": null,
      "outputs": [
        {
          "output_type": "stream",
          "name": "stdout",
          "text": [
            "Initializing TransformerDataModule with model_name=allegro/herbert-base-cased, max_seq_length=512, train/eval_batch_size=8/8, num_workers=2 ...\n",
            "Setting up TransformerDataModule ...\n"
          ]
        },
        {
          "output_type": "stream",
          "name": "stderr",
          "text": [
            "INFO:pytorch_lightning.utilities.rank_zero:Using 16bit native Automatic Mixed Precision (AMP)\n",
            "INFO:pytorch_lightning.utilities.rank_zero:GPU available: True, used: True\n",
            "INFO:pytorch_lightning.utilities.rank_zero:TPU available: False, using: 0 TPU cores\n",
            "INFO:pytorch_lightning.utilities.rank_zero:IPU available: False, using: 0 IPUs\n",
            "INFO:pytorch_lightning.utilities.rank_zero:HPU available: False, using: 0 HPUs\n",
            "INFO:pytorch_lightning.utilities.rank_zero:Restoring states from the checkpoint path at /content/job-ads-classifier/models/transformer_model/transformer_classifier.ckpt\n"
          ]
        },
        {
          "output_type": "stream",
          "name": "stdout",
          "text": [
            "Starting predicting with TransformerClassifier ...\n"
          ]
        },
        {
          "output_type": "stream",
          "name": "stderr",
          "text": [
            "INFO:pytorch_lightning.accelerators.gpu:LOCAL_RANK: 0 - CUDA_VISIBLE_DEVICES: [0]\n",
            "INFO:pytorch_lightning.utilities.rank_zero:Loaded model weights from checkpoint at /content/job-ads-classifier/models/transformer_model/transformer_classifier.ckpt\n"
          ]
        },
        {
          "output_type": "display_data",
          "data": {
            "text/plain": [
              "Predicting: 0it [00:00, ?it/s]"
            ],
            "application/vnd.jupyter.widget-view+json": {
              "version_major": 2,
              "version_minor": 0,
              "model_id": "cde70bd2c1154ab2b36561e1e3e500e6"
            }
          },
          "metadata": {}
        }
      ]
    },
    {
      "cell_type": "code",
      "source": [
        "kprm_df_zaw6_top5_trans.head(n=5)"
      ],
      "metadata": {
        "colab": {
          "base_uri": "https://localhost:8080/",
          "height": 169
        },
        "id": "dGLaeAJvwPrI",
        "outputId": "da60242c-be14-4ceb-f716-9ab7ff394d72"
      },
      "execution_count": null,
      "outputs": [
        {
          "output_type": "error",
          "ename": "NameError",
          "evalue": "ignored",
          "traceback": [
            "\u001b[0;31m---------------------------------------------------------------------------\u001b[0m",
            "\u001b[0;31mNameError\u001b[0m                                 Traceback (most recent call last)",
            "\u001b[0;32m<ipython-input-13-befee238c263>\u001b[0m in \u001b[0;36m<module>\u001b[0;34m\u001b[0m\n\u001b[0;32m----> 1\u001b[0;31m \u001b[0mkprm_df_zaw6_top5_trans\u001b[0m\u001b[0;34m.\u001b[0m\u001b[0mhead\u001b[0m\u001b[0;34m(\u001b[0m\u001b[0mn\u001b[0m\u001b[0;34m=\u001b[0m\u001b[0;36m5\u001b[0m\u001b[0;34m)\u001b[0m\u001b[0;34m\u001b[0m\u001b[0;34m\u001b[0m\u001b[0m\n\u001b[0m",
            "\u001b[0;31mNameError\u001b[0m: name 'kprm_df_zaw6_top5_trans' is not defined"
          ]
        }
      ]
    },
    {
      "cell_type": "markdown",
      "source": [
        "Porównujemy wybrane wyniki dla tych ofert, w których nie ma zgodności między rozważanymi modelami."
      ],
      "metadata": {
        "id": "zjMo6sK0o4M4"
      }
    },
    {
      "cell_type": "code",
      "source": [
        "kprm_df[\"lin\"] = kprm_df_zaw6_top5[\"class_1\"]\n",
        "kprm_df[\"trans\"] = kprm_df_zaw6_top5_trans[\"class_1\"]\n",
        "kprm_df[kprm_df[\"lin\"].str.slice(0,1) != kprm_df[\"trans\"].str.slice(0,1)][\n",
        "    [\"trans\", \"lin\", \"stanowisko\", \"do_spraw\", \"desc\"]].head(n=5)"
      ],
      "metadata": {
        "colab": {
          "base_uri": "https://localhost:8080/",
          "height": 204
        },
        "id": "ZNv1gYazo3za",
        "outputId": "4c36bdf6-7482-4c1d-9fad-bd620acaee39"
      },
      "execution_count": null,
      "outputs": [
        {
          "output_type": "execute_result",
          "data": {
            "text/plain": [
              "     trans     lin            stanowisko  \\\n",
              "3   242307  441590              referent   \n",
              "12  242204  132102    audytor wewnętrzny   \n",
              "18  411003  341103        podreferendarz   \n",
              "21  311104  216590  inspektor wojewódzki   \n",
              "25  411003  242217              referent   \n",
              "\n",
              "                                             do_spraw  \\\n",
              "3                                     ds. kadr i płac   \n",
              "12                                               None   \n",
              "18                              obsługi kancelaryjnej   \n",
              "21  państwowego zasobu geodezyjnego i kartograficz...   \n",
              "25                                       sekretariatu   \n",
              "\n",
              "                                                 desc  \n",
              "3   referent ds. kadr i płac Powiatowy Inspektorat...  \n",
              "12  audytor wewnętrzny None Ministerstwo Spraw Zag...  \n",
              "18  podreferendarz obsługi kancelaryjnej Ministers...  \n",
              "21  inspektor wojewódzki państwowego zasobu geodez...  \n",
              "25  referent sekretariatu Izba Administracji Skarb...  "
            ],
            "text/html": [
              "\n",
              "  <div id=\"df-a4c7f19f-ce3f-402b-a065-39bef902bd35\">\n",
              "    <div class=\"colab-df-container\">\n",
              "      <div>\n",
              "<style scoped>\n",
              "    .dataframe tbody tr th:only-of-type {\n",
              "        vertical-align: middle;\n",
              "    }\n",
              "\n",
              "    .dataframe tbody tr th {\n",
              "        vertical-align: top;\n",
              "    }\n",
              "\n",
              "    .dataframe thead th {\n",
              "        text-align: right;\n",
              "    }\n",
              "</style>\n",
              "<table border=\"1\" class=\"dataframe\">\n",
              "  <thead>\n",
              "    <tr style=\"text-align: right;\">\n",
              "      <th></th>\n",
              "      <th>trans</th>\n",
              "      <th>lin</th>\n",
              "      <th>stanowisko</th>\n",
              "      <th>do_spraw</th>\n",
              "      <th>desc</th>\n",
              "    </tr>\n",
              "  </thead>\n",
              "  <tbody>\n",
              "    <tr>\n",
              "      <th>3</th>\n",
              "      <td>242307</td>\n",
              "      <td>441590</td>\n",
              "      <td>referent</td>\n",
              "      <td>ds. kadr i płac</td>\n",
              "      <td>referent ds. kadr i płac Powiatowy Inspektorat...</td>\n",
              "    </tr>\n",
              "    <tr>\n",
              "      <th>12</th>\n",
              "      <td>242204</td>\n",
              "      <td>132102</td>\n",
              "      <td>audytor wewnętrzny</td>\n",
              "      <td>None</td>\n",
              "      <td>audytor wewnętrzny None Ministerstwo Spraw Zag...</td>\n",
              "    </tr>\n",
              "    <tr>\n",
              "      <th>18</th>\n",
              "      <td>411003</td>\n",
              "      <td>341103</td>\n",
              "      <td>podreferendarz</td>\n",
              "      <td>obsługi kancelaryjnej</td>\n",
              "      <td>podreferendarz obsługi kancelaryjnej Ministers...</td>\n",
              "    </tr>\n",
              "    <tr>\n",
              "      <th>21</th>\n",
              "      <td>311104</td>\n",
              "      <td>216590</td>\n",
              "      <td>inspektor wojewódzki</td>\n",
              "      <td>państwowego zasobu geodezyjnego i kartograficz...</td>\n",
              "      <td>inspektor wojewódzki państwowego zasobu geodez...</td>\n",
              "    </tr>\n",
              "    <tr>\n",
              "      <th>25</th>\n",
              "      <td>411003</td>\n",
              "      <td>242217</td>\n",
              "      <td>referent</td>\n",
              "      <td>sekretariatu</td>\n",
              "      <td>referent sekretariatu Izba Administracji Skarb...</td>\n",
              "    </tr>\n",
              "  </tbody>\n",
              "</table>\n",
              "</div>\n",
              "      <button class=\"colab-df-convert\" onclick=\"convertToInteractive('df-a4c7f19f-ce3f-402b-a065-39bef902bd35')\"\n",
              "              title=\"Convert this dataframe to an interactive table.\"\n",
              "              style=\"display:none;\">\n",
              "        \n",
              "  <svg xmlns=\"http://www.w3.org/2000/svg\" height=\"24px\"viewBox=\"0 0 24 24\"\n",
              "       width=\"24px\">\n",
              "    <path d=\"M0 0h24v24H0V0z\" fill=\"none\"/>\n",
              "    <path d=\"M18.56 5.44l.94 2.06.94-2.06 2.06-.94-2.06-.94-.94-2.06-.94 2.06-2.06.94zm-11 1L8.5 8.5l.94-2.06 2.06-.94-2.06-.94L8.5 2.5l-.94 2.06-2.06.94zm10 10l.94 2.06.94-2.06 2.06-.94-2.06-.94-.94-2.06-.94 2.06-2.06.94z\"/><path d=\"M17.41 7.96l-1.37-1.37c-.4-.4-.92-.59-1.43-.59-.52 0-1.04.2-1.43.59L10.3 9.45l-7.72 7.72c-.78.78-.78 2.05 0 2.83L4 21.41c.39.39.9.59 1.41.59.51 0 1.02-.2 1.41-.59l7.78-7.78 2.81-2.81c.8-.78.8-2.07 0-2.86zM5.41 20L4 18.59l7.72-7.72 1.47 1.35L5.41 20z\"/>\n",
              "  </svg>\n",
              "      </button>\n",
              "      \n",
              "  <style>\n",
              "    .colab-df-container {\n",
              "      display:flex;\n",
              "      flex-wrap:wrap;\n",
              "      gap: 12px;\n",
              "    }\n",
              "\n",
              "    .colab-df-convert {\n",
              "      background-color: #E8F0FE;\n",
              "      border: none;\n",
              "      border-radius: 50%;\n",
              "      cursor: pointer;\n",
              "      display: none;\n",
              "      fill: #1967D2;\n",
              "      height: 32px;\n",
              "      padding: 0 0 0 0;\n",
              "      width: 32px;\n",
              "    }\n",
              "\n",
              "    .colab-df-convert:hover {\n",
              "      background-color: #E2EBFA;\n",
              "      box-shadow: 0px 1px 2px rgba(60, 64, 67, 0.3), 0px 1px 3px 1px rgba(60, 64, 67, 0.15);\n",
              "      fill: #174EA6;\n",
              "    }\n",
              "\n",
              "    [theme=dark] .colab-df-convert {\n",
              "      background-color: #3B4455;\n",
              "      fill: #D2E3FC;\n",
              "    }\n",
              "\n",
              "    [theme=dark] .colab-df-convert:hover {\n",
              "      background-color: #434B5C;\n",
              "      box-shadow: 0px 1px 3px 1px rgba(0, 0, 0, 0.15);\n",
              "      filter: drop-shadow(0px 1px 2px rgba(0, 0, 0, 0.3));\n",
              "      fill: #FFFFFF;\n",
              "    }\n",
              "  </style>\n",
              "\n",
              "      <script>\n",
              "        const buttonEl =\n",
              "          document.querySelector('#df-a4c7f19f-ce3f-402b-a065-39bef902bd35 button.colab-df-convert');\n",
              "        buttonEl.style.display =\n",
              "          google.colab.kernel.accessAllowed ? 'block' : 'none';\n",
              "\n",
              "        async function convertToInteractive(key) {\n",
              "          const element = document.querySelector('#df-a4c7f19f-ce3f-402b-a065-39bef902bd35');\n",
              "          const dataTable =\n",
              "            await google.colab.kernel.invokeFunction('convertToInteractive',\n",
              "                                                     [key], {});\n",
              "          if (!dataTable) return;\n",
              "\n",
              "          const docLinkHtml = 'Like what you see? Visit the ' +\n",
              "            '<a target=\"_blank\" href=https://colab.research.google.com/notebooks/data_table.ipynb>data table notebook</a>'\n",
              "            + ' to learn more about interactive tables.';\n",
              "          element.innerHTML = '';\n",
              "          dataTable['output_type'] = 'display_data';\n",
              "          await google.colab.output.renderOutput(dataTable, element);\n",
              "          const docLink = document.createElement('div');\n",
              "          docLink.innerHTML = docLinkHtml;\n",
              "          element.appendChild(docLink);\n",
              "        }\n",
              "      </script>\n",
              "    </div>\n",
              "  </div>\n",
              "  "
            ]
          },
          "metadata": {},
          "execution_count": 37
        }
      ]
    },
    {
      "cell_type": "markdown",
      "source": [
        "Ogólna zgodność wygląda następująco"
      ],
      "metadata": {
        "id": "x3BVe9sHocPx"
      }
    },
    {
      "cell_type": "markdown",
      "source": [
        "## Jakość modelu\n",
        "\n",
        "Poniżej przedstawiono jakość modelu na podstawie ofert pracy kodowanych ręcznie. "
      ],
      "metadata": {
        "id": "DelQY2GNBSqs"
      }
    },
    {
      "cell_type": "code",
      "source": [
        "labeled = pd.read_csv(\"https://github.com/ncn-foreigners/job-ads-datasets/raw/main/data/hand-coded.csv\", dtype=\"str\")\n",
        "labeled[\"code\"]=labeled[\"code\"].str.strip()\n",
        "labeled[\"desc\"]=labeled[\"desc\"].str.strip()\n",
        "labeled = labeled[~pd.isna(labeled[\"code\"])].drop_duplicates().reset_index()\n",
        "labeled2 = labeled.groupby(\"desc\")['code'].apply(lambda x: list(x)).reset_index()"
      ],
      "metadata": {
        "id": "Agd3KkJeBbTU"
      },
      "execution_count": 233,
      "outputs": []
    },
    {
      "cell_type": "code",
      "source": [
        "labeled_code6 = model_paper_linear.predict(\n",
        "    X_text=list(labeled2[\"desc\"]),\n",
        "    output_level=\"last\",\n",
        "    format=\"dataframe\",\n",
        "    top_k=3\n",
        ")"
      ],
      "metadata": {
        "colab": {
          "base_uri": "https://localhost:8080/"
        },
        "id": "2WYXzkuYDpzu",
        "outputId": "099fc441-3129-4546-c2a6-81f52aca98fc"
      },
      "execution_count": 234,
      "outputs": [
        {
          "output_type": "stream",
          "name": "stdout",
          "text": [
            "Processing X ...\n",
            "Processing text ...\n"
          ]
        },
        {
          "output_type": "stream",
          "name": "stderr",
          "text": [
            "100%|██████████| 9536/9536 [00:46<00:00, 204.16it/s]\n"
          ]
        },
        {
          "output_type": "stream",
          "name": "stdout",
          "text": [
            "Transforming text to tf-idf ...\n",
            "Predicting ...\n"
          ]
        },
        {
          "output_type": "stream",
          "name": "stderr",
          "text": [
            "100%|██████████| 9536/9536 [00:05<00:00, 1643.29it/s]\n"
          ]
        }
      ]
    },
    {
      "cell_type": "code",
      "source": [
        "labeled2[\"predictions\"]= labeled_code6[[\"class_1\", \"class_2\", \"class_3\"]].apply(lambda x: [str(x.class_1), str(x.class_2), str(x.class_3)], axis = 1)\n",
        "labeled2[\"pred1_overlap\"]=labeled2.apply(lambda x: len([val for val in [i[0] for i in x.predictions[0:len(x.code)]] if val in [str(j)[0] for j in x.code]])/len(x.code), axis = 1)\n",
        "labeled2[\"pred2_overlap\"]=labeled2.apply(lambda x: len([val for val in [i[0:2] for i in x.predictions[0:len(x.code)]] if val in [str(j)[0:2] for j in x.code]])/len(x.code), axis = 1)\n",
        "labeled2[\"pred4_overlap\"]=labeled2.apply(lambda x: len([val for val in [i[0:5] for i in x.predictions[0:len(x.code)]] if val in [str(j)[0:5] for j in x.code]])/len(x.code), axis = 1)\n",
        "labeled2[\"pred6_overlap\"]=labeled2.apply(lambda x: len([val for val in x.predictions[0:len(x.code)] if val in x.code])/len(x.code), axis = 1)"
      ],
      "metadata": {
        "id": "EHaQlQZaEK6b"
      },
      "execution_count": 235,
      "outputs": []
    },
    {
      "cell_type": "markdown",
      "source": [
        "Porównanie jakości predykcji na 1, 2, 4 i cyfrach uwzględniając możliwość wielu kodów."
      ],
      "metadata": {
        "id": "eLefFQy1yEZM"
      }
    },
    {
      "cell_type": "code",
      "source": [
        "[np.sum(labeled2[\"pred1_overlap\"]) / labeled2.shape[0],\n",
        " np.sum(labeled2[\"pred2_overlap\"]) / labeled2.shape[0],\n",
        " np.sum(labeled2[\"pred4_overlap\"]) / labeled2.shape[0],\n",
        " np.sum(labeled2[\"pred6_overlap\"]) / labeled2.shape[0]]"
      ],
      "metadata": {
        "colab": {
          "base_uri": "https://localhost:8080/"
        },
        "id": "i8Y06Dkav0Mr",
        "outputId": "379b0646-d1d3-4f0d-a238-7420c2029d26"
      },
      "execution_count": 236,
      "outputs": [
        {
          "output_type": "execute_result",
          "data": {
            "text/plain": [
              "[0.8583962527964205, 0.8383144574944071, 0.7801489093959733, 0.764104446308725]"
            ]
          },
          "metadata": {},
          "execution_count": 236
        }
      ]
    },
    {
      "cell_type": "markdown",
      "source": [
        "Porównanie predykcji dla 1 kodu według 1 cyfrowych kodów"
      ],
      "metadata": {
        "id": "gmFbOCfUyRWP"
      }
    },
    {
      "cell_type": "code",
      "source": [
        "labeled2[\"code_2_true\"]=labeled2[\"code\"].apply(lambda x: str(x[0])[0])\n",
        "labeled2[\"code_2_pred\"]=labeled2[\"predictions\"].apply(lambda x: str(x[0])[0])"
      ],
      "metadata": {
        "id": "xuKpuDL1yVdk"
      },
      "execution_count": 237,
      "outputs": []
    },
    {
      "cell_type": "markdown",
      "source": [
        "Predykcja jest najgorsza dla kodów 3 (72%) i 1 (77%), a najlepsza dla 2 (91%) i 5 (90%)."
      ],
      "metadata": {
        "id": "PW9RnsLK4Ham"
      }
    },
    {
      "cell_type": "code",
      "source": [
        "pd.crosstab(index = labeled2[\"code_2_true\"], \n",
        "            columns = labeled2[\"code_2_pred\"])"
      ],
      "metadata": {
        "colab": {
          "base_uri": "https://localhost:8080/",
          "height": 359
        },
        "id": "nXMY5Z63y1oI",
        "outputId": "1ce027a8-0857-4934-9d8f-e30fe07056e0"
      },
      "execution_count": 245,
      "outputs": [
        {
          "output_type": "execute_result",
          "data": {
            "text/plain": [
              "code_2_pred    1     2    3    4     5   6     7    8    9\n",
              "code_2_true                                               \n",
              "1            420    81   20    4    12   0     2    1    3\n",
              "2             48  2728  118   47    38   0    17    1    2\n",
              "3             12   155  924   51    74   0    43   13    3\n",
              "4              6    57   41  646    14   0     4    6   18\n",
              "5              8    55   27   14  1028   0     6    0    6\n",
              "6              0     1    0    0     0  16     0    0    1\n",
              "7              6    19   31    2     5   0  1268   32   73\n",
              "8              1     2    6   14     5   0    42  587   19\n",
              "9              1     4    7   28    20   2    42   13  536"
            ],
            "text/html": [
              "\n",
              "  <div id=\"df-865aee43-306d-4168-a011-7b74743b35fb\">\n",
              "    <div class=\"colab-df-container\">\n",
              "      <div>\n",
              "<style scoped>\n",
              "    .dataframe tbody tr th:only-of-type {\n",
              "        vertical-align: middle;\n",
              "    }\n",
              "\n",
              "    .dataframe tbody tr th {\n",
              "        vertical-align: top;\n",
              "    }\n",
              "\n",
              "    .dataframe thead th {\n",
              "        text-align: right;\n",
              "    }\n",
              "</style>\n",
              "<table border=\"1\" class=\"dataframe\">\n",
              "  <thead>\n",
              "    <tr style=\"text-align: right;\">\n",
              "      <th>code_2_pred</th>\n",
              "      <th>1</th>\n",
              "      <th>2</th>\n",
              "      <th>3</th>\n",
              "      <th>4</th>\n",
              "      <th>5</th>\n",
              "      <th>6</th>\n",
              "      <th>7</th>\n",
              "      <th>8</th>\n",
              "      <th>9</th>\n",
              "    </tr>\n",
              "    <tr>\n",
              "      <th>code_2_true</th>\n",
              "      <th></th>\n",
              "      <th></th>\n",
              "      <th></th>\n",
              "      <th></th>\n",
              "      <th></th>\n",
              "      <th></th>\n",
              "      <th></th>\n",
              "      <th></th>\n",
              "      <th></th>\n",
              "    </tr>\n",
              "  </thead>\n",
              "  <tbody>\n",
              "    <tr>\n",
              "      <th>1</th>\n",
              "      <td>420</td>\n",
              "      <td>81</td>\n",
              "      <td>20</td>\n",
              "      <td>4</td>\n",
              "      <td>12</td>\n",
              "      <td>0</td>\n",
              "      <td>2</td>\n",
              "      <td>1</td>\n",
              "      <td>3</td>\n",
              "    </tr>\n",
              "    <tr>\n",
              "      <th>2</th>\n",
              "      <td>48</td>\n",
              "      <td>2728</td>\n",
              "      <td>118</td>\n",
              "      <td>47</td>\n",
              "      <td>38</td>\n",
              "      <td>0</td>\n",
              "      <td>17</td>\n",
              "      <td>1</td>\n",
              "      <td>2</td>\n",
              "    </tr>\n",
              "    <tr>\n",
              "      <th>3</th>\n",
              "      <td>12</td>\n",
              "      <td>155</td>\n",
              "      <td>924</td>\n",
              "      <td>51</td>\n",
              "      <td>74</td>\n",
              "      <td>0</td>\n",
              "      <td>43</td>\n",
              "      <td>13</td>\n",
              "      <td>3</td>\n",
              "    </tr>\n",
              "    <tr>\n",
              "      <th>4</th>\n",
              "      <td>6</td>\n",
              "      <td>57</td>\n",
              "      <td>41</td>\n",
              "      <td>646</td>\n",
              "      <td>14</td>\n",
              "      <td>0</td>\n",
              "      <td>4</td>\n",
              "      <td>6</td>\n",
              "      <td>18</td>\n",
              "    </tr>\n",
              "    <tr>\n",
              "      <th>5</th>\n",
              "      <td>8</td>\n",
              "      <td>55</td>\n",
              "      <td>27</td>\n",
              "      <td>14</td>\n",
              "      <td>1028</td>\n",
              "      <td>0</td>\n",
              "      <td>6</td>\n",
              "      <td>0</td>\n",
              "      <td>6</td>\n",
              "    </tr>\n",
              "    <tr>\n",
              "      <th>6</th>\n",
              "      <td>0</td>\n",
              "      <td>1</td>\n",
              "      <td>0</td>\n",
              "      <td>0</td>\n",
              "      <td>0</td>\n",
              "      <td>16</td>\n",
              "      <td>0</td>\n",
              "      <td>0</td>\n",
              "      <td>1</td>\n",
              "    </tr>\n",
              "    <tr>\n",
              "      <th>7</th>\n",
              "      <td>6</td>\n",
              "      <td>19</td>\n",
              "      <td>31</td>\n",
              "      <td>2</td>\n",
              "      <td>5</td>\n",
              "      <td>0</td>\n",
              "      <td>1268</td>\n",
              "      <td>32</td>\n",
              "      <td>73</td>\n",
              "    </tr>\n",
              "    <tr>\n",
              "      <th>8</th>\n",
              "      <td>1</td>\n",
              "      <td>2</td>\n",
              "      <td>6</td>\n",
              "      <td>14</td>\n",
              "      <td>5</td>\n",
              "      <td>0</td>\n",
              "      <td>42</td>\n",
              "      <td>587</td>\n",
              "      <td>19</td>\n",
              "    </tr>\n",
              "    <tr>\n",
              "      <th>9</th>\n",
              "      <td>1</td>\n",
              "      <td>4</td>\n",
              "      <td>7</td>\n",
              "      <td>28</td>\n",
              "      <td>20</td>\n",
              "      <td>2</td>\n",
              "      <td>42</td>\n",
              "      <td>13</td>\n",
              "      <td>536</td>\n",
              "    </tr>\n",
              "  </tbody>\n",
              "</table>\n",
              "</div>\n",
              "      <button class=\"colab-df-convert\" onclick=\"convertToInteractive('df-865aee43-306d-4168-a011-7b74743b35fb')\"\n",
              "              title=\"Convert this dataframe to an interactive table.\"\n",
              "              style=\"display:none;\">\n",
              "        \n",
              "  <svg xmlns=\"http://www.w3.org/2000/svg\" height=\"24px\"viewBox=\"0 0 24 24\"\n",
              "       width=\"24px\">\n",
              "    <path d=\"M0 0h24v24H0V0z\" fill=\"none\"/>\n",
              "    <path d=\"M18.56 5.44l.94 2.06.94-2.06 2.06-.94-2.06-.94-.94-2.06-.94 2.06-2.06.94zm-11 1L8.5 8.5l.94-2.06 2.06-.94-2.06-.94L8.5 2.5l-.94 2.06-2.06.94zm10 10l.94 2.06.94-2.06 2.06-.94-2.06-.94-.94-2.06-.94 2.06-2.06.94z\"/><path d=\"M17.41 7.96l-1.37-1.37c-.4-.4-.92-.59-1.43-.59-.52 0-1.04.2-1.43.59L10.3 9.45l-7.72 7.72c-.78.78-.78 2.05 0 2.83L4 21.41c.39.39.9.59 1.41.59.51 0 1.02-.2 1.41-.59l7.78-7.78 2.81-2.81c.8-.78.8-2.07 0-2.86zM5.41 20L4 18.59l7.72-7.72 1.47 1.35L5.41 20z\"/>\n",
              "  </svg>\n",
              "      </button>\n",
              "      \n",
              "  <style>\n",
              "    .colab-df-container {\n",
              "      display:flex;\n",
              "      flex-wrap:wrap;\n",
              "      gap: 12px;\n",
              "    }\n",
              "\n",
              "    .colab-df-convert {\n",
              "      background-color: #E8F0FE;\n",
              "      border: none;\n",
              "      border-radius: 50%;\n",
              "      cursor: pointer;\n",
              "      display: none;\n",
              "      fill: #1967D2;\n",
              "      height: 32px;\n",
              "      padding: 0 0 0 0;\n",
              "      width: 32px;\n",
              "    }\n",
              "\n",
              "    .colab-df-convert:hover {\n",
              "      background-color: #E2EBFA;\n",
              "      box-shadow: 0px 1px 2px rgba(60, 64, 67, 0.3), 0px 1px 3px 1px rgba(60, 64, 67, 0.15);\n",
              "      fill: #174EA6;\n",
              "    }\n",
              "\n",
              "    [theme=dark] .colab-df-convert {\n",
              "      background-color: #3B4455;\n",
              "      fill: #D2E3FC;\n",
              "    }\n",
              "\n",
              "    [theme=dark] .colab-df-convert:hover {\n",
              "      background-color: #434B5C;\n",
              "      box-shadow: 0px 1px 3px 1px rgba(0, 0, 0, 0.15);\n",
              "      filter: drop-shadow(0px 1px 2px rgba(0, 0, 0, 0.3));\n",
              "      fill: #FFFFFF;\n",
              "    }\n",
              "  </style>\n",
              "\n",
              "      <script>\n",
              "        const buttonEl =\n",
              "          document.querySelector('#df-865aee43-306d-4168-a011-7b74743b35fb button.colab-df-convert');\n",
              "        buttonEl.style.display =\n",
              "          google.colab.kernel.accessAllowed ? 'block' : 'none';\n",
              "\n",
              "        async function convertToInteractive(key) {\n",
              "          const element = document.querySelector('#df-865aee43-306d-4168-a011-7b74743b35fb');\n",
              "          const dataTable =\n",
              "            await google.colab.kernel.invokeFunction('convertToInteractive',\n",
              "                                                     [key], {});\n",
              "          if (!dataTable) return;\n",
              "\n",
              "          const docLinkHtml = 'Like what you see? Visit the ' +\n",
              "            '<a target=\"_blank\" href=https://colab.research.google.com/notebooks/data_table.ipynb>data table notebook</a>'\n",
              "            + ' to learn more about interactive tables.';\n",
              "          element.innerHTML = '';\n",
              "          dataTable['output_type'] = 'display_data';\n",
              "          await google.colab.output.renderOutput(dataTable, element);\n",
              "          const docLink = document.createElement('div');\n",
              "          docLink.innerHTML = docLinkHtml;\n",
              "          element.appendChild(docLink);\n",
              "        }\n",
              "      </script>\n",
              "    </div>\n",
              "  </div>\n",
              "  "
            ]
          },
          "metadata": {},
          "execution_count": 245
        }
      ]
    },
    {
      "cell_type": "markdown",
      "source": [
        "Przykladowa zła predykcja gdzie koordynator ds. logistyki jest klasyfikowany jako kierowca."
      ],
      "metadata": {
        "id": "EaB8VEqk5UWX"
      }
    },
    {
      "cell_type": "code",
      "source": [
        "labeled2[(labeled2[\"code_2_true\"]==\"2\") & (labeled2[\"code_2_pred\"]== \"8\")].iloc[0,0]"
      ],
      "metadata": {
        "colab": {
          "base_uri": "https://localhost:8080/",
          "height": 140
        },
        "id": "xE4R0YB95Wxm",
        "outputId": "010e7ec2-504f-4250-a1ec-cd7e3677b9a4"
      },
      "execution_count": 262,
      "outputs": [
        {
          "output_type": "execute_result",
          "data": {
            "text/plain": [
              "'Koordynator ds. logistyki ZAKŁADY PRODUKCJI SPOŻYWCZEJ AMBI M KARKUT I WSPÓLNICY SPÓŁKA JAWNA kierownik / koordynator Łańcuch dostaw Twój zakres obowiązków Nadzór nad flotą samochodów osobowych i dostawczych Odpowiedzialność za planowanie i organizowanie pracy kierowców na dzień następny (20-25 pracowników)Szczegółowe rozliczanie kierowców z dnia pracy Odpowiedzialność za jakość i terminowość dostaw do klientów Bieżąca kontrola zużycia paliwa oraz optymalizowanie tras kierowców - GPS Codzienny monitoring stanu technicznego taboru, weryfikacja zgłoszeń kierowców oraz zakresu zleconych i wykonanych prac serwisowych Prowadzenie cyklicznych szkoleń kierowców Raportowanie Nasze wymagania wykształcenie min. średnie umiejętność kierowania zespołem ludzkim podstawowa wiedza z zakresu czasu pracy kierowców umiejętność podejmowania decyzji pod presją czasu dobra organizacja pracy To oferujemy zatrudnienie na podstawie umowy o pracę lub umowę o współpracy wszelkie niezbędne narzędzia do wykonywania powierzonych zadań atrakcyjne warunki wynagrodzenia, wynagrodzenie płatne zawsze na czas miłą atmosferę, niezbędne wsparcie podczas okresu wdrożenia oraz stabilne zatrudnienie praca w godzinach 12:30-20:30'"
            ],
            "application/vnd.google.colaboratory.intrinsic+json": {
              "type": "string"
            }
          },
          "metadata": {},
          "execution_count": 262
        }
      ]
    },
    {
      "cell_type": "markdown",
      "source": [
        "Ten przypadek może być jednak błędem poniewaz kod nadany ręcznie to `912990` (Pozostali pracownicy zajmujący się sprzątaniem gdzie indziej niesklasyfikowani), a kody `143907` (Kierownik firmy sprzątającej) i `143990` (Pozostali kierownicy do spraw innych typów usług gdzie indziej niesklasyfikowani) z czego drugi jest możliwy ale pierwszy już nie.\n"
      ],
      "metadata": {
        "id": "Cou30T2B6Gyg"
      }
    },
    {
      "cell_type": "code",
      "source": [
        "labeled2[(labeled2[\"code_2_true\"]==\"9\") & (labeled2[\"code_2_pred\"]== \"1\")].iloc[0,0]"
      ],
      "metadata": {
        "colab": {
          "base_uri": "https://localhost:8080/",
          "height": 140
        },
        "id": "aaHbX39E56p1",
        "outputId": "f8733613-c135-45a7-d921-f29f5eb6e894"
      },
      "execution_count": 260,
      "outputs": [
        {
          "output_type": "execute_result",
          "data": {
            "text/plain": [
              "'Koordynator zespołu sprzątającego (k/m) STOKSON Spółka Jawna Henryk Stokłosa i Wspólnicy   Kto szuka: STOKSON Spółka Jawna Henryk Stokłosa i Wspólnicy Stanowisko: Koordynator zespołu sprzątającego (k/m) Lokalizacja: Piekary Śląskie śląskie Opis stanowiska podany przez pracodawcę: Opis stanowiska: Prace porządkowe oraz nadzór nad pracownikami sprzątającymi, Kontrola zużycia oraz zamawianie środków czystości, Nadzór nad realizacją prac, Aktywne uczestnictwo w pracy zespołu, Raportowanie do przełożonego. Wymagania stawiane pracownikowi: Wymagania: Doświadczenie zawodowe na podobnym stanowisku, Umiejętność kierowania zespołem, Znajomość pakietu MS Office, Dyspozycyjność do pracy w systemie zmianowym. Firma oferuje: Oferujemy: Stabilną i satysfakcjonującą pracę w oparciu o umowę o pracę na pełen etat, Atrakcyjne wynagrodzenie, Pracę w prężnie rozwijającej się firmie, Wysoki standard pracy, Możliwość przystąpienia do ubezpieczenia grupowego, System kafeteryjny - do wyboru m.in. zajęcia sportowe/ bilety do kina, na koncert/ bony podarunkowe, Program poleceń pracowniczych. Kontakt do pracodawcy: Kliknij tutaj, aby skontaktować się z pracodawcą lub wysłać swoje CV » Aplikuj na tą ofertę pracy'"
            ],
            "application/vnd.google.colaboratory.intrinsic+json": {
              "type": "string"
            }
          },
          "metadata": {},
          "execution_count": 260
        }
      ]
    },
    {
      "cell_type": "markdown",
      "source": [],
      "metadata": {
        "id": "VX07sq_M6GLL"
      }
    }
  ]
}