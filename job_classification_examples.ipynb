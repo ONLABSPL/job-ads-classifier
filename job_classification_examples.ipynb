{
  "nbformat": 4,
  "nbformat_minor": 0,
  "metadata": {
    "colab": {
      "provenance": [],
      "collapsed_sections": [],
      "authorship_tag": "ABX9TyN3zrLzakRiThaZlFqCXDUa",
      "include_colab_link": true
    },
    "kernelspec": {
      "name": "python3",
      "display_name": "Python 3"
    },
    "language_info": {
      "name": "python"
    },
    "accelerator": "GPU",
    "widgets": {
      "application/vnd.jupyter.widget-state+json": {
        "0b4c5c31730f43b0927c3e9feb822a3c": {
          "model_module": "@jupyter-widgets/controls",
          "model_name": "HBoxModel",
          "model_module_version": "1.5.0",
          "state": {
            "_dom_classes": [],
            "_model_module": "@jupyter-widgets/controls",
            "_model_module_version": "1.5.0",
            "_model_name": "HBoxModel",
            "_view_count": null,
            "_view_module": "@jupyter-widgets/controls",
            "_view_module_version": "1.5.0",
            "_view_name": "HBoxView",
            "box_style": "",
            "children": [
              "IPY_MODEL_7e6f37806a8649469f362341480ca417",
              "IPY_MODEL_6e17c485130e43aab1e4be612250dae5",
              "IPY_MODEL_31597c6a609f48eb96e0e6349bc07da5"
            ],
            "layout": "IPY_MODEL_fec8be73989f4c48b5e4f37e3bdd879d"
          }
        },
        "7e6f37806a8649469f362341480ca417": {
          "model_module": "@jupyter-widgets/controls",
          "model_name": "HTMLModel",
          "model_module_version": "1.5.0",
          "state": {
            "_dom_classes": [],
            "_model_module": "@jupyter-widgets/controls",
            "_model_module_version": "1.5.0",
            "_model_name": "HTMLModel",
            "_view_count": null,
            "_view_module": "@jupyter-widgets/controls",
            "_view_module_version": "1.5.0",
            "_view_name": "HTMLView",
            "description": "",
            "description_tooltip": null,
            "layout": "IPY_MODEL_d93e25ab5ca5448ea428303afad0b2a2",
            "placeholder": "​",
            "style": "IPY_MODEL_32e4ae4e08cd4f9092826dfdbea045d9",
            "value": "Predicting DataLoader 0: 100%"
          }
        },
        "6e17c485130e43aab1e4be612250dae5": {
          "model_module": "@jupyter-widgets/controls",
          "model_name": "FloatProgressModel",
          "model_module_version": "1.5.0",
          "state": {
            "_dom_classes": [],
            "_model_module": "@jupyter-widgets/controls",
            "_model_module_version": "1.5.0",
            "_model_name": "FloatProgressModel",
            "_view_count": null,
            "_view_module": "@jupyter-widgets/controls",
            "_view_module_version": "1.5.0",
            "_view_name": "ProgressView",
            "bar_style": "success",
            "description": "",
            "description_tooltip": null,
            "layout": "IPY_MODEL_3cd5374259554dbb930519b86afc7245",
            "max": 1,
            "min": 0,
            "orientation": "horizontal",
            "style": "IPY_MODEL_65c677c7744d40f4ac265821bb5a2d41",
            "value": 1
          }
        },
        "31597c6a609f48eb96e0e6349bc07da5": {
          "model_module": "@jupyter-widgets/controls",
          "model_name": "HTMLModel",
          "model_module_version": "1.5.0",
          "state": {
            "_dom_classes": [],
            "_model_module": "@jupyter-widgets/controls",
            "_model_module_version": "1.5.0",
            "_model_name": "HTMLModel",
            "_view_count": null,
            "_view_module": "@jupyter-widgets/controls",
            "_view_module_version": "1.5.0",
            "_view_name": "HTMLView",
            "description": "",
            "description_tooltip": null,
            "layout": "IPY_MODEL_4e0349a045b54485afc6c56d0e763e13",
            "placeholder": "​",
            "style": "IPY_MODEL_c26a1ca444474937a1f98919d4d968ec",
            "value": " 57/57 [00:05&lt;00:00,  9.78it/s]"
          }
        },
        "fec8be73989f4c48b5e4f37e3bdd879d": {
          "model_module": "@jupyter-widgets/base",
          "model_name": "LayoutModel",
          "model_module_version": "1.2.0",
          "state": {
            "_model_module": "@jupyter-widgets/base",
            "_model_module_version": "1.2.0",
            "_model_name": "LayoutModel",
            "_view_count": null,
            "_view_module": "@jupyter-widgets/base",
            "_view_module_version": "1.2.0",
            "_view_name": "LayoutView",
            "align_content": null,
            "align_items": null,
            "align_self": null,
            "border": null,
            "bottom": null,
            "display": "inline-flex",
            "flex": null,
            "flex_flow": "row wrap",
            "grid_area": null,
            "grid_auto_columns": null,
            "grid_auto_flow": null,
            "grid_auto_rows": null,
            "grid_column": null,
            "grid_gap": null,
            "grid_row": null,
            "grid_template_areas": null,
            "grid_template_columns": null,
            "grid_template_rows": null,
            "height": null,
            "justify_content": null,
            "justify_items": null,
            "left": null,
            "margin": null,
            "max_height": null,
            "max_width": null,
            "min_height": null,
            "min_width": null,
            "object_fit": null,
            "object_position": null,
            "order": null,
            "overflow": null,
            "overflow_x": null,
            "overflow_y": null,
            "padding": null,
            "right": null,
            "top": null,
            "visibility": null,
            "width": "100%"
          }
        },
        "d93e25ab5ca5448ea428303afad0b2a2": {
          "model_module": "@jupyter-widgets/base",
          "model_name": "LayoutModel",
          "model_module_version": "1.2.0",
          "state": {
            "_model_module": "@jupyter-widgets/base",
            "_model_module_version": "1.2.0",
            "_model_name": "LayoutModel",
            "_view_count": null,
            "_view_module": "@jupyter-widgets/base",
            "_view_module_version": "1.2.0",
            "_view_name": "LayoutView",
            "align_content": null,
            "align_items": null,
            "align_self": null,
            "border": null,
            "bottom": null,
            "display": null,
            "flex": null,
            "flex_flow": null,
            "grid_area": null,
            "grid_auto_columns": null,
            "grid_auto_flow": null,
            "grid_auto_rows": null,
            "grid_column": null,
            "grid_gap": null,
            "grid_row": null,
            "grid_template_areas": null,
            "grid_template_columns": null,
            "grid_template_rows": null,
            "height": null,
            "justify_content": null,
            "justify_items": null,
            "left": null,
            "margin": null,
            "max_height": null,
            "max_width": null,
            "min_height": null,
            "min_width": null,
            "object_fit": null,
            "object_position": null,
            "order": null,
            "overflow": null,
            "overflow_x": null,
            "overflow_y": null,
            "padding": null,
            "right": null,
            "top": null,
            "visibility": null,
            "width": null
          }
        },
        "32e4ae4e08cd4f9092826dfdbea045d9": {
          "model_module": "@jupyter-widgets/controls",
          "model_name": "DescriptionStyleModel",
          "model_module_version": "1.5.0",
          "state": {
            "_model_module": "@jupyter-widgets/controls",
            "_model_module_version": "1.5.0",
            "_model_name": "DescriptionStyleModel",
            "_view_count": null,
            "_view_module": "@jupyter-widgets/base",
            "_view_module_version": "1.2.0",
            "_view_name": "StyleView",
            "description_width": ""
          }
        },
        "3cd5374259554dbb930519b86afc7245": {
          "model_module": "@jupyter-widgets/base",
          "model_name": "LayoutModel",
          "model_module_version": "1.2.0",
          "state": {
            "_model_module": "@jupyter-widgets/base",
            "_model_module_version": "1.2.0",
            "_model_name": "LayoutModel",
            "_view_count": null,
            "_view_module": "@jupyter-widgets/base",
            "_view_module_version": "1.2.0",
            "_view_name": "LayoutView",
            "align_content": null,
            "align_items": null,
            "align_self": null,
            "border": null,
            "bottom": null,
            "display": null,
            "flex": "2",
            "flex_flow": null,
            "grid_area": null,
            "grid_auto_columns": null,
            "grid_auto_flow": null,
            "grid_auto_rows": null,
            "grid_column": null,
            "grid_gap": null,
            "grid_row": null,
            "grid_template_areas": null,
            "grid_template_columns": null,
            "grid_template_rows": null,
            "height": null,
            "justify_content": null,
            "justify_items": null,
            "left": null,
            "margin": null,
            "max_height": null,
            "max_width": null,
            "min_height": null,
            "min_width": null,
            "object_fit": null,
            "object_position": null,
            "order": null,
            "overflow": null,
            "overflow_x": null,
            "overflow_y": null,
            "padding": null,
            "right": null,
            "top": null,
            "visibility": null,
            "width": null
          }
        },
        "65c677c7744d40f4ac265821bb5a2d41": {
          "model_module": "@jupyter-widgets/controls",
          "model_name": "ProgressStyleModel",
          "model_module_version": "1.5.0",
          "state": {
            "_model_module": "@jupyter-widgets/controls",
            "_model_module_version": "1.5.0",
            "_model_name": "ProgressStyleModel",
            "_view_count": null,
            "_view_module": "@jupyter-widgets/base",
            "_view_module_version": "1.2.0",
            "_view_name": "StyleView",
            "bar_color": null,
            "description_width": ""
          }
        },
        "4e0349a045b54485afc6c56d0e763e13": {
          "model_module": "@jupyter-widgets/base",
          "model_name": "LayoutModel",
          "model_module_version": "1.2.0",
          "state": {
            "_model_module": "@jupyter-widgets/base",
            "_model_module_version": "1.2.0",
            "_model_name": "LayoutModel",
            "_view_count": null,
            "_view_module": "@jupyter-widgets/base",
            "_view_module_version": "1.2.0",
            "_view_name": "LayoutView",
            "align_content": null,
            "align_items": null,
            "align_self": null,
            "border": null,
            "bottom": null,
            "display": null,
            "flex": null,
            "flex_flow": null,
            "grid_area": null,
            "grid_auto_columns": null,
            "grid_auto_flow": null,
            "grid_auto_rows": null,
            "grid_column": null,
            "grid_gap": null,
            "grid_row": null,
            "grid_template_areas": null,
            "grid_template_columns": null,
            "grid_template_rows": null,
            "height": null,
            "justify_content": null,
            "justify_items": null,
            "left": null,
            "margin": null,
            "max_height": null,
            "max_width": null,
            "min_height": null,
            "min_width": null,
            "object_fit": null,
            "object_position": null,
            "order": null,
            "overflow": null,
            "overflow_x": null,
            "overflow_y": null,
            "padding": null,
            "right": null,
            "top": null,
            "visibility": null,
            "width": null
          }
        },
        "c26a1ca444474937a1f98919d4d968ec": {
          "model_module": "@jupyter-widgets/controls",
          "model_name": "DescriptionStyleModel",
          "model_module_version": "1.5.0",
          "state": {
            "_model_module": "@jupyter-widgets/controls",
            "_model_module_version": "1.5.0",
            "_model_name": "DescriptionStyleModel",
            "_view_count": null,
            "_view_module": "@jupyter-widgets/base",
            "_view_module_version": "1.2.0",
            "_view_name": "StyleView",
            "description_width": ""
          }
        },
        "c916956e872241a781ecc8f3b2bbcb59": {
          "model_module": "@jupyter-widgets/controls",
          "model_name": "HBoxModel",
          "model_module_version": "1.5.0",
          "state": {
            "_dom_classes": [],
            "_model_module": "@jupyter-widgets/controls",
            "_model_module_version": "1.5.0",
            "_model_name": "HBoxModel",
            "_view_count": null,
            "_view_module": "@jupyter-widgets/controls",
            "_view_module_version": "1.5.0",
            "_view_name": "HBoxView",
            "box_style": "",
            "children": [
              "IPY_MODEL_55b82e3029f04980983ded3e20550bda",
              "IPY_MODEL_61992e0eb0e54025b053a0e46071d133",
              "IPY_MODEL_e0ade9b37ebb455b8e53dcbafbe8f3b8"
            ],
            "layout": "IPY_MODEL_c5f4e01efdc84ee29f551c55c5463069"
          }
        },
        "55b82e3029f04980983ded3e20550bda": {
          "model_module": "@jupyter-widgets/controls",
          "model_name": "HTMLModel",
          "model_module_version": "1.5.0",
          "state": {
            "_dom_classes": [],
            "_model_module": "@jupyter-widgets/controls",
            "_model_module_version": "1.5.0",
            "_model_name": "HTMLModel",
            "_view_count": null,
            "_view_module": "@jupyter-widgets/controls",
            "_view_module_version": "1.5.0",
            "_view_name": "HTMLView",
            "description": "",
            "description_tooltip": null,
            "layout": "IPY_MODEL_992f0707f8134d57a37e5faab18213f0",
            "placeholder": "​",
            "style": "IPY_MODEL_94cc6f3852014db8939360f71c50dabc",
            "value": "Predicting DataLoader 0: 100%"
          }
        },
        "61992e0eb0e54025b053a0e46071d133": {
          "model_module": "@jupyter-widgets/controls",
          "model_name": "FloatProgressModel",
          "model_module_version": "1.5.0",
          "state": {
            "_dom_classes": [],
            "_model_module": "@jupyter-widgets/controls",
            "_model_module_version": "1.5.0",
            "_model_name": "FloatProgressModel",
            "_view_count": null,
            "_view_module": "@jupyter-widgets/controls",
            "_view_module_version": "1.5.0",
            "_view_name": "ProgressView",
            "bar_style": "success",
            "description": "",
            "description_tooltip": null,
            "layout": "IPY_MODEL_02977d513ad94652a84636dd3bcb1138",
            "max": 1,
            "min": 0,
            "orientation": "horizontal",
            "style": "IPY_MODEL_10d401b5f38f4c9c9bb3347652646d46",
            "value": 1
          }
        },
        "e0ade9b37ebb455b8e53dcbafbe8f3b8": {
          "model_module": "@jupyter-widgets/controls",
          "model_name": "HTMLModel",
          "model_module_version": "1.5.0",
          "state": {
            "_dom_classes": [],
            "_model_module": "@jupyter-widgets/controls",
            "_model_module_version": "1.5.0",
            "_model_name": "HTMLModel",
            "_view_count": null,
            "_view_module": "@jupyter-widgets/controls",
            "_view_module_version": "1.5.0",
            "_view_name": "HTMLView",
            "description": "",
            "description_tooltip": null,
            "layout": "IPY_MODEL_fbea7d260668454b8c14e5586053d29f",
            "placeholder": "​",
            "style": "IPY_MODEL_2f0dc7bac0fe49babd16ec15b7f79404",
            "value": " 1/1 [00:00&lt;00:00,  2.74it/s]"
          }
        },
        "c5f4e01efdc84ee29f551c55c5463069": {
          "model_module": "@jupyter-widgets/base",
          "model_name": "LayoutModel",
          "model_module_version": "1.2.0",
          "state": {
            "_model_module": "@jupyter-widgets/base",
            "_model_module_version": "1.2.0",
            "_model_name": "LayoutModel",
            "_view_count": null,
            "_view_module": "@jupyter-widgets/base",
            "_view_module_version": "1.2.0",
            "_view_name": "LayoutView",
            "align_content": null,
            "align_items": null,
            "align_self": null,
            "border": null,
            "bottom": null,
            "display": "inline-flex",
            "flex": null,
            "flex_flow": "row wrap",
            "grid_area": null,
            "grid_auto_columns": null,
            "grid_auto_flow": null,
            "grid_auto_rows": null,
            "grid_column": null,
            "grid_gap": null,
            "grid_row": null,
            "grid_template_areas": null,
            "grid_template_columns": null,
            "grid_template_rows": null,
            "height": null,
            "justify_content": null,
            "justify_items": null,
            "left": null,
            "margin": null,
            "max_height": null,
            "max_width": null,
            "min_height": null,
            "min_width": null,
            "object_fit": null,
            "object_position": null,
            "order": null,
            "overflow": null,
            "overflow_x": null,
            "overflow_y": null,
            "padding": null,
            "right": null,
            "top": null,
            "visibility": null,
            "width": "100%"
          }
        },
        "992f0707f8134d57a37e5faab18213f0": {
          "model_module": "@jupyter-widgets/base",
          "model_name": "LayoutModel",
          "model_module_version": "1.2.0",
          "state": {
            "_model_module": "@jupyter-widgets/base",
            "_model_module_version": "1.2.0",
            "_model_name": "LayoutModel",
            "_view_count": null,
            "_view_module": "@jupyter-widgets/base",
            "_view_module_version": "1.2.0",
            "_view_name": "LayoutView",
            "align_content": null,
            "align_items": null,
            "align_self": null,
            "border": null,
            "bottom": null,
            "display": null,
            "flex": null,
            "flex_flow": null,
            "grid_area": null,
            "grid_auto_columns": null,
            "grid_auto_flow": null,
            "grid_auto_rows": null,
            "grid_column": null,
            "grid_gap": null,
            "grid_row": null,
            "grid_template_areas": null,
            "grid_template_columns": null,
            "grid_template_rows": null,
            "height": null,
            "justify_content": null,
            "justify_items": null,
            "left": null,
            "margin": null,
            "max_height": null,
            "max_width": null,
            "min_height": null,
            "min_width": null,
            "object_fit": null,
            "object_position": null,
            "order": null,
            "overflow": null,
            "overflow_x": null,
            "overflow_y": null,
            "padding": null,
            "right": null,
            "top": null,
            "visibility": null,
            "width": null
          }
        },
        "94cc6f3852014db8939360f71c50dabc": {
          "model_module": "@jupyter-widgets/controls",
          "model_name": "DescriptionStyleModel",
          "model_module_version": "1.5.0",
          "state": {
            "_model_module": "@jupyter-widgets/controls",
            "_model_module_version": "1.5.0",
            "_model_name": "DescriptionStyleModel",
            "_view_count": null,
            "_view_module": "@jupyter-widgets/base",
            "_view_module_version": "1.2.0",
            "_view_name": "StyleView",
            "description_width": ""
          }
        },
        "02977d513ad94652a84636dd3bcb1138": {
          "model_module": "@jupyter-widgets/base",
          "model_name": "LayoutModel",
          "model_module_version": "1.2.0",
          "state": {
            "_model_module": "@jupyter-widgets/base",
            "_model_module_version": "1.2.0",
            "_model_name": "LayoutModel",
            "_view_count": null,
            "_view_module": "@jupyter-widgets/base",
            "_view_module_version": "1.2.0",
            "_view_name": "LayoutView",
            "align_content": null,
            "align_items": null,
            "align_self": null,
            "border": null,
            "bottom": null,
            "display": null,
            "flex": "2",
            "flex_flow": null,
            "grid_area": null,
            "grid_auto_columns": null,
            "grid_auto_flow": null,
            "grid_auto_rows": null,
            "grid_column": null,
            "grid_gap": null,
            "grid_row": null,
            "grid_template_areas": null,
            "grid_template_columns": null,
            "grid_template_rows": null,
            "height": null,
            "justify_content": null,
            "justify_items": null,
            "left": null,
            "margin": null,
            "max_height": null,
            "max_width": null,
            "min_height": null,
            "min_width": null,
            "object_fit": null,
            "object_position": null,
            "order": null,
            "overflow": null,
            "overflow_x": null,
            "overflow_y": null,
            "padding": null,
            "right": null,
            "top": null,
            "visibility": null,
            "width": null
          }
        },
        "10d401b5f38f4c9c9bb3347652646d46": {
          "model_module": "@jupyter-widgets/controls",
          "model_name": "ProgressStyleModel",
          "model_module_version": "1.5.0",
          "state": {
            "_model_module": "@jupyter-widgets/controls",
            "_model_module_version": "1.5.0",
            "_model_name": "ProgressStyleModel",
            "_view_count": null,
            "_view_module": "@jupyter-widgets/base",
            "_view_module_version": "1.2.0",
            "_view_name": "StyleView",
            "bar_color": null,
            "description_width": ""
          }
        },
        "fbea7d260668454b8c14e5586053d29f": {
          "model_module": "@jupyter-widgets/base",
          "model_name": "LayoutModel",
          "model_module_version": "1.2.0",
          "state": {
            "_model_module": "@jupyter-widgets/base",
            "_model_module_version": "1.2.0",
            "_model_name": "LayoutModel",
            "_view_count": null,
            "_view_module": "@jupyter-widgets/base",
            "_view_module_version": "1.2.0",
            "_view_name": "LayoutView",
            "align_content": null,
            "align_items": null,
            "align_self": null,
            "border": null,
            "bottom": null,
            "display": null,
            "flex": null,
            "flex_flow": null,
            "grid_area": null,
            "grid_auto_columns": null,
            "grid_auto_flow": null,
            "grid_auto_rows": null,
            "grid_column": null,
            "grid_gap": null,
            "grid_row": null,
            "grid_template_areas": null,
            "grid_template_columns": null,
            "grid_template_rows": null,
            "height": null,
            "justify_content": null,
            "justify_items": null,
            "left": null,
            "margin": null,
            "max_height": null,
            "max_width": null,
            "min_height": null,
            "min_width": null,
            "object_fit": null,
            "object_position": null,
            "order": null,
            "overflow": null,
            "overflow_x": null,
            "overflow_y": null,
            "padding": null,
            "right": null,
            "top": null,
            "visibility": null,
            "width": null
          }
        },
        "2f0dc7bac0fe49babd16ec15b7f79404": {
          "model_module": "@jupyter-widgets/controls",
          "model_name": "DescriptionStyleModel",
          "model_module_version": "1.5.0",
          "state": {
            "_model_module": "@jupyter-widgets/controls",
            "_model_module_version": "1.5.0",
            "_model_name": "DescriptionStyleModel",
            "_view_count": null,
            "_view_module": "@jupyter-widgets/base",
            "_view_module_version": "1.2.0",
            "_view_name": "StyleView",
            "description_width": ""
          }
        }
      }
    }
  },
  "cells": [
    {
      "cell_type": "markdown",
      "metadata": {
        "id": "view-in-github",
        "colab_type": "text"
      },
      "source": [
        "<a href=\"https://colab.research.google.com/github/ncn-foreigners/job-ads-classifier/blob/main/job_classification_examples.ipynb\" target=\"_parent\"><img src=\"https://colab.research.google.com/assets/colab-badge.svg\" alt=\"Open In Colab\"/></a>"
      ]
    },
    {
      "cell_type": "markdown",
      "source": [
        "## Colab and environment settings"
      ],
      "metadata": {
        "id": "wJDnS402wmr-"
      }
    },
    {
      "cell_type": "markdown",
      "source": [
        "Printing in colab"
      ],
      "metadata": {
        "id": "UVZAWcdUp57Q"
      }
    },
    {
      "cell_type": "code",
      "source": [
        "from google.colab.data_table import DataTable\n",
        "DataTable.max_columns = 60"
      ],
      "metadata": {
        "id": "J6SOOc1LxGpH"
      },
      "execution_count": 1,
      "outputs": []
    },
    {
      "cell_type": "markdown",
      "source": [
        "Clone repository"
      ],
      "metadata": {
        "id": "VSLUm2SSp7S2"
      }
    },
    {
      "cell_type": "code",
      "source": [
        "!git clone https://github.com/ncn-foreigners/job-ads-classifier.git "
      ],
      "metadata": {
        "colab": {
          "base_uri": "https://localhost:8080/"
        },
        "id": "wMEXrRDL5Zdo",
        "outputId": "13e63e10-7156-4db1-a232-3049dff98ff7"
      },
      "execution_count": 2,
      "outputs": [
        {
          "output_type": "stream",
          "name": "stdout",
          "text": [
            "Cloning into 'job-ads-classifier'...\n",
            "remote: Enumerating objects: 106, done.\u001b[K\n",
            "remote: Counting objects: 100% (106/106), done.\u001b[K\n",
            "remote: Compressing objects: 100% (94/94), done.\u001b[K\n",
            "remote: Total 106 (delta 35), reused 46 (delta 5), pack-reused 0\u001b[K\n",
            "Receiving objects: 100% (106/106), 2.16 MiB | 12.23 MiB/s, done.\n",
            "Resolving deltas: 100% (35/35), done.\n"
          ]
        }
      ]
    },
    {
      "cell_type": "markdown",
      "source": [
        "Set-up virtual env"
      ],
      "metadata": {
        "id": "7Mwhg_IFp-op"
      }
    },
    {
      "cell_type": "code",
      "source": [
        "!pip install virtualenv\n",
        "!virtualenv classifier\n",
        "!source /content/classifier/bin/activate"
      ],
      "metadata": {
        "id": "Ngyq9ATpzWmy",
        "colab": {
          "base_uri": "https://localhost:8080/"
        },
        "outputId": "625a66c2-618b-4cc2-a177-92de2646410b"
      },
      "execution_count": 4,
      "outputs": [
        {
          "output_type": "stream",
          "name": "stdout",
          "text": [
            "Looking in indexes: https://pypi.org/simple, https://us-python.pkg.dev/colab-wheels/public/simple/\n",
            "Collecting virtualenv\n",
            "  Downloading virtualenv-20.16.5-py3-none-any.whl (8.8 MB)\n",
            "\u001b[K     |████████████████████████████████| 8.8 MB 15.0 MB/s \n",
            "\u001b[?25hCollecting distlib<1,>=0.3.5\n",
            "  Downloading distlib-0.3.6-py2.py3-none-any.whl (468 kB)\n",
            "\u001b[K     |████████████████████████████████| 468 kB 66.5 MB/s \n",
            "\u001b[?25hCollecting platformdirs<3,>=2.4\n",
            "  Downloading platformdirs-2.5.2-py3-none-any.whl (14 kB)\n",
            "Requirement already satisfied: filelock<4,>=3.4.1 in /usr/local/lib/python3.7/dist-packages (from virtualenv) (3.8.0)\n",
            "Requirement already satisfied: importlib-metadata>=4.8.3 in /usr/local/lib/python3.7/dist-packages (from virtualenv) (4.13.0)\n",
            "Requirement already satisfied: zipp>=0.5 in /usr/local/lib/python3.7/dist-packages (from importlib-metadata>=4.8.3->virtualenv) (3.9.0)\n",
            "Requirement already satisfied: typing-extensions>=3.6.4 in /usr/local/lib/python3.7/dist-packages (from importlib-metadata>=4.8.3->virtualenv) (4.1.1)\n",
            "Installing collected packages: platformdirs, distlib, virtualenv\n",
            "Successfully installed distlib-0.3.6 platformdirs-2.5.2 virtualenv-20.16.5\n",
            "created virtual environment CPython3.7.15.final.0-64 in 839ms\n",
            "  creator CPython3Posix(dest=/content/classifier, clear=False, no_vcs_ignore=False, global=False)\n",
            "  seeder FromAppData(download=False, pip=bundle, setuptools=bundle, wheel=bundle, via=copy, app_data_dir=/root/.local/share/virtualenv)\n",
            "    added seed packages: pip==22.2.2, setuptools==65.3.0, wheel==0.37.1\n",
            "  activators BashActivator,CShellActivator,FishActivator,NushellActivator,PowerShellActivator,PythonActivator\n"
          ]
        }
      ]
    },
    {
      "cell_type": "markdown",
      "source": [
        "Upgrade pip"
      ],
      "metadata": {
        "id": "U93bJKwkqBVR"
      }
    },
    {
      "cell_type": "code",
      "source": [
        "!python -m pip install --upgrade pip"
      ],
      "metadata": {
        "id": "7mceE_iyzBUl",
        "colab": {
          "base_uri": "https://localhost:8080/"
        },
        "outputId": "aba70d67-07ca-40b1-aadb-052b420344f3"
      },
      "execution_count": null,
      "outputs": [
        {
          "output_type": "stream",
          "name": "stdout",
          "text": [
            "Looking in indexes: https://pypi.org/simple, https://us-python.pkg.dev/colab-wheels/public/simple/\n",
            "Collecting virtualenv\n",
            "  Downloading virtualenv-20.16.5-py3-none-any.whl (8.8 MB)\n",
            "\u001b[2K     \u001b[90m━━━━━━━━━━━━━━━━━━━━━━━━━━━━━━━━━━━━━━━━\u001b[0m \u001b[32m8.8/8.8 MB\u001b[0m \u001b[31m79.7 MB/s\u001b[0m eta \u001b[36m0:00:00\u001b[0m\n",
            "\u001b[?25hCollecting platformdirs<3,>=2.4\n",
            "  Downloading platformdirs-2.5.2-py3-none-any.whl (14 kB)\n",
            "Requirement already satisfied: filelock<4,>=3.4.1 in /usr/local/lib/python3.7/dist-packages (from virtualenv) (3.8.0)\n",
            "Requirement already satisfied: importlib-metadata>=4.8.3 in /usr/local/lib/python3.7/dist-packages (from virtualenv) (4.13.0)\n",
            "Collecting distlib<1,>=0.3.5\n",
            "  Downloading distlib-0.3.6-py2.py3-none-any.whl (468 kB)\n",
            "\u001b[2K     \u001b[90m━━━━━━━━━━━━━━━━━━━━━━━━━━━━━━━━━━━━━━\u001b[0m \u001b[32m468.5/468.5 kB\u001b[0m \u001b[31m39.7 MB/s\u001b[0m eta \u001b[36m0:00:00\u001b[0m\n",
            "\u001b[?25hRequirement already satisfied: zipp>=0.5 in /usr/local/lib/python3.7/dist-packages (from importlib-metadata>=4.8.3->virtualenv) (3.9.0)\n",
            "Requirement already satisfied: typing-extensions>=3.6.4 in /usr/local/lib/python3.7/dist-packages (from importlib-metadata>=4.8.3->virtualenv) (4.1.1)\n",
            "Installing collected packages: distlib, platformdirs, virtualenv\n",
            "Successfully installed distlib-0.3.6 platformdirs-2.5.2 virtualenv-20.16.5\n",
            "\u001b[33mWARNING: Running pip as the 'root' user can result in broken permissions and conflicting behaviour with the system package manager. It is recommended to use a virtual environment instead: https://pip.pypa.io/warnings/venv\u001b[0m\u001b[33m\n",
            "\u001b[0m"
          ]
        }
      ]
    },
    {
      "cell_type": "markdown",
      "source": [
        "Download models"
      ],
      "metadata": {
        "id": "ZRl29ob1jlcB"
      }
    },
    {
      "cell_type": "code",
      "source": [
        "!gdown 1N2LAJyG5tZT5UjHWRUFOgia5dSPwz1eg\n",
        "!unzip models-v1.0.zip\n",
        "!rm -rf __MACOSX\n",
        "!mv models ./job-ads-classifier/"
      ],
      "metadata": {
        "colab": {
          "base_uri": "https://localhost:8080/"
        },
        "id": "MyQ9L0fsj6y6",
        "outputId": "2dc9cd52-24e0-4384-e26d-17b15e82aee2"
      },
      "execution_count": 11,
      "outputs": [
        {
          "output_type": "stream",
          "name": "stdout",
          "text": [
            "Downloading...\n",
            "From: https://drive.google.com/uc?id=1N2LAJyG5tZT5UjHWRUFOgia5dSPwz1eg\n",
            "To: /content/models-v1.0.zip\n",
            "100% 1.87G/1.87G [00:08<00:00, 210MB/s]\n"
          ]
        }
      ]
    },
    {
      "cell_type": "markdown",
      "source": [
        "Install required packages"
      ],
      "metadata": {
        "id": "dAvXnUqOowuo"
      }
    },
    {
      "cell_type": "code",
      "source": [
        "!pip install torch"
      ],
      "metadata": {
        "colab": {
          "base_uri": "https://localhost:8080/"
        },
        "id": "zzr3QOU4agHF",
        "outputId": "40dd7870-1c54-4e96-a50c-5afdd6d56051"
      },
      "execution_count": 14,
      "outputs": [
        {
          "output_type": "stream",
          "name": "stdout",
          "text": [
            "Looking in indexes: https://pypi.org/simple, https://us-python.pkg.dev/colab-wheels/public/simple/\n",
            "Requirement already satisfied: torch in /usr/local/lib/python3.7/dist-packages (1.12.1+cu113)\n",
            "Requirement already satisfied: typing-extensions in /usr/local/lib/python3.7/dist-packages (from torch) (4.1.1)\n"
          ]
        }
      ]
    },
    {
      "cell_type": "code",
      "source": [
        "!pip install -r /content/job-ads-classifier/requirements-py37-colab.txt"
      ],
      "metadata": {
        "colab": {
          "base_uri": "https://localhost:8080/",
          "height": 1000
        },
        "id": "-GU78XJUokwh",
        "outputId": "c6e85d99-c9a5-4717-bb49-9b108980ac5e"
      },
      "execution_count": 18,
      "outputs": [
        {
          "output_type": "stream",
          "name": "stdout",
          "text": [
            "Looking in indexes: https://pypi.org/simple, https://us-python.pkg.dev/colab-wheels/public/simple/\n",
            "Requirement already satisfied: lxml in /usr/local/lib/python3.7/dist-packages (from -r /content/job-ads-classifier/requirements-py37-colab.txt (line 1)) (4.9.1)\n",
            "Requirement already satisfied: huggingface-hub==0.4.0 in /usr/local/lib/python3.7/dist-packages (from -r /content/job-ads-classifier/requirements-py37-colab.txt (line 2)) (0.4.0)\n",
            "Requirement already satisfied: jsbeautifier==1.14.0 in /usr/local/lib/python3.7/dist-packages (from -r /content/job-ads-classifier/requirements-py37-colab.txt (line 3)) (1.14.0)\n",
            "Requirement already satisfied: napkinxc==0.6.0 in /usr/local/lib/python3.7/dist-packages (from -r /content/job-ads-classifier/requirements-py37-colab.txt (line 4)) (0.6.0)\n",
            "Requirement already satisfied: nltk==3.5 in /usr/local/lib/python3.7/dist-packages (from -r /content/job-ads-classifier/requirements-py37-colab.txt (line 5)) (3.5)\n",
            "Requirement already satisfied: numpy in /usr/local/lib/python3.7/dist-packages (from -r /content/job-ads-classifier/requirements-py37-colab.txt (line 6)) (1.21.6)\n",
            "Requirement already satisfied: pandas==1.3.4 in /usr/local/lib/python3.7/dist-packages (from -r /content/job-ads-classifier/requirements-py37-colab.txt (line 7)) (1.3.4)\n",
            "Requirement already satisfied: pyreadr==0.4.4 in /usr/local/lib/python3.7/dist-packages (from -r /content/job-ads-classifier/requirements-py37-colab.txt (line 8)) (0.4.4)\n",
            "Requirement already satisfied: pystempel==1.2.0 in /usr/local/lib/python3.7/dist-packages (from -r /content/job-ads-classifier/requirements-py37-colab.txt (line 9)) (1.2.0)\n",
            "Collecting pytorch-lightning==1.6.0\n",
            "  Downloading pytorch_lightning-1.6.0-py3-none-any.whl (582 kB)\n",
            "\u001b[K     |████████████████████████████████| 582 kB 14.5 MB/s \n",
            "\u001b[?25hRequirement already satisfied: regex==2020.7.14 in /usr/local/lib/python3.7/dist-packages (from -r /content/job-ads-classifier/requirements-py37-colab.txt (line 11)) (2020.7.14)\n",
            "Requirement already satisfied: scikit-image==0.18.1 in /usr/local/lib/python3.7/dist-packages (from -r /content/job-ads-classifier/requirements-py37-colab.txt (line 12)) (0.18.1)\n",
            "Requirement already satisfied: scikit-learn==1.0.0 in /usr/local/lib/python3.7/dist-packages (from -r /content/job-ads-classifier/requirements-py37-colab.txt (line 13)) (1.0)\n",
            "Requirement already satisfied: scikit-multilearn==0.2.0 in /usr/local/lib/python3.7/dist-packages (from -r /content/job-ads-classifier/requirements-py37-colab.txt (line 14)) (0.2.0)\n",
            "Requirement already satisfied: scikit-surprise==1.1.1 in /usr/local/lib/python3.7/dist-packages (from -r /content/job-ads-classifier/requirements-py37-colab.txt (line 15)) (1.1.1)\n",
            "Requirement already satisfied: scipy==1.7.3 in /usr/local/lib/python3.7/dist-packages (from -r /content/job-ads-classifier/requirements-py37-colab.txt (line 16)) (1.7.3)\n",
            "Requirement already satisfied: stop-words==2018.7.23 in /usr/local/lib/python3.7/dist-packages (from -r /content/job-ads-classifier/requirements-py37-colab.txt (line 17)) (2018.7.23)\n",
            "Requirement already satisfied: tensorboard<2.10,>=2.9 in /usr/local/lib/python3.7/dist-packages (from -r /content/job-ads-classifier/requirements-py37-colab.txt (line 19)) (2.9.1)\n",
            "Requirement already satisfied: matplotlib==3.5.1 in /usr/local/lib/python3.7/dist-packages (from -r /content/job-ads-classifier/requirements-py37-colab.txt (line 20)) (3.5.1)\n",
            "Requirement already satisfied: tokenizers==0.10.3 in /usr/local/lib/python3.7/dist-packages (from -r /content/job-ads-classifier/requirements-py37-colab.txt (line 21)) (0.10.3)\n",
            "Requirement already satisfied: torchmetrics==0.7.0 in /usr/local/lib/python3.7/dist-packages (from -r /content/job-ads-classifier/requirements-py37-colab.txt (line 22)) (0.7.0)\n",
            "Requirement already satisfied: transformers==4.15.0 in /usr/local/lib/python3.7/dist-packages (from -r /content/job-ads-classifier/requirements-py37-colab.txt (line 23)) (4.15.0)\n",
            "Requirement already satisfied: tqdm>=4.57.0 in /usr/local/lib/python3.7/dist-packages (from -r /content/job-ads-classifier/requirements-py37-colab.txt (line 24)) (4.64.1)\n",
            "Requirement already satisfied: xlrd==1.2.0 in /usr/local/lib/python3.7/dist-packages (from -r /content/job-ads-classifier/requirements-py37-colab.txt (line 25)) (1.2.0)\n",
            "Requirement already satisfied: itsdangerous<2.0,>=0.24 in /usr/local/lib/python3.7/dist-packages (from -r /content/job-ads-classifier/requirements-py37-colab.txt (line 26)) (1.1.0)\n",
            "Requirement already satisfied: typing-extensions>=3.7.4.3 in /usr/local/lib/python3.7/dist-packages (from huggingface-hub==0.4.0->-r /content/job-ads-classifier/requirements-py37-colab.txt (line 2)) (4.1.1)\n",
            "Requirement already satisfied: filelock in /usr/local/lib/python3.7/dist-packages (from huggingface-hub==0.4.0->-r /content/job-ads-classifier/requirements-py37-colab.txt (line 2)) (3.8.0)\n",
            "Requirement already satisfied: packaging>=20.9 in /usr/local/lib/python3.7/dist-packages (from huggingface-hub==0.4.0->-r /content/job-ads-classifier/requirements-py37-colab.txt (line 2)) (21.3)\n",
            "Requirement already satisfied: pyyaml in /usr/local/lib/python3.7/dist-packages (from huggingface-hub==0.4.0->-r /content/job-ads-classifier/requirements-py37-colab.txt (line 2)) (6.0)\n",
            "Requirement already satisfied: importlib-metadata in /usr/local/lib/python3.7/dist-packages (from huggingface-hub==0.4.0->-r /content/job-ads-classifier/requirements-py37-colab.txt (line 2)) (4.13.0)\n",
            "Requirement already satisfied: requests in /usr/local/lib/python3.7/dist-packages (from huggingface-hub==0.4.0->-r /content/job-ads-classifier/requirements-py37-colab.txt (line 2)) (2.23.0)\n",
            "Requirement already satisfied: six>=1.13.0 in /usr/local/lib/python3.7/dist-packages (from jsbeautifier==1.14.0->-r /content/job-ads-classifier/requirements-py37-colab.txt (line 3)) (1.15.0)\n",
            "Requirement already satisfied: editorconfig>=0.12.2 in /usr/local/lib/python3.7/dist-packages (from jsbeautifier==1.14.0->-r /content/job-ads-classifier/requirements-py37-colab.txt (line 3)) (0.12.3)\n",
            "Requirement already satisfied: gdown in /usr/local/lib/python3.7/dist-packages (from napkinxc==0.6.0->-r /content/job-ads-classifier/requirements-py37-colab.txt (line 4)) (4.4.0)\n",
            "Requirement already satisfied: click in /usr/local/lib/python3.7/dist-packages (from nltk==3.5->-r /content/job-ads-classifier/requirements-py37-colab.txt (line 5)) (7.1.2)\n",
            "Requirement already satisfied: joblib in /usr/local/lib/python3.7/dist-packages (from nltk==3.5->-r /content/job-ads-classifier/requirements-py37-colab.txt (line 5)) (1.2.0)\n",
            "Requirement already satisfied: pytz>=2017.3 in /usr/local/lib/python3.7/dist-packages (from pandas==1.3.4->-r /content/job-ads-classifier/requirements-py37-colab.txt (line 7)) (2022.4)\n",
            "Requirement already satisfied: python-dateutil>=2.7.3 in /usr/local/lib/python3.7/dist-packages (from pandas==1.3.4->-r /content/job-ads-classifier/requirements-py37-colab.txt (line 7)) (2.8.2)\n",
            "Requirement already satisfied: sortedcontainers in /usr/local/lib/python3.7/dist-packages (from pystempel==1.2.0->-r /content/job-ads-classifier/requirements-py37-colab.txt (line 9)) (2.4.0)\n",
            "Requirement already satisfied: torch>=1.8.* in /usr/local/lib/python3.7/dist-packages (from pytorch-lightning==1.6.0->-r /content/job-ads-classifier/requirements-py37-colab.txt (line 10)) (1.12.1+cu113)\n",
            "Requirement already satisfied: fsspec[http]!=2021.06.0,>=2021.05.0 in /usr/local/lib/python3.7/dist-packages (from pytorch-lightning==1.6.0->-r /content/job-ads-classifier/requirements-py37-colab.txt (line 10)) (2022.8.2)\n",
            "Requirement already satisfied: pyDeprecate<0.4.0,>=0.3.1 in /usr/local/lib/python3.7/dist-packages (from pytorch-lightning==1.6.0->-r /content/job-ads-classifier/requirements-py37-colab.txt (line 10)) (0.3.2)\n",
            "Requirement already satisfied: PyWavelets>=1.1.1 in /usr/local/lib/python3.7/dist-packages (from scikit-image==0.18.1->-r /content/job-ads-classifier/requirements-py37-colab.txt (line 12)) (1.3.0)\n",
            "Requirement already satisfied: imageio>=2.3.0 in /usr/local/lib/python3.7/dist-packages (from scikit-image==0.18.1->-r /content/job-ads-classifier/requirements-py37-colab.txt (line 12)) (2.9.0)\n",
            "Requirement already satisfied: pillow!=7.1.0,!=7.1.1,>=4.3.0 in /usr/local/lib/python3.7/dist-packages (from scikit-image==0.18.1->-r /content/job-ads-classifier/requirements-py37-colab.txt (line 12)) (7.1.2)\n",
            "Requirement already satisfied: tifffile>=2019.7.26 in /usr/local/lib/python3.7/dist-packages (from scikit-image==0.18.1->-r /content/job-ads-classifier/requirements-py37-colab.txt (line 12)) (2021.11.2)\n",
            "Requirement already satisfied: networkx>=2.0 in /usr/local/lib/python3.7/dist-packages (from scikit-image==0.18.1->-r /content/job-ads-classifier/requirements-py37-colab.txt (line 12)) (2.6.3)\n",
            "Requirement already satisfied: threadpoolctl>=2.0.0 in /usr/local/lib/python3.7/dist-packages (from scikit-learn==1.0.0->-r /content/job-ads-classifier/requirements-py37-colab.txt (line 13)) (3.1.0)\n",
            "Requirement already satisfied: kiwisolver>=1.0.1 in /usr/local/lib/python3.7/dist-packages (from matplotlib==3.5.1->-r /content/job-ads-classifier/requirements-py37-colab.txt (line 20)) (1.4.4)\n",
            "Requirement already satisfied: cycler>=0.10 in /usr/local/lib/python3.7/dist-packages (from matplotlib==3.5.1->-r /content/job-ads-classifier/requirements-py37-colab.txt (line 20)) (0.11.0)\n",
            "Requirement already satisfied: pyparsing>=2.2.1 in /usr/local/lib/python3.7/dist-packages (from matplotlib==3.5.1->-r /content/job-ads-classifier/requirements-py37-colab.txt (line 20)) (3.0.9)\n",
            "Requirement already satisfied: fonttools>=4.22.0 in /usr/local/lib/python3.7/dist-packages (from matplotlib==3.5.1->-r /content/job-ads-classifier/requirements-py37-colab.txt (line 20)) (4.37.4)\n",
            "Requirement already satisfied: sacremoses in /usr/local/lib/python3.7/dist-packages (from transformers==4.15.0->-r /content/job-ads-classifier/requirements-py37-colab.txt (line 23)) (0.0.53)\n",
            "Requirement already satisfied: protobuf<3.20,>=3.9.2 in /usr/local/lib/python3.7/dist-packages (from tensorboard<2.10,>=2.9->-r /content/job-ads-classifier/requirements-py37-colab.txt (line 19)) (3.17.3)\n",
            "Requirement already satisfied: werkzeug>=1.0.1 in /usr/local/lib/python3.7/dist-packages (from tensorboard<2.10,>=2.9->-r /content/job-ads-classifier/requirements-py37-colab.txt (line 19)) (1.0.1)\n",
            "Requirement already satisfied: markdown>=2.6.8 in /usr/local/lib/python3.7/dist-packages (from tensorboard<2.10,>=2.9->-r /content/job-ads-classifier/requirements-py37-colab.txt (line 19)) (3.4.1)\n",
            "Requirement already satisfied: tensorboard-plugin-wit>=1.6.0 in /usr/local/lib/python3.7/dist-packages (from tensorboard<2.10,>=2.9->-r /content/job-ads-classifier/requirements-py37-colab.txt (line 19)) (1.8.1)\n",
            "Requirement already satisfied: setuptools>=41.0.0 in /usr/local/lib/python3.7/dist-packages (from tensorboard<2.10,>=2.9->-r /content/job-ads-classifier/requirements-py37-colab.txt (line 19)) (57.4.0)\n",
            "Requirement already satisfied: wheel>=0.26 in /usr/local/lib/python3.7/dist-packages (from tensorboard<2.10,>=2.9->-r /content/job-ads-classifier/requirements-py37-colab.txt (line 19)) (0.37.1)\n",
            "Requirement already satisfied: google-auth-oauthlib<0.5,>=0.4.1 in /usr/local/lib/python3.7/dist-packages (from tensorboard<2.10,>=2.9->-r /content/job-ads-classifier/requirements-py37-colab.txt (line 19)) (0.4.6)\n",
            "Requirement already satisfied: grpcio>=1.24.3 in /usr/local/lib/python3.7/dist-packages (from tensorboard<2.10,>=2.9->-r /content/job-ads-classifier/requirements-py37-colab.txt (line 19)) (1.49.1)\n",
            "Requirement already satisfied: absl-py>=0.4 in /usr/local/lib/python3.7/dist-packages (from tensorboard<2.10,>=2.9->-r /content/job-ads-classifier/requirements-py37-colab.txt (line 19)) (1.3.0)\n",
            "Requirement already satisfied: google-auth<3,>=1.6.3 in /usr/local/lib/python3.7/dist-packages (from tensorboard<2.10,>=2.9->-r /content/job-ads-classifier/requirements-py37-colab.txt (line 19)) (1.35.0)\n",
            "Requirement already satisfied: tensorboard-data-server<0.7.0,>=0.6.0 in /usr/local/lib/python3.7/dist-packages (from tensorboard<2.10,>=2.9->-r /content/job-ads-classifier/requirements-py37-colab.txt (line 19)) (0.6.1)\n",
            "Requirement already satisfied: aiohttp!=4.0.0a0,!=4.0.0a1 in /usr/local/lib/python3.7/dist-packages (from fsspec[http]!=2021.06.0,>=2021.05.0->pytorch-lightning==1.6.0->-r /content/job-ads-classifier/requirements-py37-colab.txt (line 10)) (3.8.3)\n",
            "Requirement already satisfied: yarl<2.0,>=1.0 in /usr/local/lib/python3.7/dist-packages (from aiohttp!=4.0.0a0,!=4.0.0a1->fsspec[http]!=2021.06.0,>=2021.05.0->pytorch-lightning==1.6.0->-r /content/job-ads-classifier/requirements-py37-colab.txt (line 10)) (1.8.1)\n",
            "Requirement already satisfied: async-timeout<5.0,>=4.0.0a3 in /usr/local/lib/python3.7/dist-packages (from aiohttp!=4.0.0a0,!=4.0.0a1->fsspec[http]!=2021.06.0,>=2021.05.0->pytorch-lightning==1.6.0->-r /content/job-ads-classifier/requirements-py37-colab.txt (line 10)) (4.0.2)\n",
            "Requirement already satisfied: charset-normalizer<3.0,>=2.0 in /usr/local/lib/python3.7/dist-packages (from aiohttp!=4.0.0a0,!=4.0.0a1->fsspec[http]!=2021.06.0,>=2021.05.0->pytorch-lightning==1.6.0->-r /content/job-ads-classifier/requirements-py37-colab.txt (line 10)) (2.1.1)\n",
            "Requirement already satisfied: frozenlist>=1.1.1 in /usr/local/lib/python3.7/dist-packages (from aiohttp!=4.0.0a0,!=4.0.0a1->fsspec[http]!=2021.06.0,>=2021.05.0->pytorch-lightning==1.6.0->-r /content/job-ads-classifier/requirements-py37-colab.txt (line 10)) (1.3.1)\n",
            "Requirement already satisfied: aiosignal>=1.1.2 in /usr/local/lib/python3.7/dist-packages (from aiohttp!=4.0.0a0,!=4.0.0a1->fsspec[http]!=2021.06.0,>=2021.05.0->pytorch-lightning==1.6.0->-r /content/job-ads-classifier/requirements-py37-colab.txt (line 10)) (1.2.0)\n",
            "Requirement already satisfied: asynctest==0.13.0 in /usr/local/lib/python3.7/dist-packages (from aiohttp!=4.0.0a0,!=4.0.0a1->fsspec[http]!=2021.06.0,>=2021.05.0->pytorch-lightning==1.6.0->-r /content/job-ads-classifier/requirements-py37-colab.txt (line 10)) (0.13.0)\n",
            "Requirement already satisfied: multidict<7.0,>=4.5 in /usr/local/lib/python3.7/dist-packages (from aiohttp!=4.0.0a0,!=4.0.0a1->fsspec[http]!=2021.06.0,>=2021.05.0->pytorch-lightning==1.6.0->-r /content/job-ads-classifier/requirements-py37-colab.txt (line 10)) (6.0.2)\n",
            "Requirement already satisfied: attrs>=17.3.0 in /usr/local/lib/python3.7/dist-packages (from aiohttp!=4.0.0a0,!=4.0.0a1->fsspec[http]!=2021.06.0,>=2021.05.0->pytorch-lightning==1.6.0->-r /content/job-ads-classifier/requirements-py37-colab.txt (line 10)) (22.1.0)\n",
            "Requirement already satisfied: rsa<5,>=3.1.4 in /usr/local/lib/python3.7/dist-packages (from google-auth<3,>=1.6.3->tensorboard<2.10,>=2.9->-r /content/job-ads-classifier/requirements-py37-colab.txt (line 19)) (4.9)\n",
            "Requirement already satisfied: cachetools<5.0,>=2.0.0 in /usr/local/lib/python3.7/dist-packages (from google-auth<3,>=1.6.3->tensorboard<2.10,>=2.9->-r /content/job-ads-classifier/requirements-py37-colab.txt (line 19)) (4.2.4)\n",
            "Requirement already satisfied: pyasn1-modules>=0.2.1 in /usr/local/lib/python3.7/dist-packages (from google-auth<3,>=1.6.3->tensorboard<2.10,>=2.9->-r /content/job-ads-classifier/requirements-py37-colab.txt (line 19)) (0.2.8)\n",
            "Requirement already satisfied: requests-oauthlib>=0.7.0 in /usr/local/lib/python3.7/dist-packages (from google-auth-oauthlib<0.5,>=0.4.1->tensorboard<2.10,>=2.9->-r /content/job-ads-classifier/requirements-py37-colab.txt (line 19)) (1.3.1)\n",
            "Requirement already satisfied: zipp>=0.5 in /usr/local/lib/python3.7/dist-packages (from importlib-metadata->huggingface-hub==0.4.0->-r /content/job-ads-classifier/requirements-py37-colab.txt (line 2)) (3.9.0)\n",
            "Requirement already satisfied: pyasn1<0.5.0,>=0.4.6 in /usr/local/lib/python3.7/dist-packages (from pyasn1-modules>=0.2.1->google-auth<3,>=1.6.3->tensorboard<2.10,>=2.9->-r /content/job-ads-classifier/requirements-py37-colab.txt (line 19)) (0.4.8)\n",
            "Requirement already satisfied: certifi>=2017.4.17 in /usr/local/lib/python3.7/dist-packages (from requests->huggingface-hub==0.4.0->-r /content/job-ads-classifier/requirements-py37-colab.txt (line 2)) (2022.9.24)\n",
            "Requirement already satisfied: urllib3!=1.25.0,!=1.25.1,<1.26,>=1.21.1 in /usr/local/lib/python3.7/dist-packages (from requests->huggingface-hub==0.4.0->-r /content/job-ads-classifier/requirements-py37-colab.txt (line 2)) (1.24.3)\n",
            "Requirement already satisfied: idna<3,>=2.5 in /usr/local/lib/python3.7/dist-packages (from requests->huggingface-hub==0.4.0->-r /content/job-ads-classifier/requirements-py37-colab.txt (line 2)) (2.10)\n",
            "Requirement already satisfied: chardet<4,>=3.0.2 in /usr/local/lib/python3.7/dist-packages (from requests->huggingface-hub==0.4.0->-r /content/job-ads-classifier/requirements-py37-colab.txt (line 2)) (3.0.4)\n",
            "Requirement already satisfied: oauthlib>=3.0.0 in /usr/local/lib/python3.7/dist-packages (from requests-oauthlib>=0.7.0->google-auth-oauthlib<0.5,>=0.4.1->tensorboard<2.10,>=2.9->-r /content/job-ads-classifier/requirements-py37-colab.txt (line 19)) (3.2.1)\n",
            "Requirement already satisfied: beautifulsoup4 in /usr/local/lib/python3.7/dist-packages (from gdown->napkinxc==0.6.0->-r /content/job-ads-classifier/requirements-py37-colab.txt (line 4)) (4.6.3)\n",
            "Requirement already satisfied: PySocks!=1.5.7,>=1.5.6 in /usr/local/lib/python3.7/dist-packages (from requests->huggingface-hub==0.4.0->-r /content/job-ads-classifier/requirements-py37-colab.txt (line 2)) (1.7.1)\n",
            "Installing collected packages: pytorch-lightning\n",
            "  Attempting uninstall: pytorch-lightning\n",
            "    Found existing installation: pytorch-lightning 1.7.7\n",
            "    Uninstalling pytorch-lightning-1.7.7:\n",
            "      Successfully uninstalled pytorch-lightning-1.7.7\n",
            "Successfully installed pytorch-lightning-1.6.0\n"
          ]
        },
        {
          "output_type": "display_data",
          "data": {
            "application/vnd.colab-display-data+json": {
              "pip_warning": {
                "packages": [
                  "pytorch_lightning"
                ]
              }
            }
          },
          "metadata": {}
        }
      ]
    },
    {
      "cell_type": "markdown",
      "source": [
        "## Working with trained models"
      ],
      "metadata": {
        "id": "fuxpaiMCv66r"
      }
    },
    {
      "cell_type": "code",
      "source": [
        "models_dir=\"/content/job-ads-classifier/models\""
      ],
      "metadata": {
        "id": "d7SVkAGGkjqV"
      },
      "execution_count": 1,
      "outputs": []
    },
    {
      "cell_type": "markdown",
      "source": [
        "Load required modules"
      ],
      "metadata": {
        "id": "lBrdSIQ4wsRI"
      }
    },
    {
      "cell_type": "code",
      "source": [
        "import sys\n",
        "sys.path.insert(1, '/content/job-ads-classifier')"
      ],
      "metadata": {
        "id": "QhaM-XckGxzE"
      },
      "execution_count": 2,
      "outputs": []
    },
    {
      "cell_type": "code",
      "source": [
        "import numpy as np\n",
        "import pandas as pd\n",
        "#import matplotlib.pyplot as plt\n",
        "#from datetime import datetime\n",
        "from job_offers_classifier.load_save import load_to_df, save_obj, load_obj\n",
        "from job_offers_classifier.job_offers_utils import create_hierarchy, fix_class_str, remove_classes, filter_classes, remap_classes\n",
        "from job_offers_classifier.job_offers_classfier import *\n",
        "#from sklearn.model_selection import train_test_split\n",
        "import torch\n",
        "#from torchmetrics import MetricCollection, Recall, Accuracy, ConfusionMatrix"
      ],
      "metadata": {
        "id": "oB8NFIKswxje"
      },
      "execution_count": 3,
      "outputs": []
    },
    {
      "cell_type": "markdown",
      "source": [
        "Example data -- job offers from Public Sercice"
      ],
      "metadata": {
        "id": "1vVguSR1wwWW"
      }
    },
    {
      "cell_type": "code",
      "source": [
        "kprm_df=pd.read_xml(\"https://nabory.kprm.gov.pl/pls/serwis/app.xml\", xpath = \"./new/oferta\")\n",
        "kprm_df = kprm_df.replace(\"\\\\<\\\\!\\\\[CDATA\\\\[ \", \"\", regex=True)\n",
        "kprm_df = kprm_df.replace(\" \\\\]\\\\]\\\\>\", \"\", regex=True)\n",
        "kprm_df = kprm_df.replace(r'<[^<>]*>', '', regex=True)\n",
        "kprm_df = kprm_df.replace('&nbsp;', ' ', regex=True)\n",
        "kprm_df = kprm_df.replace('&dash;', ' ', regex=True)\n",
        "kprm_df = kprm_df.replace('&oacute;', ' ', regex=True)\n",
        "kprm_df = kprm_df.replace('\\r', ' ', regex=True)\n",
        "kprm_df['desc'] = kprm_df[['stanowisko', 'do_spraw', 'nazwa_firmy', 'poledodatkowelista1', 'poledodatkowelista3']].apply(lambda row: '_'.join(row.values.astype(str)), axis=1)\n",
        "kprm_df[[\"unid\", \"nazwa_firmy\", \"stanowisko\", \"do_spraw\", \"poledodatkowelista1\", \"poledodatkowelista3\"]].head(n=2)\n"
      ],
      "metadata": {
        "colab": {
          "base_uri": "https://localhost:8080/",
          "height": 191
        },
        "id": "Wy8oi59nwreR",
        "outputId": "73dd5d64-22f2-41cf-fbe3-ca94641d94a8"
      },
      "execution_count": 4,
      "outputs": [
        {
          "output_type": "execute_result",
          "data": {
            "text/plain": [
              "     unid                                      nazwa_firmy  \\\n",
              "0  108667  Główny Urząd Geodezji i Kartografii w Warszawie   \n",
              "1  108666  Główny Urząd Geodezji i Kartografii w Warszawie   \n",
              "\n",
              "            stanowisko                      do_spraw  \\\n",
              "0  starszy specjalista  wsparcia procesów utrzymania   \n",
              "1          specjalista          zamówień publicznych   \n",
              "\n",
              "                                 poledodatkowelista1  \\\n",
              "0  Wspiera proces planowania, przygotowania i mon...   \n",
              "1  Weryfikuje pod względem formalnym (prawnym i p...   \n",
              "\n",
              "                                 poledodatkowelista3  \n",
              "0   praca przy monitorze ekranowym powyżej 4 godz...  \n",
              "1   Praca przy monitorze ekranowym powyżej 4 godz...  "
            ],
            "text/html": [
              "\n",
              "  <div id=\"df-f93fccc1-2f55-46a9-aaf2-4451c4ef2bbe\">\n",
              "    <div class=\"colab-df-container\">\n",
              "      <div>\n",
              "<style scoped>\n",
              "    .dataframe tbody tr th:only-of-type {\n",
              "        vertical-align: middle;\n",
              "    }\n",
              "\n",
              "    .dataframe tbody tr th {\n",
              "        vertical-align: top;\n",
              "    }\n",
              "\n",
              "    .dataframe thead th {\n",
              "        text-align: right;\n",
              "    }\n",
              "</style>\n",
              "<table border=\"1\" class=\"dataframe\">\n",
              "  <thead>\n",
              "    <tr style=\"text-align: right;\">\n",
              "      <th></th>\n",
              "      <th>unid</th>\n",
              "      <th>nazwa_firmy</th>\n",
              "      <th>stanowisko</th>\n",
              "      <th>do_spraw</th>\n",
              "      <th>poledodatkowelista1</th>\n",
              "      <th>poledodatkowelista3</th>\n",
              "    </tr>\n",
              "  </thead>\n",
              "  <tbody>\n",
              "    <tr>\n",
              "      <th>0</th>\n",
              "      <td>108667</td>\n",
              "      <td>Główny Urząd Geodezji i Kartografii w Warszawie</td>\n",
              "      <td>starszy specjalista</td>\n",
              "      <td>wsparcia procesów utrzymania</td>\n",
              "      <td>Wspiera proces planowania, przygotowania i mon...</td>\n",
              "      <td>praca przy monitorze ekranowym powyżej 4 godz...</td>\n",
              "    </tr>\n",
              "    <tr>\n",
              "      <th>1</th>\n",
              "      <td>108666</td>\n",
              "      <td>Główny Urząd Geodezji i Kartografii w Warszawie</td>\n",
              "      <td>specjalista</td>\n",
              "      <td>zamówień publicznych</td>\n",
              "      <td>Weryfikuje pod względem formalnym (prawnym i p...</td>\n",
              "      <td>Praca przy monitorze ekranowym powyżej 4 godz...</td>\n",
              "    </tr>\n",
              "  </tbody>\n",
              "</table>\n",
              "</div>\n",
              "      <button class=\"colab-df-convert\" onclick=\"convertToInteractive('df-f93fccc1-2f55-46a9-aaf2-4451c4ef2bbe')\"\n",
              "              title=\"Convert this dataframe to an interactive table.\"\n",
              "              style=\"display:none;\">\n",
              "        \n",
              "  <svg xmlns=\"http://www.w3.org/2000/svg\" height=\"24px\"viewBox=\"0 0 24 24\"\n",
              "       width=\"24px\">\n",
              "    <path d=\"M0 0h24v24H0V0z\" fill=\"none\"/>\n",
              "    <path d=\"M18.56 5.44l.94 2.06.94-2.06 2.06-.94-2.06-.94-.94-2.06-.94 2.06-2.06.94zm-11 1L8.5 8.5l.94-2.06 2.06-.94-2.06-.94L8.5 2.5l-.94 2.06-2.06.94zm10 10l.94 2.06.94-2.06 2.06-.94-2.06-.94-.94-2.06-.94 2.06-2.06.94z\"/><path d=\"M17.41 7.96l-1.37-1.37c-.4-.4-.92-.59-1.43-.59-.52 0-1.04.2-1.43.59L10.3 9.45l-7.72 7.72c-.78.78-.78 2.05 0 2.83L4 21.41c.39.39.9.59 1.41.59.51 0 1.02-.2 1.41-.59l7.78-7.78 2.81-2.81c.8-.78.8-2.07 0-2.86zM5.41 20L4 18.59l7.72-7.72 1.47 1.35L5.41 20z\"/>\n",
              "  </svg>\n",
              "      </button>\n",
              "      \n",
              "  <style>\n",
              "    .colab-df-container {\n",
              "      display:flex;\n",
              "      flex-wrap:wrap;\n",
              "      gap: 12px;\n",
              "    }\n",
              "\n",
              "    .colab-df-convert {\n",
              "      background-color: #E8F0FE;\n",
              "      border: none;\n",
              "      border-radius: 50%;\n",
              "      cursor: pointer;\n",
              "      display: none;\n",
              "      fill: #1967D2;\n",
              "      height: 32px;\n",
              "      padding: 0 0 0 0;\n",
              "      width: 32px;\n",
              "    }\n",
              "\n",
              "    .colab-df-convert:hover {\n",
              "      background-color: #E2EBFA;\n",
              "      box-shadow: 0px 1px 2px rgba(60, 64, 67, 0.3), 0px 1px 3px 1px rgba(60, 64, 67, 0.15);\n",
              "      fill: #174EA6;\n",
              "    }\n",
              "\n",
              "    [theme=dark] .colab-df-convert {\n",
              "      background-color: #3B4455;\n",
              "      fill: #D2E3FC;\n",
              "    }\n",
              "\n",
              "    [theme=dark] .colab-df-convert:hover {\n",
              "      background-color: #434B5C;\n",
              "      box-shadow: 0px 1px 3px 1px rgba(0, 0, 0, 0.15);\n",
              "      filter: drop-shadow(0px 1px 2px rgba(0, 0, 0, 0.3));\n",
              "      fill: #FFFFFF;\n",
              "    }\n",
              "  </style>\n",
              "\n",
              "      <script>\n",
              "        const buttonEl =\n",
              "          document.querySelector('#df-f93fccc1-2f55-46a9-aaf2-4451c4ef2bbe button.colab-df-convert');\n",
              "        buttonEl.style.display =\n",
              "          google.colab.kernel.accessAllowed ? 'block' : 'none';\n",
              "\n",
              "        async function convertToInteractive(key) {\n",
              "          const element = document.querySelector('#df-f93fccc1-2f55-46a9-aaf2-4451c4ef2bbe');\n",
              "          const dataTable =\n",
              "            await google.colab.kernel.invokeFunction('convertToInteractive',\n",
              "                                                     [key], {});\n",
              "          if (!dataTable) return;\n",
              "\n",
              "          const docLinkHtml = 'Like what you see? Visit the ' +\n",
              "            '<a target=\"_blank\" href=https://colab.research.google.com/notebooks/data_table.ipynb>data table notebook</a>'\n",
              "            + ' to learn more about interactive tables.';\n",
              "          element.innerHTML = '';\n",
              "          dataTable['output_type'] = 'display_data';\n",
              "          await google.colab.output.renderOutput(dataTable, element);\n",
              "          const docLink = document.createElement('div');\n",
              "          docLink.innerHTML = docLinkHtml;\n",
              "          element.appendChild(docLink);\n",
              "        }\n",
              "      </script>\n",
              "    </div>\n",
              "  </div>\n",
              "  "
            ]
          },
          "metadata": {},
          "execution_count": 4
        }
      ]
    },
    {
      "cell_type": "code",
      "source": [
        "kprm_df.desc[0]"
      ],
      "metadata": {
        "colab": {
          "base_uri": "https://localhost:8080/",
          "height": 161
        },
        "id": "CtVsiZEUy1K_",
        "outputId": "79d1a97b-7647-4897-8cbb-5e664e5cdf1e"
      },
      "execution_count": 5,
      "outputs": [
        {
          "output_type": "execute_result",
          "data": {
            "text/plain": [
              "'starszy specjalista_wsparcia procesów utrzymania_Główny Urząd Geodezji i Kartografii w Warszawie_Wspiera proces planowania, przygotowania i monitorowania postępowań zakupowych i przetargowych w zakresie utrzymania i eksploatacji systemów teleinformatycznych GUGiK w tym postępowania realizowane ze środków Unijnych.Procesuje wnioski o nadanie uprawnień dostępu do systemów oraz przygotowuje dokumentację związaną z Systemem Zarządzania Bezpieczeństwem Informacji w tym zakresie.Ewidencjonuje i rejestruje działania związane z obsługą umów utrzymaniowych związanych z realizacja zadań wydziału m.in. przy użyciu narzędzia HPSM.Utrzymuje aktualną ewidencję zasobów infrastruktury teleinformatycznej będącej częścią SIG w tym informacje o gwarancjach i wsparciu technicznym.Współpracuje z podmiotami świadczącymi usługi II i III linii wsparcia dla elementów infrastruktury SIG.Współtworzy, aktualizuje i utrzymuje dokumentację środowiska teleinformatycznego GUGiK w tym w zakresie zgodności dokumentacji z regulacjami wewnętrznymi. _ praca przy monitorze ekranowym powyżej 4 godzin wystąpienia publiczne związane z funkcjonowaniem kom rki organizacyjnej '"
            ],
            "application/vnd.google.colaboratory.intrinsic+json": {
              "type": "string"
            }
          },
          "metadata": {},
          "execution_count": 5
        }
      ]
    },
    {
      "cell_type": "markdown",
      "source": [
        "### Logistic regression model using tf-df matrix"
      ],
      "metadata": {
        "id": "xAUjwi0Fv87j"
      }
    },
    {
      "cell_type": "code",
      "source": [
        "model_paper_linear = LinearJobOffersClassifier()\n",
        "model_paper_linear.load(f\"{models_dir}/linear_model\")"
      ],
      "metadata": {
        "colab": {
          "base_uri": "https://localhost:8080/"
        },
        "id": "8uNY-wHjlFv8",
        "outputId": "8b650a86-8f70-455b-9307-5d3c76f5c60b"
      },
      "execution_count": 6,
      "outputs": [
        {
          "output_type": "stream",
          "name": "stderr",
          "text": [
            "/usr/local/lib/python3.7/dist-packages/sklearn/base.py:333: UserWarning: Trying to unpickle estimator TfidfTransformer from version 0.23.2 when using version 1.0. This might lead to breaking code or invalid results. Use at your own risk. For more info please refer to:\n",
            "https://scikit-learn.org/stable/modules/model_persistence.html#security-maintainability-limitations\n",
            "  UserWarning,\n",
            "/usr/local/lib/python3.7/dist-packages/sklearn/base.py:333: UserWarning: Trying to unpickle estimator TfidfVectorizer from version 0.23.2 when using version 1.0. This might lead to breaking code or invalid results. Use at your own risk. For more info please refer to:\n",
            "https://scikit-learn.org/stable/modules/model_persistence.html#security-maintainability-limitations\n",
            "  UserWarning,\n"
          ]
        }
      ]
    },
    {
      "cell_type": "code",
      "source": [
        "kprm_df_zaw1 = model_paper_linear.predict(\n",
        "    X_text=list(kprm_df[\"desc\"]),\n",
        "    output_level=0,\n",
        "    format=\"dataframe\"\n",
        ")"
      ],
      "metadata": {
        "colab": {
          "base_uri": "https://localhost:8080/"
        },
        "id": "H9fQjuU0lHCy",
        "outputId": "3e3082f1-2e77-4d9a-eb29-d3560caa19bb"
      },
      "execution_count": 7,
      "outputs": [
        {
          "output_type": "stream",
          "name": "stdout",
          "text": [
            "Processing X ...\n",
            "Processing text ...\n"
          ]
        },
        {
          "output_type": "stream",
          "name": "stderr",
          "text": [
            "100%|██████████| 450/450 [00:01<00:00, 237.60it/s]\n"
          ]
        },
        {
          "output_type": "stream",
          "name": "stdout",
          "text": [
            "Transforming text to tf-idf ...\n",
            "Predicting ...\n"
          ]
        },
        {
          "output_type": "stream",
          "name": "stderr",
          "text": [
            "100%|██████████| 450/450 [00:00<00:00, 1740.38it/s]\n"
          ]
        }
      ]
    },
    {
      "cell_type": "markdown",
      "source": [
        "Distribution of occupancy codes"
      ],
      "metadata": {
        "id": "mBKjMOTUqPfn"
      }
    },
    {
      "cell_type": "code",
      "source": [
        "np.sum(kprm_df_zaw1, axis=0)"
      ],
      "metadata": {
        "colab": {
          "base_uri": "https://localhost:8080/"
        },
        "id": "0VR-qbRXnhxj",
        "outputId": "1d0a94ee-39e5-4291-d0dd-e023ef0ac62d"
      },
      "execution_count": 8,
      "outputs": [
        {
          "output_type": "execute_result",
          "data": {
            "text/plain": [
              "0      0.030980\n",
              "1     15.750659\n",
              "2    225.388809\n",
              "3    168.990189\n",
              "4     31.394083\n",
              "5      4.069289\n",
              "6      0.533869\n",
              "7      2.238279\n",
              "8      0.946757\n",
              "9      0.636597\n",
              "dtype: float32"
            ]
          },
          "metadata": {},
          "execution_count": 8
        }
      ]
    },
    {
      "cell_type": "markdown",
      "source": [
        "Top 5 occupancy codes"
      ],
      "metadata": {
        "id": "0pQ9TbwAqa8F"
      }
    },
    {
      "cell_type": "code",
      "source": [
        "kprm_df_zaw6_top5 = model_paper_linear.predict(\n",
        "    X_text=list(kprm_df[\"desc\"]),\n",
        "    output_level=\"last\",\n",
        "    format=\"dataframe\",\n",
        "    top_k=5\n",
        ")"
      ],
      "metadata": {
        "colab": {
          "base_uri": "https://localhost:8080/"
        },
        "id": "3w4OG2EOr_Fu",
        "outputId": "62b032ac-bb0d-4bd6-9a68-e56ea0fd6508"
      },
      "execution_count": 9,
      "outputs": [
        {
          "output_type": "stream",
          "name": "stdout",
          "text": [
            "Processing X ...\n",
            "Processing text ...\n"
          ]
        },
        {
          "output_type": "stream",
          "name": "stderr",
          "text": [
            "100%|██████████| 450/450 [00:03<00:00, 112.54it/s]\n"
          ]
        },
        {
          "output_type": "stream",
          "name": "stdout",
          "text": [
            "Transforming text to tf-idf ...\n",
            "Predicting ...\n"
          ]
        },
        {
          "output_type": "stream",
          "name": "stderr",
          "text": [
            "100%|██████████| 450/450 [00:00<00:00, 1829.06it/s]\n"
          ]
        }
      ]
    },
    {
      "cell_type": "code",
      "source": [
        "kprm_df_zaw6_top5.head(n=5)"
      ],
      "metadata": {
        "colab": {
          "base_uri": "https://localhost:8080/",
          "height": 206
        },
        "id": "CJbv4aRLsDuz",
        "outputId": "0d64e10d-ecbb-455e-e563-c6055a83273f"
      },
      "execution_count": 10,
      "outputs": [
        {
          "output_type": "execute_result",
          "data": {
            "text/plain": [
              "  class_1 class_2 class_3 class_4 class_5    prob_1    prob_2    prob_3  \\\n",
              "0  251101  252902  251103  251102  252201  0.224459  0.192830  0.136211   \n",
              "1  242225  331490  242217  261103  334306  0.935973  0.015968  0.006675   \n",
              "2  121101  242217  242290  121904  242204  0.484566  0.054834  0.040809   \n",
              "3  121101  121103  121190  122106  122102  0.973492  0.012645  0.003823   \n",
              "4  441402  134907  325512  515303  341201  0.168923  0.050569  0.031137   \n",
              "\n",
              "     prob_4    prob_5  \n",
              "0  0.079776  0.036477  \n",
              "1  0.004264  0.002557  \n",
              "2  0.021522  0.020431  \n",
              "3  0.001396  0.001201  \n",
              "4  0.015885  0.012722  "
            ],
            "text/html": [
              "\n",
              "  <div id=\"df-b403ffdd-2a07-4238-9cb3-19936153ede3\">\n",
              "    <div class=\"colab-df-container\">\n",
              "      <div>\n",
              "<style scoped>\n",
              "    .dataframe tbody tr th:only-of-type {\n",
              "        vertical-align: middle;\n",
              "    }\n",
              "\n",
              "    .dataframe tbody tr th {\n",
              "        vertical-align: top;\n",
              "    }\n",
              "\n",
              "    .dataframe thead th {\n",
              "        text-align: right;\n",
              "    }\n",
              "</style>\n",
              "<table border=\"1\" class=\"dataframe\">\n",
              "  <thead>\n",
              "    <tr style=\"text-align: right;\">\n",
              "      <th></th>\n",
              "      <th>class_1</th>\n",
              "      <th>class_2</th>\n",
              "      <th>class_3</th>\n",
              "      <th>class_4</th>\n",
              "      <th>class_5</th>\n",
              "      <th>prob_1</th>\n",
              "      <th>prob_2</th>\n",
              "      <th>prob_3</th>\n",
              "      <th>prob_4</th>\n",
              "      <th>prob_5</th>\n",
              "    </tr>\n",
              "  </thead>\n",
              "  <tbody>\n",
              "    <tr>\n",
              "      <th>0</th>\n",
              "      <td>251101</td>\n",
              "      <td>252902</td>\n",
              "      <td>251103</td>\n",
              "      <td>251102</td>\n",
              "      <td>252201</td>\n",
              "      <td>0.224459</td>\n",
              "      <td>0.192830</td>\n",
              "      <td>0.136211</td>\n",
              "      <td>0.079776</td>\n",
              "      <td>0.036477</td>\n",
              "    </tr>\n",
              "    <tr>\n",
              "      <th>1</th>\n",
              "      <td>242225</td>\n",
              "      <td>331490</td>\n",
              "      <td>242217</td>\n",
              "      <td>261103</td>\n",
              "      <td>334306</td>\n",
              "      <td>0.935973</td>\n",
              "      <td>0.015968</td>\n",
              "      <td>0.006675</td>\n",
              "      <td>0.004264</td>\n",
              "      <td>0.002557</td>\n",
              "    </tr>\n",
              "    <tr>\n",
              "      <th>2</th>\n",
              "      <td>121101</td>\n",
              "      <td>242217</td>\n",
              "      <td>242290</td>\n",
              "      <td>121904</td>\n",
              "      <td>242204</td>\n",
              "      <td>0.484566</td>\n",
              "      <td>0.054834</td>\n",
              "      <td>0.040809</td>\n",
              "      <td>0.021522</td>\n",
              "      <td>0.020431</td>\n",
              "    </tr>\n",
              "    <tr>\n",
              "      <th>3</th>\n",
              "      <td>121101</td>\n",
              "      <td>121103</td>\n",
              "      <td>121190</td>\n",
              "      <td>122106</td>\n",
              "      <td>122102</td>\n",
              "      <td>0.973492</td>\n",
              "      <td>0.012645</td>\n",
              "      <td>0.003823</td>\n",
              "      <td>0.001396</td>\n",
              "      <td>0.001201</td>\n",
              "    </tr>\n",
              "    <tr>\n",
              "      <th>4</th>\n",
              "      <td>441402</td>\n",
              "      <td>134907</td>\n",
              "      <td>325512</td>\n",
              "      <td>515303</td>\n",
              "      <td>341201</td>\n",
              "      <td>0.168923</td>\n",
              "      <td>0.050569</td>\n",
              "      <td>0.031137</td>\n",
              "      <td>0.015885</td>\n",
              "      <td>0.012722</td>\n",
              "    </tr>\n",
              "  </tbody>\n",
              "</table>\n",
              "</div>\n",
              "      <button class=\"colab-df-convert\" onclick=\"convertToInteractive('df-b403ffdd-2a07-4238-9cb3-19936153ede3')\"\n",
              "              title=\"Convert this dataframe to an interactive table.\"\n",
              "              style=\"display:none;\">\n",
              "        \n",
              "  <svg xmlns=\"http://www.w3.org/2000/svg\" height=\"24px\"viewBox=\"0 0 24 24\"\n",
              "       width=\"24px\">\n",
              "    <path d=\"M0 0h24v24H0V0z\" fill=\"none\"/>\n",
              "    <path d=\"M18.56 5.44l.94 2.06.94-2.06 2.06-.94-2.06-.94-.94-2.06-.94 2.06-2.06.94zm-11 1L8.5 8.5l.94-2.06 2.06-.94-2.06-.94L8.5 2.5l-.94 2.06-2.06.94zm10 10l.94 2.06.94-2.06 2.06-.94-2.06-.94-.94-2.06-.94 2.06-2.06.94z\"/><path d=\"M17.41 7.96l-1.37-1.37c-.4-.4-.92-.59-1.43-.59-.52 0-1.04.2-1.43.59L10.3 9.45l-7.72 7.72c-.78.78-.78 2.05 0 2.83L4 21.41c.39.39.9.59 1.41.59.51 0 1.02-.2 1.41-.59l7.78-7.78 2.81-2.81c.8-.78.8-2.07 0-2.86zM5.41 20L4 18.59l7.72-7.72 1.47 1.35L5.41 20z\"/>\n",
              "  </svg>\n",
              "      </button>\n",
              "      \n",
              "  <style>\n",
              "    .colab-df-container {\n",
              "      display:flex;\n",
              "      flex-wrap:wrap;\n",
              "      gap: 12px;\n",
              "    }\n",
              "\n",
              "    .colab-df-convert {\n",
              "      background-color: #E8F0FE;\n",
              "      border: none;\n",
              "      border-radius: 50%;\n",
              "      cursor: pointer;\n",
              "      display: none;\n",
              "      fill: #1967D2;\n",
              "      height: 32px;\n",
              "      padding: 0 0 0 0;\n",
              "      width: 32px;\n",
              "    }\n",
              "\n",
              "    .colab-df-convert:hover {\n",
              "      background-color: #E2EBFA;\n",
              "      box-shadow: 0px 1px 2px rgba(60, 64, 67, 0.3), 0px 1px 3px 1px rgba(60, 64, 67, 0.15);\n",
              "      fill: #174EA6;\n",
              "    }\n",
              "\n",
              "    [theme=dark] .colab-df-convert {\n",
              "      background-color: #3B4455;\n",
              "      fill: #D2E3FC;\n",
              "    }\n",
              "\n",
              "    [theme=dark] .colab-df-convert:hover {\n",
              "      background-color: #434B5C;\n",
              "      box-shadow: 0px 1px 3px 1px rgba(0, 0, 0, 0.15);\n",
              "      filter: drop-shadow(0px 1px 2px rgba(0, 0, 0, 0.3));\n",
              "      fill: #FFFFFF;\n",
              "    }\n",
              "  </style>\n",
              "\n",
              "      <script>\n",
              "        const buttonEl =\n",
              "          document.querySelector('#df-b403ffdd-2a07-4238-9cb3-19936153ede3 button.colab-df-convert');\n",
              "        buttonEl.style.display =\n",
              "          google.colab.kernel.accessAllowed ? 'block' : 'none';\n",
              "\n",
              "        async function convertToInteractive(key) {\n",
              "          const element = document.querySelector('#df-b403ffdd-2a07-4238-9cb3-19936153ede3');\n",
              "          const dataTable =\n",
              "            await google.colab.kernel.invokeFunction('convertToInteractive',\n",
              "                                                     [key], {});\n",
              "          if (!dataTable) return;\n",
              "\n",
              "          const docLinkHtml = 'Like what you see? Visit the ' +\n",
              "            '<a target=\"_blank\" href=https://colab.research.google.com/notebooks/data_table.ipynb>data table notebook</a>'\n",
              "            + ' to learn more about interactive tables.';\n",
              "          element.innerHTML = '';\n",
              "          dataTable['output_type'] = 'display_data';\n",
              "          await google.colab.output.renderOutput(dataTable, element);\n",
              "          const docLink = document.createElement('div');\n",
              "          docLink.innerHTML = docLinkHtml;\n",
              "          element.appendChild(docLink);\n",
              "        }\n",
              "      </script>\n",
              "    </div>\n",
              "  </div>\n",
              "  "
            ]
          },
          "metadata": {},
          "execution_count": 10
        }
      ]
    },
    {
      "cell_type": "markdown",
      "source": [
        "### Transformer model"
      ],
      "metadata": {
        "id": "2j_LhmFuwA6O"
      }
    },
    {
      "cell_type": "code",
      "source": [
        "model_paper_trans = TransformerJobOffersClassifier(gpus=1, threads=2)\n",
        "model_paper_trans.load(f\"{models_dir}/transformer_model\")"
      ],
      "metadata": {
        "colab": {
          "base_uri": "https://localhost:8080/"
        },
        "id": "Aof6YX_Nnkpc",
        "outputId": "669d7341-407c-49dc-93ec-2fa4281ba0a0"
      },
      "execution_count": 11,
      "outputs": [
        {
          "output_type": "stream",
          "name": "stdout",
          "text": [
            "Initializing TransformerClassifier with model_name=allegro/herbert-base-cased, output_type=linear, num_labels=2905, learning_rate=1e-05, weight_decay=0.01, warmup_steps=50 ...\n"
          ]
        },
        {
          "output_type": "stream",
          "name": "stderr",
          "text": [
            "Some weights of the model checkpoint at allegro/herbert-base-cased were not used when initializing BertModel: ['cls.predictions.transform.dense.weight', 'cls.predictions.transform.dense.bias', 'cls.sso.sso_relationship.bias', 'cls.predictions.bias', 'cls.predictions.transform.LayerNorm.weight', 'cls.predictions.transform.LayerNorm.bias', 'cls.predictions.decoder.weight', 'cls.predictions.decoder.bias', 'cls.sso.sso_relationship.weight']\n",
            "- This IS expected if you are initializing BertModel from the checkpoint of a model trained on another task or with another architecture (e.g. initializing a BertForSequenceClassification model from a BertForPreTraining model).\n",
            "- This IS NOT expected if you are initializing BertModel from the checkpoint of a model that you expect to be exactly identical (initializing a BertForSequenceClassification model from a BertForSequenceClassification model).\n"
          ]
        }
      ]
    },
    {
      "cell_type": "code",
      "source": [
        "kprm_df_zaw1_trans = model_paper_trans.predict(\n",
        "    X=list(kprm_df[\"desc\"]),\n",
        "    output_level=0,\n",
        "    format=\"dataframe\"\n",
        ")"
      ],
      "metadata": {
        "id": "P7SE_ax2n07g",
        "colab": {
          "base_uri": "https://localhost:8080/",
          "height": 301,
          "referenced_widgets": [
            "0b4c5c31730f43b0927c3e9feb822a3c",
            "7e6f37806a8649469f362341480ca417",
            "6e17c485130e43aab1e4be612250dae5",
            "31597c6a609f48eb96e0e6349bc07da5",
            "fec8be73989f4c48b5e4f37e3bdd879d",
            "d93e25ab5ca5448ea428303afad0b2a2",
            "32e4ae4e08cd4f9092826dfdbea045d9",
            "3cd5374259554dbb930519b86afc7245",
            "65c677c7744d40f4ac265821bb5a2d41",
            "4e0349a045b54485afc6c56d0e763e13",
            "c26a1ca444474937a1f98919d4d968ec"
          ]
        },
        "outputId": "d58b2b56-a313-46ce-8676-57bf6e080b7a"
      },
      "execution_count": 15,
      "outputs": [
        {
          "output_type": "stream",
          "name": "stdout",
          "text": [
            "Initializing TransformerDataModule with model_name=allegro/herbert-base-cased, max_seq_length=512, train/eval_batch_size=8/8, num_workers=2 ...\n",
            "Setting up TransformerDataModule ...\n"
          ]
        },
        {
          "output_type": "stream",
          "name": "stderr",
          "text": [
            "INFO:pytorch_lightning.utilities.rank_zero:Using 16bit native Automatic Mixed Precision (AMP)\n",
            "/usr/local/lib/python3.7/dist-packages/pytorch_lightning/loops/utilities.py:94: PossibleUserWarning: `max_epochs` was not set. Setting it to 1000 epochs. To train without an epoch limit, set `max_epochs=-1`.\n",
            "  category=PossibleUserWarning,\n",
            "INFO:pytorch_lightning.utilities.rank_zero:GPU available: True, used: True\n",
            "INFO:pytorch_lightning.utilities.rank_zero:TPU available: False, using: 0 TPU cores\n",
            "INFO:pytorch_lightning.utilities.rank_zero:IPU available: False, using: 0 IPUs\n",
            "INFO:pytorch_lightning.utilities.rank_zero:HPU available: False, using: 0 HPUs\n",
            "INFO:pytorch_lightning.utilities.rank_zero:Restoring states from the checkpoint path at /content/job-ads-classifier/models/transformer_model/transformer_classifier.ckpt\n"
          ]
        },
        {
          "output_type": "stream",
          "name": "stdout",
          "text": [
            "Starting predicting with TransformerClassifier ...\n"
          ]
        },
        {
          "output_type": "stream",
          "name": "stderr",
          "text": [
            "INFO:pytorch_lightning.accelerators.gpu:LOCAL_RANK: 0 - CUDA_VISIBLE_DEVICES: [0]\n",
            "INFO:pytorch_lightning.utilities.rank_zero:Loaded model weights from checkpoint at /content/job-ads-classifier/models/transformer_model/transformer_classifier.ckpt\n"
          ]
        },
        {
          "output_type": "display_data",
          "data": {
            "text/plain": [
              "Predicting: 0it [00:00, ?it/s]"
            ],
            "application/vnd.jupyter.widget-view+json": {
              "version_major": 2,
              "version_minor": 0,
              "model_id": "0b4c5c31730f43b0927c3e9feb822a3c"
            }
          },
          "metadata": {}
        }
      ]
    },
    {
      "cell_type": "markdown",
      "source": [
        "Distribution of occupancy codes"
      ],
      "metadata": {
        "id": "wO9PRPeqqeiH"
      }
    },
    {
      "cell_type": "code",
      "source": [
        "np.sum(kprm_df_zaw1_trans, axis=0)"
      ],
      "metadata": {
        "colab": {
          "base_uri": "https://localhost:8080/"
        },
        "id": "XRWMWn1TozGO",
        "outputId": "69edaa8d-5407-40b3-aaeb-d373b99c52c8"
      },
      "execution_count": 16,
      "outputs": [
        {
          "output_type": "execute_result",
          "data": {
            "text/plain": [
              "0      0.061671\n",
              "1     22.453873\n",
              "2    179.178436\n",
              "3    147.483887\n",
              "4     43.386158\n",
              "5     10.851691\n",
              "6      2.837573\n",
              "7     21.614429\n",
              "8     15.975781\n",
              "9      6.156576\n",
              "dtype: float32"
            ]
          },
          "metadata": {},
          "execution_count": 16
        }
      ]
    },
    {
      "cell_type": "markdown",
      "source": [
        "Compare linear vs transformer"
      ],
      "metadata": {
        "id": "zjMo6sK0o4M4"
      }
    },
    {
      "cell_type": "code",
      "source": [
        "kod_linear = np.argmax(np.array(kprm_df_zaw1), axis=1)\n",
        "kod_trans = np.argmax(np.array(kprm_df_zaw1_trans), axis=1)\n",
        "compare=pd.DataFrame({\"linear\": kod_linear, \"trans\":kod_trans})\n",
        "pd.crosstab(compare.linear, compare.trans)"
      ],
      "metadata": {
        "colab": {
          "base_uri": "https://localhost:8080/",
          "height": 238
        },
        "id": "ZNv1gYazo3za",
        "outputId": "ad2253c0-083d-4798-871f-d1c4de156534"
      },
      "execution_count": 22,
      "outputs": [
        {
          "output_type": "execute_result",
          "data": {
            "text/plain": [
              "trans   1    2   3   4  7\n",
              "linear                   \n",
              "1       4    2   7   2  0\n",
              "2       1  181  30   9  0\n",
              "3       3   67  97  16  1\n",
              "4       0   14   2  13  0\n",
              "7       0    0   1   0  0"
            ],
            "text/html": [
              "\n",
              "  <div id=\"df-ccefaa8f-d704-47f8-850a-381799a93e31\">\n",
              "    <div class=\"colab-df-container\">\n",
              "      <div>\n",
              "<style scoped>\n",
              "    .dataframe tbody tr th:only-of-type {\n",
              "        vertical-align: middle;\n",
              "    }\n",
              "\n",
              "    .dataframe tbody tr th {\n",
              "        vertical-align: top;\n",
              "    }\n",
              "\n",
              "    .dataframe thead th {\n",
              "        text-align: right;\n",
              "    }\n",
              "</style>\n",
              "<table border=\"1\" class=\"dataframe\">\n",
              "  <thead>\n",
              "    <tr style=\"text-align: right;\">\n",
              "      <th>trans</th>\n",
              "      <th>1</th>\n",
              "      <th>2</th>\n",
              "      <th>3</th>\n",
              "      <th>4</th>\n",
              "      <th>7</th>\n",
              "    </tr>\n",
              "    <tr>\n",
              "      <th>linear</th>\n",
              "      <th></th>\n",
              "      <th></th>\n",
              "      <th></th>\n",
              "      <th></th>\n",
              "      <th></th>\n",
              "    </tr>\n",
              "  </thead>\n",
              "  <tbody>\n",
              "    <tr>\n",
              "      <th>1</th>\n",
              "      <td>4</td>\n",
              "      <td>2</td>\n",
              "      <td>7</td>\n",
              "      <td>2</td>\n",
              "      <td>0</td>\n",
              "    </tr>\n",
              "    <tr>\n",
              "      <th>2</th>\n",
              "      <td>1</td>\n",
              "      <td>181</td>\n",
              "      <td>30</td>\n",
              "      <td>9</td>\n",
              "      <td>0</td>\n",
              "    </tr>\n",
              "    <tr>\n",
              "      <th>3</th>\n",
              "      <td>3</td>\n",
              "      <td>67</td>\n",
              "      <td>97</td>\n",
              "      <td>16</td>\n",
              "      <td>1</td>\n",
              "    </tr>\n",
              "    <tr>\n",
              "      <th>4</th>\n",
              "      <td>0</td>\n",
              "      <td>14</td>\n",
              "      <td>2</td>\n",
              "      <td>13</td>\n",
              "      <td>0</td>\n",
              "    </tr>\n",
              "    <tr>\n",
              "      <th>7</th>\n",
              "      <td>0</td>\n",
              "      <td>0</td>\n",
              "      <td>1</td>\n",
              "      <td>0</td>\n",
              "      <td>0</td>\n",
              "    </tr>\n",
              "  </tbody>\n",
              "</table>\n",
              "</div>\n",
              "      <button class=\"colab-df-convert\" onclick=\"convertToInteractive('df-ccefaa8f-d704-47f8-850a-381799a93e31')\"\n",
              "              title=\"Convert this dataframe to an interactive table.\"\n",
              "              style=\"display:none;\">\n",
              "        \n",
              "  <svg xmlns=\"http://www.w3.org/2000/svg\" height=\"24px\"viewBox=\"0 0 24 24\"\n",
              "       width=\"24px\">\n",
              "    <path d=\"M0 0h24v24H0V0z\" fill=\"none\"/>\n",
              "    <path d=\"M18.56 5.44l.94 2.06.94-2.06 2.06-.94-2.06-.94-.94-2.06-.94 2.06-2.06.94zm-11 1L8.5 8.5l.94-2.06 2.06-.94-2.06-.94L8.5 2.5l-.94 2.06-2.06.94zm10 10l.94 2.06.94-2.06 2.06-.94-2.06-.94-.94-2.06-.94 2.06-2.06.94z\"/><path d=\"M17.41 7.96l-1.37-1.37c-.4-.4-.92-.59-1.43-.59-.52 0-1.04.2-1.43.59L10.3 9.45l-7.72 7.72c-.78.78-.78 2.05 0 2.83L4 21.41c.39.39.9.59 1.41.59.51 0 1.02-.2 1.41-.59l7.78-7.78 2.81-2.81c.8-.78.8-2.07 0-2.86zM5.41 20L4 18.59l7.72-7.72 1.47 1.35L5.41 20z\"/>\n",
              "  </svg>\n",
              "      </button>\n",
              "      \n",
              "  <style>\n",
              "    .colab-df-container {\n",
              "      display:flex;\n",
              "      flex-wrap:wrap;\n",
              "      gap: 12px;\n",
              "    }\n",
              "\n",
              "    .colab-df-convert {\n",
              "      background-color: #E8F0FE;\n",
              "      border: none;\n",
              "      border-radius: 50%;\n",
              "      cursor: pointer;\n",
              "      display: none;\n",
              "      fill: #1967D2;\n",
              "      height: 32px;\n",
              "      padding: 0 0 0 0;\n",
              "      width: 32px;\n",
              "    }\n",
              "\n",
              "    .colab-df-convert:hover {\n",
              "      background-color: #E2EBFA;\n",
              "      box-shadow: 0px 1px 2px rgba(60, 64, 67, 0.3), 0px 1px 3px 1px rgba(60, 64, 67, 0.15);\n",
              "      fill: #174EA6;\n",
              "    }\n",
              "\n",
              "    [theme=dark] .colab-df-convert {\n",
              "      background-color: #3B4455;\n",
              "      fill: #D2E3FC;\n",
              "    }\n",
              "\n",
              "    [theme=dark] .colab-df-convert:hover {\n",
              "      background-color: #434B5C;\n",
              "      box-shadow: 0px 1px 3px 1px rgba(0, 0, 0, 0.15);\n",
              "      filter: drop-shadow(0px 1px 2px rgba(0, 0, 0, 0.3));\n",
              "      fill: #FFFFFF;\n",
              "    }\n",
              "  </style>\n",
              "\n",
              "      <script>\n",
              "        const buttonEl =\n",
              "          document.querySelector('#df-ccefaa8f-d704-47f8-850a-381799a93e31 button.colab-df-convert');\n",
              "        buttonEl.style.display =\n",
              "          google.colab.kernel.accessAllowed ? 'block' : 'none';\n",
              "\n",
              "        async function convertToInteractive(key) {\n",
              "          const element = document.querySelector('#df-ccefaa8f-d704-47f8-850a-381799a93e31');\n",
              "          const dataTable =\n",
              "            await google.colab.kernel.invokeFunction('convertToInteractive',\n",
              "                                                     [key], {});\n",
              "          if (!dataTable) return;\n",
              "\n",
              "          const docLinkHtml = 'Like what you see? Visit the ' +\n",
              "            '<a target=\"_blank\" href=https://colab.research.google.com/notebooks/data_table.ipynb>data table notebook</a>'\n",
              "            + ' to learn more about interactive tables.';\n",
              "          element.innerHTML = '';\n",
              "          dataTable['output_type'] = 'display_data';\n",
              "          await google.colab.output.renderOutput(dataTable, element);\n",
              "          const docLink = document.createElement('div');\n",
              "          docLink.innerHTML = docLinkHtml;\n",
              "          element.appendChild(docLink);\n",
              "        }\n",
              "      </script>\n",
              "    </div>\n",
              "  </div>\n",
              "  "
            ]
          },
          "metadata": {},
          "execution_count": 22
        }
      ]
    },
    {
      "cell_type": "markdown",
      "source": [
        "## Compare with official dictionary \n",
        "\n",
        "Selected occupancies from official dictionary to see which model is better.\n",
        "\n",
        "1. 712401 -- monter izolacji budowlanych\n",
        "2. 214102 -- inżynier organizacji i planowania produkcji\n",
        "3. 932101 -- pakowacz ręczny\n"
      ],
      "metadata": {
        "id": "Y8R7jRQTqmbM"
      }
    },
    {
      "cell_type": "code",
      "source": [
        "opisy = [\"Monter dociepleń budynków - Francja, okolice Grenoble , Zagranica od ATERIMA WORK FR Monter dociepleń budynków Francja, okolice Grenoble, Zagranica Umowa o pracę tymczasową Obowiązki:montaż zewnętrznej izolacji termicznej (styropian) malowanie elewacji montaż / demontaż rusztowań niezbędnych do wykonania pracy Wymagania:doświadczenie na podobnym stanowisku dyspozycyjność do podjęcia zatrudnienia od zaraz prawo jazdy kat. B oraz mile widziany własny samochód do dyspozycji badania wysokościowe na podstawie naszego skierowania Wybranym kandydatom oferujemy:legalne zatrudnienie na terenie Francji u sprawdzonego klienta umowę o pracę tymczasową do 30 lipca z możliwością przedłużenia 12,90 EUR brutto / h (za 35 godzin tygodniowo) dodatek wyżywieniowy 10,30 EUR brutto za każdy dzień roboczy zapewnione nadgodziny płatne dodatkowo (powyżej 35 godz.: 16,12 EUR brutto/h, powyżej 43 godz.: 19,35 EUR brutto/h) zawsze terminową wypłatę wynagrodzenia składki ZUS opłacane od średniej krajowej bezpłatne zakwaterowanie częściowy zwrot kosztów podróży do Francji Co jest dla Ciebie ważne? Wiemy, że do dobrej pracy potrzebne są odpowiednie warunki. Dobrze znamy naszych kandydatów i świetnie rozumiemy, na czym szczególnie im zależy w pracy. Obowiązki:montaż zewnętrznej izolacji termicznej (styropian) malowanie elewacji montaż / demontaż rusztowań niezbędnych do wykonania pracy Wymagania:doświadczenie na podobnym stanowisku dyspozycyjność do podjęcia zatrudnienia od zaraz prawo jazdy kat. B oraz mile widziany własny samochód do dyspozycji badania wysokościowe na podstawie naszego skierowania Wybranym kandydatom oferujemy:legalne zatrudnienie na terenie Francji u sprawdzonego klienta umowę o pracę tymczasową do 30 lipca z możliwością przedłużenia 12,90 EUR brutto / h (za 35 godzin tygodniowo) dodatek wyżywieniowy 10,30 EUR brutto za każdy dzień roboczy zapewnione nadgodziny płatne dodatkowo (powyżej 35 godz.: 16,12 EUR brutto/h, powyżej 43 godz.: 19,35 EUR brutto/h) zawsze terminową wypłatę wynagrodzenia składki ZUS opłacane od średniej krajowej bezpłatne zakwaterowanie częściowy zwrot kosztów podróży do Francji\",\n",
        "         \"Specjalista ds. planowania Twój zakres obowiązkówplanowanie produkcji zgodnie z polityką i procedurami firmyoptymalizacja i budowa efektywnych modeli planistycznych (proces ciągły)wywoływanie zakupów i rezerwacja surowców do zleceń produkcyjnychanaliza rotacji i optymalizacja poziomu zapasu surowców (proces ciągły)udział w projektach wewnętrznych optymalizujących procesy planowania i zakupówraportowanie wyników KPI w podległym obszarze Nasze wymaganiaminimum dwuletnie doświadczenie w planowaniu produkcji z wykorzystaniem systemu klasy ERPdoświadczenie w obszarze zakupów surowców i materiałów do produkcjiwykształcenie wyższego (preferowane kierunki ekonomia, inżynieria produkcji, logistyka)umiejętność analizy danych, wyciągania wniosków oraz proponowania rozwiązańznajomość języka angielskiego w stopniu komunikatywnym (B2)znajomość obsługi komputera i pakietu MS Office - w szczególności Excel na poziomie minimum średniozaawansowanym – warunek koniecznysamodzielność w działaniu i umiejętność podejmowania decyzjidobra organizacji pracy i zarządzania czasem oraz umiejętności ustalania priorytetów – warunek koniecznyMile widzianedoświadczenie we wdrażaniu systemów do planowania klasy ERPdoświadczenie w diagnozie i modelowaniu procesów produkcyjnych To oferujemystabilne zatrudnienie w oparciu o umowę o pracę w pełnym wymiarze godzinpracę w zespole nastawionym na współpracę, dzielenie się wiedzą i wspólny szacunekatrakcyjne wynagrodzenie aby docenić Twoje kompetencjepełną wyzwań pracę w dziale Zarządzania Łańcuchem Dostaw w firmie produkcyjnejmożliwość rozwoju i codziennego doskonalenia Twoich kwalifikacji zawodowychudział w projektach wewnętrznych optymalizujących nasze procesypracę od poniedziałku do piątku w godzinach od 08:00 do 16:00pakiet benefitów pozapłacowych w tym ubezpieczenie na życiepakiet socjalny w ramach ZFŚS\",\n",
        "         \"Pakowacz Zakres obowiązków:- pakowanie towaru- etykietowanie towaru- ważenie towaruWymagania:Wymagania konieczne: Wykształcenie: podstawowe, brakWynagrodzenie brutto: od 2 800 PLNRodzaj umowy:Umowa o pracę na czas określonyLiczba wolnych miejsc pracy:10, dla niepełnosprawnych 1Sposób aplikowania:bezpośrednio do pracodawcyPracodawca:Zakład przemysłu mięsnego biernacki sp. z o.o.Profil działalności pracodawcy:przetwarzanie i konserwowanie mięsa,z wyłączeniem mięsa z drobiuMiejsce pracy: Dworcowa 47 D, 63-200 Golina, powiat: jarociński, woj: wielkopolskieKontakt:Preferowane formy kontaktu: telefon, e-mailNumer telefonu:62 747 09 27Wymagane dokumenty:CVData rozpoczęcia pracy:13.07.2021Data ważności ogłoszenia:30.09.2021Dodane przez:Powiatowy Urząd Pracy w JarocinieIdentyfikator oferty:StPr/21/0506\"]"
      ],
      "metadata": {
        "id": "lPgPUGTkq3OB"
      },
      "execution_count": 42,
      "outputs": []
    },
    {
      "cell_type": "code",
      "source": [
        "trans3=kprm_df_zaw1_trans = model_paper_trans.predict(X=list(opisy), output_level=\"last\", format=\"dataframe\", top_k=1)\n",
        "lin3=kprm_df_zaw1_trans = model_paper_linear.predict(X_text=list(opisy), output_level=\"last\", format=\"dataframe\", top_k=1)"
      ],
      "metadata": {
        "colab": {
          "base_uri": "https://localhost:8080/",
          "height": 408,
          "referenced_widgets": [
            "c916956e872241a781ecc8f3b2bbcb59",
            "55b82e3029f04980983ded3e20550bda",
            "61992e0eb0e54025b053a0e46071d133",
            "e0ade9b37ebb455b8e53dcbafbe8f3b8",
            "c5f4e01efdc84ee29f551c55c5463069",
            "992f0707f8134d57a37e5faab18213f0",
            "94cc6f3852014db8939360f71c50dabc",
            "02977d513ad94652a84636dd3bcb1138",
            "10d401b5f38f4c9c9bb3347652646d46",
            "fbea7d260668454b8c14e5586053d29f",
            "2f0dc7bac0fe49babd16ec15b7f79404"
          ]
        },
        "id": "j2IqBFbRr5t0",
        "outputId": "3ce5ddc6-a408-4831-806d-b757542f2910"
      },
      "execution_count": 43,
      "outputs": [
        {
          "output_type": "stream",
          "name": "stdout",
          "text": [
            "Initializing TransformerDataModule with model_name=allegro/herbert-base-cased, max_seq_length=512, train/eval_batch_size=8/8, num_workers=2 ...\n",
            "Setting up TransformerDataModule ...\n"
          ]
        },
        {
          "output_type": "stream",
          "name": "stderr",
          "text": [
            "INFO:pytorch_lightning.utilities.rank_zero:Using 16bit native Automatic Mixed Precision (AMP)\n",
            "/usr/local/lib/python3.7/dist-packages/pytorch_lightning/loops/utilities.py:94: PossibleUserWarning: `max_epochs` was not set. Setting it to 1000 epochs. To train without an epoch limit, set `max_epochs=-1`.\n",
            "  category=PossibleUserWarning,\n",
            "INFO:pytorch_lightning.utilities.rank_zero:GPU available: True, used: True\n",
            "INFO:pytorch_lightning.utilities.rank_zero:TPU available: False, using: 0 TPU cores\n",
            "INFO:pytorch_lightning.utilities.rank_zero:IPU available: False, using: 0 IPUs\n",
            "INFO:pytorch_lightning.utilities.rank_zero:HPU available: False, using: 0 HPUs\n",
            "INFO:pytorch_lightning.utilities.rank_zero:Restoring states from the checkpoint path at /content/job-ads-classifier/models/transformer_model/transformer_classifier.ckpt\n"
          ]
        },
        {
          "output_type": "stream",
          "name": "stdout",
          "text": [
            "Starting predicting with TransformerClassifier ...\n"
          ]
        },
        {
          "output_type": "stream",
          "name": "stderr",
          "text": [
            "INFO:pytorch_lightning.accelerators.gpu:LOCAL_RANK: 0 - CUDA_VISIBLE_DEVICES: [0]\n",
            "INFO:pytorch_lightning.utilities.rank_zero:Loaded model weights from checkpoint at /content/job-ads-classifier/models/transformer_model/transformer_classifier.ckpt\n"
          ]
        },
        {
          "output_type": "display_data",
          "data": {
            "text/plain": [
              "Predicting: 0it [00:00, ?it/s]"
            ],
            "application/vnd.jupyter.widget-view+json": {
              "version_major": 2,
              "version_minor": 0,
              "model_id": "c916956e872241a781ecc8f3b2bbcb59"
            }
          },
          "metadata": {}
        },
        {
          "output_type": "stream",
          "name": "stdout",
          "text": [
            "Processing X ...\n",
            "Processing text ...\n"
          ]
        },
        {
          "output_type": "stream",
          "name": "stderr",
          "text": [
            "100%|██████████| 3/3 [00:00<00:00, 141.92it/s]\n"
          ]
        },
        {
          "output_type": "stream",
          "name": "stdout",
          "text": [
            "Transforming text to tf-idf ...\n",
            "Predicting ...\n"
          ]
        },
        {
          "output_type": "stream",
          "name": "stderr",
          "text": [
            "100%|██████████| 3/3 [00:00<00:00, 1252.65it/s]\n"
          ]
        }
      ]
    },
    {
      "cell_type": "code",
      "source": [
        "results = pd.concat([trans3,lin3], axis = 1)\n",
        "results[\"correct\"] = pd.Series([\"712401\", \"214102\", \"932101\"])\n",
        "results"
      ],
      "metadata": {
        "colab": {
          "base_uri": "https://localhost:8080/",
          "height": 143
        },
        "id": "WehspbR8sMgU",
        "outputId": "fbe68f9d-29df-4ff8-db39-3d0d339e841e"
      },
      "execution_count": 44,
      "outputs": [
        {
          "output_type": "execute_result",
          "data": {
            "text/plain": [
              "  class_1    prob_1 class_1    prob_1 correct\n",
              "0  712301  0.528665  712401  0.843104  712401\n",
              "1  214102  0.706504  214102  0.840713  214102\n",
              "2  932101  0.990134  932101  0.646111  932101"
            ],
            "text/html": [
              "\n",
              "  <div id=\"df-6863ba2b-71ae-49b9-b9dd-d838ef4990e6\">\n",
              "    <div class=\"colab-df-container\">\n",
              "      <div>\n",
              "<style scoped>\n",
              "    .dataframe tbody tr th:only-of-type {\n",
              "        vertical-align: middle;\n",
              "    }\n",
              "\n",
              "    .dataframe tbody tr th {\n",
              "        vertical-align: top;\n",
              "    }\n",
              "\n",
              "    .dataframe thead th {\n",
              "        text-align: right;\n",
              "    }\n",
              "</style>\n",
              "<table border=\"1\" class=\"dataframe\">\n",
              "  <thead>\n",
              "    <tr style=\"text-align: right;\">\n",
              "      <th></th>\n",
              "      <th>class_1</th>\n",
              "      <th>prob_1</th>\n",
              "      <th>class_1</th>\n",
              "      <th>prob_1</th>\n",
              "      <th>correct</th>\n",
              "    </tr>\n",
              "  </thead>\n",
              "  <tbody>\n",
              "    <tr>\n",
              "      <th>0</th>\n",
              "      <td>712301</td>\n",
              "      <td>0.528665</td>\n",
              "      <td>712401</td>\n",
              "      <td>0.843104</td>\n",
              "      <td>712401</td>\n",
              "    </tr>\n",
              "    <tr>\n",
              "      <th>1</th>\n",
              "      <td>214102</td>\n",
              "      <td>0.706504</td>\n",
              "      <td>214102</td>\n",
              "      <td>0.840713</td>\n",
              "      <td>214102</td>\n",
              "    </tr>\n",
              "    <tr>\n",
              "      <th>2</th>\n",
              "      <td>932101</td>\n",
              "      <td>0.990134</td>\n",
              "      <td>932101</td>\n",
              "      <td>0.646111</td>\n",
              "      <td>932101</td>\n",
              "    </tr>\n",
              "  </tbody>\n",
              "</table>\n",
              "</div>\n",
              "      <button class=\"colab-df-convert\" onclick=\"convertToInteractive('df-6863ba2b-71ae-49b9-b9dd-d838ef4990e6')\"\n",
              "              title=\"Convert this dataframe to an interactive table.\"\n",
              "              style=\"display:none;\">\n",
              "        \n",
              "  <svg xmlns=\"http://www.w3.org/2000/svg\" height=\"24px\"viewBox=\"0 0 24 24\"\n",
              "       width=\"24px\">\n",
              "    <path d=\"M0 0h24v24H0V0z\" fill=\"none\"/>\n",
              "    <path d=\"M18.56 5.44l.94 2.06.94-2.06 2.06-.94-2.06-.94-.94-2.06-.94 2.06-2.06.94zm-11 1L8.5 8.5l.94-2.06 2.06-.94-2.06-.94L8.5 2.5l-.94 2.06-2.06.94zm10 10l.94 2.06.94-2.06 2.06-.94-2.06-.94-.94-2.06-.94 2.06-2.06.94z\"/><path d=\"M17.41 7.96l-1.37-1.37c-.4-.4-.92-.59-1.43-.59-.52 0-1.04.2-1.43.59L10.3 9.45l-7.72 7.72c-.78.78-.78 2.05 0 2.83L4 21.41c.39.39.9.59 1.41.59.51 0 1.02-.2 1.41-.59l7.78-7.78 2.81-2.81c.8-.78.8-2.07 0-2.86zM5.41 20L4 18.59l7.72-7.72 1.47 1.35L5.41 20z\"/>\n",
              "  </svg>\n",
              "      </button>\n",
              "      \n",
              "  <style>\n",
              "    .colab-df-container {\n",
              "      display:flex;\n",
              "      flex-wrap:wrap;\n",
              "      gap: 12px;\n",
              "    }\n",
              "\n",
              "    .colab-df-convert {\n",
              "      background-color: #E8F0FE;\n",
              "      border: none;\n",
              "      border-radius: 50%;\n",
              "      cursor: pointer;\n",
              "      display: none;\n",
              "      fill: #1967D2;\n",
              "      height: 32px;\n",
              "      padding: 0 0 0 0;\n",
              "      width: 32px;\n",
              "    }\n",
              "\n",
              "    .colab-df-convert:hover {\n",
              "      background-color: #E2EBFA;\n",
              "      box-shadow: 0px 1px 2px rgba(60, 64, 67, 0.3), 0px 1px 3px 1px rgba(60, 64, 67, 0.15);\n",
              "      fill: #174EA6;\n",
              "    }\n",
              "\n",
              "    [theme=dark] .colab-df-convert {\n",
              "      background-color: #3B4455;\n",
              "      fill: #D2E3FC;\n",
              "    }\n",
              "\n",
              "    [theme=dark] .colab-df-convert:hover {\n",
              "      background-color: #434B5C;\n",
              "      box-shadow: 0px 1px 3px 1px rgba(0, 0, 0, 0.15);\n",
              "      filter: drop-shadow(0px 1px 2px rgba(0, 0, 0, 0.3));\n",
              "      fill: #FFFFFF;\n",
              "    }\n",
              "  </style>\n",
              "\n",
              "      <script>\n",
              "        const buttonEl =\n",
              "          document.querySelector('#df-6863ba2b-71ae-49b9-b9dd-d838ef4990e6 button.colab-df-convert');\n",
              "        buttonEl.style.display =\n",
              "          google.colab.kernel.accessAllowed ? 'block' : 'none';\n",
              "\n",
              "        async function convertToInteractive(key) {\n",
              "          const element = document.querySelector('#df-6863ba2b-71ae-49b9-b9dd-d838ef4990e6');\n",
              "          const dataTable =\n",
              "            await google.colab.kernel.invokeFunction('convertToInteractive',\n",
              "                                                     [key], {});\n",
              "          if (!dataTable) return;\n",
              "\n",
              "          const docLinkHtml = 'Like what you see? Visit the ' +\n",
              "            '<a target=\"_blank\" href=https://colab.research.google.com/notebooks/data_table.ipynb>data table notebook</a>'\n",
              "            + ' to learn more about interactive tables.';\n",
              "          element.innerHTML = '';\n",
              "          dataTable['output_type'] = 'display_data';\n",
              "          await google.colab.output.renderOutput(dataTable, element);\n",
              "          const docLink = document.createElement('div');\n",
              "          docLink.innerHTML = docLinkHtml;\n",
              "          element.appendChild(docLink);\n",
              "        }\n",
              "      </script>\n",
              "    </div>\n",
              "  </div>\n",
              "  "
            ]
          },
          "metadata": {},
          "execution_count": 44
        }
      ]
    }
  ]
}