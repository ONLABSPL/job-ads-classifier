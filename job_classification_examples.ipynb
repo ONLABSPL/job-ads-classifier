{
  "nbformat": 4,
  "nbformat_minor": 0,
  "metadata": {
    "colab": {
      "provenance": [],
      "collapsed_sections": [],
      "authorship_tag": "ABX9TyOHA+lsnbsdbaifm6v3Kuyp",
      "include_colab_link": true
    },
    "kernelspec": {
      "name": "py39",
      "display_name": "Python 3.9"
    },
    "language_info": {
      "name": "python"
    },
    "accelerator": "GPU"
  },
  "cells": [
    {
      "cell_type": "markdown",
      "metadata": {
        "id": "view-in-github",
        "colab_type": "text"
      },
      "source": [
        "<a href=\"https://colab.research.google.com/github/ncn-foreigners/job-ads-classifier/blob/main/job_classification_examples.ipynb\" target=\"_parent\"><img src=\"https://colab.research.google.com/assets/colab-badge.svg\" alt=\"Open In Colab\"/></a>"
      ]
    },
    {
      "cell_type": "markdown",
      "source": [
        "## Update python version"
      ],
      "metadata": {
        "id": "zxHdAv1Zmbgy"
      }
    },
    {
      "cell_type": "code",
      "source": [
        "!sudo apt-get update -y\n",
        "!sudo apt-get install python3.9\n",
        "!sudo apt-get install python3.9-distutils\n",
        "!sudo apt-get install ipython3 build-essential python3-dev\n",
        "\n",
        "#change alternatives\n",
        "!sudo update-alternatives --install /usr/bin/python3 python3 /usr/bin/python3.7 1\n",
        "!sudo update-alternatives --install /usr/bin/python3 python3 /usr/bin/python3.9 2"
      ],
      "metadata": {
        "colab": {
          "base_uri": "https://localhost:8080/"
        },
        "id": "JUqfHGOqmeAM",
        "outputId": "c877ce21-4fc1-47d4-d80a-c9363134c1e8"
      },
      "execution_count": 5,
      "outputs": [
        {
          "output_type": "stream",
          "name": "stdout",
          "text": [
            "\r0% [Working]\r            \rGet:1 https://cloud.r-project.org/bin/linux/ubuntu bionic-cran40/ InRelease [3,626 B]\n",
            "\r0% [Connecting to archive.ubuntu.com (185.125.190.36)] [Waiting for headers] [1\r0% [Connecting to archive.ubuntu.com (185.125.190.36)] [Waiting for headers] [W\r0% [1 InRelease gpgv 3,626 B] [Connecting to archive.ubuntu.com (185.125.190.36\r                                                                               \rIgn:2 https://developer.download.nvidia.com/compute/machine-learning/repos/ubuntu1804/x86_64  InRelease\n",
            "\r0% [1 InRelease gpgv 3,626 B] [Connecting to archive.ubuntu.com (185.125.190.36\r                                                                               \rHit:3 https://developer.download.nvidia.com/compute/cuda/repos/ubuntu1804/x86_64  InRelease\n",
            "\r0% [1 InRelease gpgv 3,626 B] [Connecting to archive.ubuntu.com (185.125.190.36\r                                                                               \rHit:4 https://developer.download.nvidia.com/compute/machine-learning/repos/ubuntu1804/x86_64  Release\n",
            "Get:5 http://security.ubuntu.com/ubuntu bionic-security InRelease [88.7 kB]\n",
            "Hit:6 http://ppa.launchpad.net/c2d4u.team/c2d4u4.0+/ubuntu bionic InRelease\n",
            "Hit:7 http://archive.ubuntu.com/ubuntu bionic InRelease\n",
            "Get:9 http://archive.ubuntu.com/ubuntu bionic-updates InRelease [88.7 kB]\n",
            "Hit:10 http://ppa.launchpad.net/cran/libgit2/ubuntu bionic InRelease\n",
            "Get:11 http://security.ubuntu.com/ubuntu bionic-security/main amd64 Packages [3,022 kB]\n",
            "Get:12 http://ppa.launchpad.net/deadsnakes/ppa/ubuntu bionic InRelease [15.9 kB]\n",
            "Get:13 http://archive.ubuntu.com/ubuntu bionic-backports InRelease [83.3 kB]\n",
            "Get:14 http://security.ubuntu.com/ubuntu bionic-security/restricted amd64 Packages [1,190 kB]\n",
            "Get:15 http://archive.ubuntu.com/ubuntu bionic-updates/restricted amd64 Packages [1,232 kB]\n",
            "Hit:16 http://ppa.launchpad.net/graphics-drivers/ppa/ubuntu bionic InRelease\n",
            "Get:17 http://ppa.launchpad.net/deadsnakes/ppa/ubuntu bionic/main amd64 Packages [44.0 kB]\n",
            "Get:18 http://archive.ubuntu.com/ubuntu bionic-updates/main amd64 Packages [3,454 kB]\n",
            "Fetched 9,222 kB in 2s (4,229 kB/s)\n",
            "Reading package lists... Done\n",
            "Reading package lists... Done\n",
            "Building dependency tree       \n",
            "Reading state information... Done\n",
            "The following package was automatically installed and is no longer required:\n",
            "  libnvidia-common-460\n",
            "Use 'sudo apt autoremove' to remove it.\n",
            "The following additional packages will be installed:\n",
            "  libpython3.9-minimal libpython3.9-stdlib python3.9-minimal\n",
            "Suggested packages:\n",
            "  python3.9-venv binfmt-support\n",
            "The following NEW packages will be installed:\n",
            "  libpython3.9-minimal libpython3.9-stdlib python3.9 python3.9-minimal\n",
            "0 upgraded, 4 newly installed, 0 to remove and 22 not upgraded.\n",
            "Need to get 4,917 kB of archives.\n",
            "After this operation, 19.1 MB of additional disk space will be used.\n",
            "Get:1 http://ppa.launchpad.net/deadsnakes/ppa/ubuntu bionic/main amd64 libpython3.9-minimal amd64 3.9.15-1+bionic1 [805 kB]\n",
            "Get:2 http://ppa.launchpad.net/deadsnakes/ppa/ubuntu bionic/main amd64 python3.9-minimal amd64 3.9.15-1+bionic1 [1,938 kB]\n",
            "Get:3 http://ppa.launchpad.net/deadsnakes/ppa/ubuntu bionic/main amd64 libpython3.9-stdlib amd64 3.9.15-1+bionic1 [1,680 kB]\n",
            "Get:4 http://ppa.launchpad.net/deadsnakes/ppa/ubuntu bionic/main amd64 python3.9 amd64 3.9.15-1+bionic1 [494 kB]\n",
            "Fetched 4,917 kB in 4s (1,141 kB/s)\n",
            "debconf: unable to initialize frontend: Dialog\n",
            "debconf: (No usable dialog-like program is installed, so the dialog based frontend cannot be used. at /usr/share/perl5/Debconf/FrontEnd/Dialog.pm line 76, <> line 4.)\n",
            "debconf: falling back to frontend: Readline\n",
            "debconf: unable to initialize frontend: Readline\n",
            "debconf: (This frontend requires a controlling tty.)\n",
            "debconf: falling back to frontend: Teletype\n",
            "dpkg-preconfigure: unable to re-open stdin: \n",
            "Selecting previously unselected package libpython3.9-minimal:amd64.\n",
            "(Reading database ... 123941 files and directories currently installed.)\n",
            "Preparing to unpack .../libpython3.9-minimal_3.9.15-1+bionic1_amd64.deb ...\n",
            "Unpacking libpython3.9-minimal:amd64 (3.9.15-1+bionic1) ...\n",
            "Selecting previously unselected package python3.9-minimal.\n",
            "Preparing to unpack .../python3.9-minimal_3.9.15-1+bionic1_amd64.deb ...\n",
            "Unpacking python3.9-minimal (3.9.15-1+bionic1) ...\n",
            "Selecting previously unselected package libpython3.9-stdlib:amd64.\n",
            "Preparing to unpack .../libpython3.9-stdlib_3.9.15-1+bionic1_amd64.deb ...\n",
            "Unpacking libpython3.9-stdlib:amd64 (3.9.15-1+bionic1) ...\n",
            "Selecting previously unselected package python3.9.\n",
            "Preparing to unpack .../python3.9_3.9.15-1+bionic1_amd64.deb ...\n",
            "Unpacking python3.9 (3.9.15-1+bionic1) ...\n",
            "Setting up libpython3.9-minimal:amd64 (3.9.15-1+bionic1) ...\n",
            "Setting up libpython3.9-stdlib:amd64 (3.9.15-1+bionic1) ...\n",
            "Setting up python3.9-minimal (3.9.15-1+bionic1) ...\n",
            "Setting up python3.9 (3.9.15-1+bionic1) ...\n",
            "Processing triggers for mime-support (3.60ubuntu1) ...\n",
            "Processing triggers for man-db (2.8.3-2ubuntu0.1) ...\n",
            "Reading package lists... Done\n",
            "Building dependency tree       \n",
            "Reading state information... Done\n",
            "The following package was automatically installed and is no longer required:\n",
            "  libnvidia-common-460\n",
            "Use 'sudo apt autoremove' to remove it.\n",
            "The following additional packages will be installed:\n",
            "  python3.9-lib2to3\n",
            "The following NEW packages will be installed:\n",
            "  python3.9-distutils python3.9-lib2to3\n",
            "0 upgraded, 2 newly installed, 0 to remove and 22 not upgraded.\n",
            "Need to get 315 kB of archives.\n",
            "After this operation, 1,234 kB of additional disk space will be used.\n",
            "Get:1 http://ppa.launchpad.net/deadsnakes/ppa/ubuntu bionic/main amd64 python3.9-lib2to3 all 3.9.15-1+bionic1 [125 kB]\n",
            "Get:2 http://ppa.launchpad.net/deadsnakes/ppa/ubuntu bionic/main amd64 python3.9-distutils all 3.9.15-1+bionic1 [190 kB]\n",
            "Fetched 315 kB in 1s (211 kB/s)\n",
            "debconf: unable to initialize frontend: Dialog\n",
            "debconf: (No usable dialog-like program is installed, so the dialog based frontend cannot be used. at /usr/share/perl5/Debconf/FrontEnd/Dialog.pm line 76, <> line 2.)\n",
            "debconf: falling back to frontend: Readline\n",
            "debconf: unable to initialize frontend: Readline\n",
            "debconf: (This frontend requires a controlling tty.)\n",
            "debconf: falling back to frontend: Teletype\n",
            "dpkg-preconfigure: unable to re-open stdin: \n",
            "Selecting previously unselected package python3.9-lib2to3.\n",
            "(Reading database ... 124580 files and directories currently installed.)\n",
            "Preparing to unpack .../python3.9-lib2to3_3.9.15-1+bionic1_all.deb ...\n",
            "Unpacking python3.9-lib2to3 (3.9.15-1+bionic1) ...\n",
            "Selecting previously unselected package python3.9-distutils.\n",
            "Preparing to unpack .../python3.9-distutils_3.9.15-1+bionic1_all.deb ...\n",
            "Unpacking python3.9-distutils (3.9.15-1+bionic1) ...\n",
            "Setting up python3.9-lib2to3 (3.9.15-1+bionic1) ...\n",
            "Setting up python3.9-distutils (3.9.15-1+bionic1) ...\n",
            "Reading package lists... Done\n",
            "Building dependency tree       \n",
            "Reading state information... Done\n",
            "build-essential is already the newest version (12.4ubuntu1).\n",
            "python3-dev is already the newest version (3.6.7-1~18.04).\n",
            "python3-dev set to manually installed.\n",
            "The following package was automatically installed and is no longer required:\n",
            "  libnvidia-common-460\n",
            "Use 'sudo apt autoremove' to remove it.\n",
            "The following additional packages will be installed:\n",
            "  python3-decorator python3-ipython python3-ipython-genutils python3-pexpect\n",
            "  python3-pickleshare python3-pkg-resources python3-prompt-toolkit\n",
            "  python3-ptyprocess python3-pygments python3-simplegeneric python3-six\n",
            "  python3-traitlets python3-wcwidth\n",
            "Suggested packages:\n",
            "  python-pexpect-doc python3-setuptools ttf-bitstream-vera\n",
            "The following NEW packages will be installed:\n",
            "  ipython3 python3-decorator python3-ipython python3-ipython-genutils\n",
            "  python3-pexpect python3-pickleshare python3-pkg-resources\n",
            "  python3-prompt-toolkit python3-ptyprocess python3-pygments\n",
            "  python3-simplegeneric python3-six python3-traitlets python3-wcwidth\n",
            "0 upgraded, 14 newly installed, 0 to remove and 22 not upgraded.\n",
            "Need to get 1,410 kB of archives.\n",
            "After this operation, 7,580 kB of additional disk space will be used.\n",
            "Get:1 http://archive.ubuntu.com/ubuntu bionic/universe amd64 python3-decorator all 4.1.2-1 [9,364 B]\n",
            "Get:2 http://archive.ubuntu.com/ubuntu bionic/main amd64 python3-ptyprocess all 0.5.2-1 [12.7 kB]\n",
            "Get:3 http://archive.ubuntu.com/ubuntu bionic/main amd64 python3-pexpect all 4.2.1-1 [42.4 kB]\n",
            "Get:4 http://archive.ubuntu.com/ubuntu bionic/universe amd64 python3-pickleshare all 0.7.4-2 [6,904 B]\n",
            "Get:5 http://archive.ubuntu.com/ubuntu bionic/main amd64 python3-pkg-resources all 39.0.1-2 [98.8 kB]\n",
            "Get:6 http://archive.ubuntu.com/ubuntu bionic/main amd64 python3-six all 1.11.0-2 [11.4 kB]\n",
            "Get:7 http://archive.ubuntu.com/ubuntu bionic/universe amd64 python3-wcwidth all 0.1.7+dfsg1-1 [14.7 kB]\n",
            "Get:8 http://archive.ubuntu.com/ubuntu bionic/universe amd64 python3-prompt-toolkit all 1.0.15-1 [163 kB]\n",
            "Get:9 http://archive.ubuntu.com/ubuntu bionic-updates/main amd64 python3-pygments all 2.2.0+dfsg-1ubuntu0.2 [574 kB]\n",
            "Get:10 http://archive.ubuntu.com/ubuntu bionic/universe amd64 python3-simplegeneric all 0.8.1-1 [11.5 kB]\n",
            "Get:11 http://archive.ubuntu.com/ubuntu bionic/universe amd64 python3-ipython-genutils all 0.2.0-1 [20.9 kB]\n",
            "Get:12 http://archive.ubuntu.com/ubuntu bionic/universe amd64 python3-traitlets all 4.3.2-1 [59.1 kB]\n",
            "Get:13 http://archive.ubuntu.com/ubuntu bionic/universe amd64 python3-ipython all 5.5.0-1 [381 kB]\n",
            "Get:14 http://archive.ubuntu.com/ubuntu bionic/universe amd64 ipython3 all 5.5.0-1 [5,304 B]\n",
            "Fetched 1,410 kB in 1s (2,219 kB/s)\n",
            "debconf: unable to initialize frontend: Dialog\n",
            "debconf: (No usable dialog-like program is installed, so the dialog based frontend cannot be used. at /usr/share/perl5/Debconf/FrontEnd/Dialog.pm line 76, <> line 14.)\n",
            "debconf: falling back to frontend: Readline\n",
            "debconf: unable to initialize frontend: Readline\n",
            "debconf: (This frontend requires a controlling tty.)\n",
            "debconf: falling back to frontend: Teletype\n",
            "dpkg-preconfigure: unable to re-open stdin: \n",
            "Selecting previously unselected package python3-decorator.\n",
            "(Reading database ... 124719 files and directories currently installed.)\n",
            "Preparing to unpack .../00-python3-decorator_4.1.2-1_all.deb ...\n",
            "Unpacking python3-decorator (4.1.2-1) ...\n",
            "Selecting previously unselected package python3-ptyprocess.\n",
            "Preparing to unpack .../01-python3-ptyprocess_0.5.2-1_all.deb ...\n",
            "Unpacking python3-ptyprocess (0.5.2-1) ...\n",
            "Selecting previously unselected package python3-pexpect.\n",
            "Preparing to unpack .../02-python3-pexpect_4.2.1-1_all.deb ...\n",
            "Unpacking python3-pexpect (4.2.1-1) ...\n",
            "Selecting previously unselected package python3-pickleshare.\n",
            "Preparing to unpack .../03-python3-pickleshare_0.7.4-2_all.deb ...\n",
            "Unpacking python3-pickleshare (0.7.4-2) ...\n",
            "Selecting previously unselected package python3-pkg-resources.\n",
            "Preparing to unpack .../04-python3-pkg-resources_39.0.1-2_all.deb ...\n",
            "Unpacking python3-pkg-resources (39.0.1-2) ...\n",
            "Selecting previously unselected package python3-six.\n",
            "Preparing to unpack .../05-python3-six_1.11.0-2_all.deb ...\n",
            "Unpacking python3-six (1.11.0-2) ...\n",
            "Selecting previously unselected package python3-wcwidth.\n",
            "Preparing to unpack .../06-python3-wcwidth_0.1.7+dfsg1-1_all.deb ...\n",
            "Unpacking python3-wcwidth (0.1.7+dfsg1-1) ...\n",
            "Selecting previously unselected package python3-prompt-toolkit.\n",
            "Preparing to unpack .../07-python3-prompt-toolkit_1.0.15-1_all.deb ...\n",
            "Unpacking python3-prompt-toolkit (1.0.15-1) ...\n",
            "Selecting previously unselected package python3-pygments.\n",
            "Preparing to unpack .../08-python3-pygments_2.2.0+dfsg-1ubuntu0.2_all.deb ...\n",
            "Unpacking python3-pygments (2.2.0+dfsg-1ubuntu0.2) ...\n",
            "Selecting previously unselected package python3-simplegeneric.\n",
            "Preparing to unpack .../09-python3-simplegeneric_0.8.1-1_all.deb ...\n",
            "Unpacking python3-simplegeneric (0.8.1-1) ...\n",
            "Selecting previously unselected package python3-ipython-genutils.\n",
            "Preparing to unpack .../10-python3-ipython-genutils_0.2.0-1_all.deb ...\n",
            "Unpacking python3-ipython-genutils (0.2.0-1) ...\n",
            "Selecting previously unselected package python3-traitlets.\n",
            "Preparing to unpack .../11-python3-traitlets_4.3.2-1_all.deb ...\n",
            "Unpacking python3-traitlets (4.3.2-1) ...\n",
            "Selecting previously unselected package python3-ipython.\n",
            "Preparing to unpack .../12-python3-ipython_5.5.0-1_all.deb ...\n",
            "Unpacking python3-ipython (5.5.0-1) ...\n",
            "Selecting previously unselected package ipython3.\n",
            "Preparing to unpack .../13-ipython3_5.5.0-1_all.deb ...\n",
            "Unpacking ipython3 (5.5.0-1) ...\n",
            "Setting up python3-pickleshare (0.7.4-2) ...\n",
            "Setting up python3-simplegeneric (0.8.1-1) ...\n",
            "Setting up python3-six (1.11.0-2) ...\n",
            "Setting up python3-pkg-resources (39.0.1-2) ...\n",
            "Setting up python3-wcwidth (0.1.7+dfsg1-1) ...\n",
            "Setting up python3-ipython-genutils (0.2.0-1) ...\n",
            "Setting up python3-decorator (4.1.2-1) ...\n",
            "Setting up python3-traitlets (4.3.2-1) ...\n",
            "Setting up python3-ptyprocess (0.5.2-1) ...\n",
            "Setting up python3-pygments (2.2.0+dfsg-1ubuntu0.2) ...\n",
            "Setting up python3-prompt-toolkit (1.0.15-1) ...\n",
            "Setting up python3-pexpect (4.2.1-1) ...\n",
            "Setting up python3-ipython (5.5.0-1) ...\n",
            "Setting up ipython3 (5.5.0-1) ...\n",
            "Processing triggers for man-db (2.8.3-2ubuntu0.1) ...\n",
            "update-alternatives: using /usr/bin/python3.9 to provide /usr/bin/python3 (python3) in auto mode\n"
          ]
        }
      ]
    },
    {
      "cell_type": "code",
      "source": [
        "!sudo apt-get install python3-pip\n",
        "!python -m pip install --upgrade pip"
      ],
      "metadata": {
        "colab": {
          "base_uri": "https://localhost:8080/"
        },
        "id": "Ngyq9ATpzWmy",
        "outputId": "1ffdf681-dc53-4228-f317-179bb4431049"
      },
      "execution_count": 6,
      "outputs": [
        {
          "output_type": "stream",
          "name": "stdout",
          "text": [
            "Reading package lists... Done\n",
            "Building dependency tree       \n",
            "Reading state information... Done\n",
            "The following package was automatically installed and is no longer required:\n",
            "  libnvidia-common-460\n",
            "Use 'sudo apt autoremove' to remove it.\n",
            "The following additional packages will be installed:\n",
            "  python-pip-whl python3-asn1crypto python3-cffi-backend python3-crypto\n",
            "  python3-cryptography python3-idna python3-keyring python3-keyrings.alt\n",
            "  python3-secretstorage python3-setuptools python3-wheel python3-xdg\n",
            "Suggested packages:\n",
            "  python-crypto-doc python-cryptography-doc python3-cryptography-vectors\n",
            "  gnome-keyring libkf5wallet-bin gir1.2-gnomekeyring-1.0\n",
            "  python-secretstorage-doc python-setuptools-doc\n",
            "The following NEW packages will be installed:\n",
            "  python-pip-whl python3-asn1crypto python3-cffi-backend python3-crypto\n",
            "  python3-cryptography python3-idna python3-keyring python3-keyrings.alt\n",
            "  python3-pip python3-secretstorage python3-setuptools python3-wheel\n",
            "  python3-xdg\n",
            "0 upgraded, 13 newly installed, 0 to remove and 22 not upgraded.\n",
            "Need to get 2,772 kB of archives.\n",
            "After this operation, 8,302 kB of additional disk space will be used.\n",
            "Get:1 http://archive.ubuntu.com/ubuntu bionic-updates/universe amd64 python-pip-whl all 9.0.1-2.3~ubuntu1.18.04.5 [1,653 kB]\n",
            "Get:2 http://archive.ubuntu.com/ubuntu bionic/main amd64 python3-asn1crypto all 0.24.0-1 [72.8 kB]\n",
            "Get:3 http://archive.ubuntu.com/ubuntu bionic/main amd64 python3-cffi-backend amd64 1.11.5-1 [64.6 kB]\n",
            "Get:4 http://archive.ubuntu.com/ubuntu bionic/main amd64 python3-crypto amd64 2.6.1-8ubuntu2 [244 kB]\n",
            "Get:5 http://archive.ubuntu.com/ubuntu bionic/main amd64 python3-idna all 2.6-1 [32.5 kB]\n",
            "Get:6 http://archive.ubuntu.com/ubuntu bionic-updates/main amd64 python3-cryptography amd64 2.1.4-1ubuntu1.4 [220 kB]\n",
            "Get:7 http://archive.ubuntu.com/ubuntu bionic/main amd64 python3-secretstorage all 2.3.1-2 [12.1 kB]\n",
            "Get:8 http://archive.ubuntu.com/ubuntu bionic/main amd64 python3-keyring all 10.6.0-1 [26.7 kB]\n",
            "Get:9 http://archive.ubuntu.com/ubuntu bionic/main amd64 python3-keyrings.alt all 3.0-1 [16.6 kB]\n",
            "Get:10 http://archive.ubuntu.com/ubuntu bionic-updates/universe amd64 python3-pip all 9.0.1-2.3~ubuntu1.18.04.5 [114 kB]\n",
            "Get:11 http://archive.ubuntu.com/ubuntu bionic/main amd64 python3-setuptools all 39.0.1-2 [248 kB]\n",
            "Get:12 http://archive.ubuntu.com/ubuntu bionic/universe amd64 python3-wheel all 0.30.0-0.2 [36.5 kB]\n",
            "Get:13 http://archive.ubuntu.com/ubuntu bionic-updates/main amd64 python3-xdg all 0.25-4ubuntu1.1 [31.3 kB]\n",
            "Fetched 2,772 kB in 1s (3,169 kB/s)\n",
            "debconf: unable to initialize frontend: Dialog\n",
            "debconf: (No usable dialog-like program is installed, so the dialog based frontend cannot be used. at /usr/share/perl5/Debconf/FrontEnd/Dialog.pm line 76, <> line 13.)\n",
            "debconf: falling back to frontend: Readline\n",
            "debconf: unable to initialize frontend: Readline\n",
            "debconf: (This frontend requires a controlling tty.)\n",
            "debconf: falling back to frontend: Teletype\n",
            "dpkg-preconfigure: unable to re-open stdin: \n",
            "Selecting previously unselected package python-pip-whl.\n",
            "(Reading database ... 125487 files and directories currently installed.)\n",
            "Preparing to unpack .../00-python-pip-whl_9.0.1-2.3~ubuntu1.18.04.5_all.deb ...\n",
            "Unpacking python-pip-whl (9.0.1-2.3~ubuntu1.18.04.5) ...\n",
            "Selecting previously unselected package python3-asn1crypto.\n",
            "Preparing to unpack .../01-python3-asn1crypto_0.24.0-1_all.deb ...\n",
            "Unpacking python3-asn1crypto (0.24.0-1) ...\n",
            "Selecting previously unselected package python3-cffi-backend.\n",
            "Preparing to unpack .../02-python3-cffi-backend_1.11.5-1_amd64.deb ...\n",
            "Unpacking python3-cffi-backend (1.11.5-1) ...\n",
            "Selecting previously unselected package python3-crypto.\n",
            "Preparing to unpack .../03-python3-crypto_2.6.1-8ubuntu2_amd64.deb ...\n",
            "Unpacking python3-crypto (2.6.1-8ubuntu2) ...\n",
            "Selecting previously unselected package python3-idna.\n",
            "Preparing to unpack .../04-python3-idna_2.6-1_all.deb ...\n",
            "Unpacking python3-idna (2.6-1) ...\n",
            "Selecting previously unselected package python3-cryptography.\n",
            "Preparing to unpack .../05-python3-cryptography_2.1.4-1ubuntu1.4_amd64.deb ...\n",
            "Unpacking python3-cryptography (2.1.4-1ubuntu1.4) ...\n",
            "Selecting previously unselected package python3-secretstorage.\n",
            "Preparing to unpack .../06-python3-secretstorage_2.3.1-2_all.deb ...\n",
            "Unpacking python3-secretstorage (2.3.1-2) ...\n",
            "Selecting previously unselected package python3-keyring.\n",
            "Preparing to unpack .../07-python3-keyring_10.6.0-1_all.deb ...\n",
            "Unpacking python3-keyring (10.6.0-1) ...\n",
            "Selecting previously unselected package python3-keyrings.alt.\n",
            "Preparing to unpack .../08-python3-keyrings.alt_3.0-1_all.deb ...\n",
            "Unpacking python3-keyrings.alt (3.0-1) ...\n",
            "Selecting previously unselected package python3-pip.\n",
            "Preparing to unpack .../09-python3-pip_9.0.1-2.3~ubuntu1.18.04.5_all.deb ...\n",
            "Unpacking python3-pip (9.0.1-2.3~ubuntu1.18.04.5) ...\n",
            "Selecting previously unselected package python3-setuptools.\n",
            "Preparing to unpack .../10-python3-setuptools_39.0.1-2_all.deb ...\n",
            "Unpacking python3-setuptools (39.0.1-2) ...\n",
            "Selecting previously unselected package python3-wheel.\n",
            "Preparing to unpack .../11-python3-wheel_0.30.0-0.2_all.deb ...\n",
            "Unpacking python3-wheel (0.30.0-0.2) ...\n",
            "Selecting previously unselected package python3-xdg.\n",
            "Preparing to unpack .../12-python3-xdg_0.25-4ubuntu1.1_all.deb ...\n",
            "Unpacking python3-xdg (0.25-4ubuntu1.1) ...\n",
            "Setting up python-pip-whl (9.0.1-2.3~ubuntu1.18.04.5) ...\n",
            "Setting up python3-cffi-backend (1.11.5-1) ...\n",
            "Setting up python3-crypto (2.6.1-8ubuntu2) ...\n",
            "/usr/lib/python3.9/subprocess.py:935: RuntimeWarning: line buffering (buffering=1) isn't supported in binary mode, the default buffer size will be used\n",
            "  self.stdin = io.open(p2cwrite, 'wb', bufsize)\n",
            "Setting up python3-idna (2.6-1) ...\n",
            "/usr/lib/python3.9/subprocess.py:935: RuntimeWarning: line buffering (buffering=1) isn't supported in binary mode, the default buffer size will be used\n",
            "  self.stdin = io.open(p2cwrite, 'wb', bufsize)\n",
            "Setting up python3-xdg (0.25-4ubuntu1.1) ...\n",
            "/usr/lib/python3.9/subprocess.py:935: RuntimeWarning: line buffering (buffering=1) isn't supported in binary mode, the default buffer size will be used\n",
            "  self.stdin = io.open(p2cwrite, 'wb', bufsize)\n",
            "Setting up python3-keyrings.alt (3.0-1) ...\n",
            "/usr/lib/python3.9/subprocess.py:935: RuntimeWarning: line buffering (buffering=1) isn't supported in binary mode, the default buffer size will be used\n",
            "  self.stdin = io.open(p2cwrite, 'wb', bufsize)\n",
            "Setting up python3-wheel (0.30.0-0.2) ...\n",
            "/usr/lib/python3.9/subprocess.py:935: RuntimeWarning: line buffering (buffering=1) isn't supported in binary mode, the default buffer size will be used\n",
            "  self.stdin = io.open(p2cwrite, 'wb', bufsize)\n",
            "Setting up python3-asn1crypto (0.24.0-1) ...\n",
            "/usr/lib/python3.9/subprocess.py:935: RuntimeWarning: line buffering (buffering=1) isn't supported in binary mode, the default buffer size will be used\n",
            "  self.stdin = io.open(p2cwrite, 'wb', bufsize)\n",
            "Setting up python3-pip (9.0.1-2.3~ubuntu1.18.04.5) ...\n",
            "/usr/lib/python3.9/subprocess.py:935: RuntimeWarning: line buffering (buffering=1) isn't supported in binary mode, the default buffer size will be used\n",
            "  self.stdin = io.open(p2cwrite, 'wb', bufsize)\n",
            "Setting up python3-setuptools (39.0.1-2) ...\n",
            "/usr/lib/python3.9/subprocess.py:935: RuntimeWarning: line buffering (buffering=1) isn't supported in binary mode, the default buffer size will be used\n",
            "  self.stdin = io.open(p2cwrite, 'wb', bufsize)\n",
            "Setting up python3-cryptography (2.1.4-1ubuntu1.4) ...\n",
            "/usr/lib/python3.9/subprocess.py:935: RuntimeWarning: line buffering (buffering=1) isn't supported in binary mode, the default buffer size will be used\n",
            "  self.stdin = io.open(p2cwrite, 'wb', bufsize)\n",
            "Setting up python3-secretstorage (2.3.1-2) ...\n",
            "/usr/lib/python3.9/subprocess.py:935: RuntimeWarning: line buffering (buffering=1) isn't supported in binary mode, the default buffer size will be used\n",
            "  self.stdin = io.open(p2cwrite, 'wb', bufsize)\n",
            "Setting up python3-keyring (10.6.0-1) ...\n",
            "/usr/lib/python3.9/subprocess.py:935: RuntimeWarning: line buffering (buffering=1) isn't supported in binary mode, the default buffer size will be used\n",
            "  self.stdin = io.open(p2cwrite, 'wb', bufsize)\n",
            "Processing triggers for man-db (2.8.3-2ubuntu0.1) ...\n",
            "Collecting pip\n",
            "  Downloading https://files.pythonhosted.org/packages/47/ef/8b5470b5b94b36231ed9c0bde90caa71c0d4322d4a15f009b2b7f4287fe0/pip-22.3-py3-none-any.whl (2.1MB)\n",
            "\u001b[K    100% |████████████████████████████████| 2.1MB 740kB/s \n",
            "\u001b[?25hInstalling collected packages: pip\n",
            "  Found existing installation: pip 9.0.1\n",
            "    Not uninstalling pip at /usr/lib/python3/dist-packages, outside environment /usr\n",
            "Successfully installed pip-22.3\n"
          ]
        }
      ]
    },
    {
      "cell_type": "code",
      "source": [
        "!pip install virtualenv"
      ],
      "metadata": {
        "id": "7mceE_iyzBUl"
      },
      "execution_count": null,
      "outputs": []
    },
    {
      "cell_type": "code",
      "source": [
        "!virtualenv classifier"
      ],
      "metadata": {
        "colab": {
          "base_uri": "https://localhost:8080/"
        },
        "id": "FH876YW4zDoR",
        "outputId": "f1fd3878-bace-4a6a-a116-b078145de0cd"
      },
      "execution_count": 5,
      "outputs": [
        {
          "output_type": "stream",
          "name": "stdout",
          "text": [
            "created virtual environment CPython3.9.15.final.0-64 in 1002ms\n",
            "  creator CPython3Posix(dest=/content/classifier, clear=False, no_vcs_ignore=False, global=False)\n",
            "  seeder FromAppData(download=False, pip=bundle, setuptools=bundle, wheel=bundle, via=copy, app_data_dir=/root/.local/share/virtualenv)\n",
            "    added seed packages: pip==22.2.2, setuptools==65.3.0, wheel==0.37.1\n",
            "  activators BashActivator,CShellActivator,FishActivator,NushellActivator,PowerShellActivator,PythonActivator\n"
          ]
        }
      ]
    },
    {
      "cell_type": "code",
      "source": [
        "!source classifier/bin/activate"
      ],
      "metadata": {
        "id": "S3FWVSafzGb0"
      },
      "execution_count": 8,
      "outputs": []
    },
    {
      "cell_type": "code",
      "source": [
        "!virtualenv"
      ],
      "metadata": {
        "colab": {
          "base_uri": "https://localhost:8080/"
        },
        "id": "NlrDapgrzv_l",
        "outputId": "361b04e2-5306-4d4a-faf6-52ba09f25233"
      },
      "execution_count": 13,
      "outputs": [
        {
          "output_type": "stream",
          "name": "stdout",
          "text": [
            "/bin/bash: virt: command not found\n"
          ]
        }
      ]
    },
    {
      "cell_type": "code",
      "source": [
        "!pip install --ignore-installed ipykernel "
      ],
      "metadata": {
        "colab": {
          "base_uri": "https://localhost:8080/",
          "height": 1000
        },
        "id": "qIf14IkxyIFF",
        "outputId": "d45ac525-e1b3-4d52-92f7-0bb8d4660b88"
      },
      "execution_count": 16,
      "outputs": [
        {
          "output_type": "stream",
          "name": "stdout",
          "text": [
            "Looking in indexes: https://pypi.org/simple, https://us-python.pkg.dev/colab-wheels/public/simple/\n",
            "Collecting ipykernel\n",
            "  Using cached ipykernel-6.16.0-py3-none-any.whl (138 kB)\n",
            "Collecting traitlets>=5.1.0\n",
            "  Using cached traitlets-5.5.0-py3-none-any.whl (107 kB)\n",
            "Collecting psutil\n",
            "  Using cached psutil-5.9.2-cp39-cp39-manylinux_2_12_x86_64.manylinux2010_x86_64.manylinux_2_17_x86_64.manylinux2014_x86_64.whl (281 kB)\n",
            "Collecting matplotlib-inline>=0.1\n",
            "  Using cached matplotlib_inline-0.1.6-py3-none-any.whl (9.4 kB)\n",
            "Collecting jupyter-client>=6.1.12\n",
            "  Using cached jupyter_client-7.4.2-py3-none-any.whl (132 kB)\n",
            "Collecting tornado>=6.1\n",
            "  Using cached tornado-6.2-cp37-abi3-manylinux_2_5_x86_64.manylinux1_x86_64.manylinux_2_17_x86_64.manylinux2014_x86_64.whl (423 kB)\n",
            "Collecting pyzmq>=17\n",
            "  Using cached pyzmq-24.0.1-cp39-cp39-manylinux_2_12_x86_64.manylinux2010_x86_64.whl (1.1 MB)\n",
            "Collecting packaging\n",
            "  Using cached packaging-21.3-py3-none-any.whl (40 kB)\n",
            "Collecting ipython>=7.23.1\n",
            "  Using cached ipython-8.5.0-py3-none-any.whl (752 kB)\n",
            "Collecting debugpy>=1.0\n",
            "  Using cached debugpy-1.6.3-cp39-cp39-manylinux_2_5_x86_64.manylinux1_x86_64.manylinux_2_12_x86_64.manylinux2010_x86_64.whl (1.8 MB)\n",
            "Collecting nest-asyncio\n",
            "  Using cached nest_asyncio-1.5.6-py3-none-any.whl (5.2 kB)\n",
            "Collecting pexpect>4.3\n",
            "  Using cached pexpect-4.8.0-py2.py3-none-any.whl (59 kB)\n",
            "Collecting stack-data\n",
            "  Using cached stack_data-0.5.1-py3-none-any.whl (24 kB)\n",
            "Collecting pickleshare\n",
            "  Downloading pickleshare-0.7.5-py2.py3-none-any.whl (6.9 kB)\n",
            "Collecting prompt-toolkit<3.1.0,>3.0.1\n",
            "  Using cached prompt_toolkit-3.0.31-py3-none-any.whl (382 kB)\n",
            "Collecting pygments>=2.4.0\n",
            "  Using cached Pygments-2.13.0-py3-none-any.whl (1.1 MB)\n",
            "Collecting decorator\n",
            "  Downloading decorator-5.1.1-py3-none-any.whl (9.1 kB)\n",
            "Collecting jedi>=0.16\n",
            "  Using cached jedi-0.18.1-py2.py3-none-any.whl (1.6 MB)\n",
            "Collecting backcall\n",
            "  Using cached backcall-0.2.0-py2.py3-none-any.whl (11 kB)\n",
            "Collecting entrypoints\n",
            "  Using cached entrypoints-0.4-py3-none-any.whl (5.3 kB)\n",
            "Collecting jupyter-core>=4.9.2\n",
            "  Using cached jupyter_core-4.11.1-py3-none-any.whl (88 kB)\n",
            "Collecting python-dateutil>=2.8.2\n",
            "  Using cached python_dateutil-2.8.2-py2.py3-none-any.whl (247 kB)\n",
            "Collecting pyparsing!=3.0.5,>=2.0.2\n",
            "  Using cached pyparsing-3.0.9-py3-none-any.whl (98 kB)\n",
            "Collecting parso<0.9.0,>=0.8.0\n",
            "  Using cached parso-0.8.3-py2.py3-none-any.whl (100 kB)\n",
            "Collecting ptyprocess>=0.5\n",
            "  Using cached ptyprocess-0.7.0-py2.py3-none-any.whl (13 kB)\n",
            "Collecting wcwidth\n",
            "  Downloading wcwidth-0.2.5-py2.py3-none-any.whl (30 kB)\n",
            "Collecting six>=1.5\n",
            "  Downloading six-1.16.0-py2.py3-none-any.whl (11 kB)\n",
            "Collecting executing\n",
            "  Using cached executing-1.1.1-py2.py3-none-any.whl (22 kB)\n",
            "Collecting asttokens\n",
            "  Using cached asttokens-2.0.8-py2.py3-none-any.whl (23 kB)\n",
            "Collecting pure-eval\n",
            "  Using cached pure_eval-0.2.2-py3-none-any.whl (11 kB)\n",
            "Installing collected packages: wcwidth, pure-eval, ptyprocess, pickleshare, executing, backcall, traitlets, tornado, six, pyzmq, pyparsing, pygments, psutil, prompt-toolkit, pexpect, parso, nest-asyncio, entrypoints, decorator, debugpy, python-dateutil, packaging, matplotlib-inline, jupyter-core, jedi, asttokens, stack-data, jupyter-client, ipython, ipykernel\n",
            "Successfully installed asttokens-2.0.8 backcall-0.2.0 debugpy-1.6.3 decorator-5.1.1 entrypoints-0.4 executing-1.1.1 ipykernel-6.16.0 ipython-8.5.0 jedi-0.18.1 jupyter-client-7.4.2 jupyter-core-4.11.1 matplotlib-inline-0.1.6 nest-asyncio-1.5.6 packaging-21.3 parso-0.8.3 pexpect-4.8.0 pickleshare-0.7.5 prompt-toolkit-3.0.31 psutil-5.9.2 ptyprocess-0.7.0 pure-eval-0.2.2 pygments-2.13.0 pyparsing-3.0.9 python-dateutil-2.8.2 pyzmq-24.0.1 six-1.16.0 stack-data-0.5.1 tornado-6.2 traitlets-5.5.0 wcwidth-0.2.5\n",
            "\u001b[33mWARNING: Running pip as the 'root' user can result in broken permissions and conflicting behaviour with the system package manager. It is recommended to use a virtual environment instead: https://pip.pypa.io/warnings/venv\u001b[0m\u001b[33m\n",
            "\u001b[0m"
          ]
        },
        {
          "output_type": "display_data",
          "data": {
            "application/vnd.colab-display-data+json": {
              "pip_warning": {
                "packages": [
                  "dateutil",
                  "pexpect",
                  "pickleshare",
                  "wcwidth"
                ]
              }
            }
          },
          "metadata": {}
        }
      ]
    },
    {
      "cell_type": "code",
      "source": [
        "!pip install --upgrade setuptools"
      ],
      "metadata": {
        "id": "v38UkG8UrrN5"
      },
      "execution_count": null,
      "outputs": []
    },
    {
      "cell_type": "code",
      "source": [
        "!pip install Cmake"
      ],
      "metadata": {
        "id": "UxN7h4fKsF00"
      },
      "execution_count": null,
      "outputs": []
    },
    {
      "cell_type": "code",
      "source": [
        "!pip install --upgrade wheel"
      ],
      "metadata": {
        "id": "mJWPq4D9s4O7"
      },
      "execution_count": null,
      "outputs": []
    },
    {
      "cell_type": "code",
      "source": [
        "!python --version"
      ],
      "metadata": {
        "colab": {
          "base_uri": "https://localhost:8080/"
        },
        "id": "mhiD617fnYMt",
        "outputId": "3fc41f34-3202-48af-efdb-91945a20b89d"
      },
      "execution_count": 7,
      "outputs": [
        {
          "output_type": "stream",
          "name": "stdout",
          "text": [
            "Python 3.9.15\n"
          ]
        }
      ]
    },
    {
      "cell_type": "markdown",
      "source": [
        "## Clone repository"
      ],
      "metadata": {
        "id": "3LeuhU8ME_EN"
      }
    },
    {
      "cell_type": "code",
      "source": [
        "!git clone https://github.com/ncn-foreigners/job-ads-classifier.git"
      ],
      "metadata": {
        "colab": {
          "base_uri": "https://localhost:8080/"
        },
        "id": "BjpOXhLFFAd9",
        "outputId": "703bfc22-c0e0-42c7-a44c-6c45e6a018f4"
      },
      "execution_count": 8,
      "outputs": [
        {
          "output_type": "stream",
          "name": "stdout",
          "text": [
            "Cloning into 'job-ads-classifier'...\n",
            "remote: Enumerating objects: 86, done.\u001b[K\n",
            "remote: Counting objects: 100% (86/86), done.\u001b[K\n",
            "remote: Compressing objects: 100% (75/75), done.\u001b[K\n",
            "remote: Total 86 (delta 22), reused 42 (delta 4), pack-reused 0\u001b[K\n",
            "Unpacking objects: 100% (86/86), done.\n"
          ]
        }
      ]
    },
    {
      "cell_type": "markdown",
      "source": [
        "## Colab settings\n"
      ],
      "metadata": {
        "id": "42bxQM1M0w7l"
      }
    },
    {
      "cell_type": "code",
      "source": [
        "from google.colab.data_table import DataTable\n",
        "DataTable.max_columns = 60"
      ],
      "metadata": {
        "id": "OI8qKUGu0yzC"
      },
      "execution_count": 9,
      "outputs": []
    },
    {
      "cell_type": "markdown",
      "source": [
        "## Set up environment"
      ],
      "metadata": {
        "id": "Tc0JIRttvzog"
      }
    },
    {
      "cell_type": "markdown",
      "source": [
        "Install required modules"
      ],
      "metadata": {
        "id": "HzPr_gt3v4xI"
      }
    },
    {
      "cell_type": "code",
      "source": [],
      "metadata": {
        "id": "2E5eHhpap_P-"
      },
      "execution_count": null,
      "outputs": []
    },
    {
      "cell_type": "code",
      "source": [],
      "metadata": {
        "colab": {
          "base_uri": "https://localhost:8080/"
        },
        "id": "sBAUUO0dp_8e",
        "outputId": "1bd96375-af5d-4537-e04b-ed92ef0bb9b8"
      },
      "execution_count": 11,
      "outputs": [
        {
          "output_type": "stream",
          "name": "stdout",
          "text": [
            "created virtual environment CPython3.9.15.final.0-64 in 780ms\n",
            "  creator CPython3Posix(dest=/content/classifier, clear=False, no_vcs_ignore=False, global=False)\n",
            "  seeder FromAppData(download=False, pip=bundle, setuptools=bundle, wheel=bundle, via=copy, app_data_dir=/root/.local/share/virtualenv)\n",
            "    added seed packages: pip==22.2.2, setuptools==65.3.0, wheel==0.37.1\n",
            "  activators BashActivator,CShellActivator,FishActivator,NushellActivator,PowerShellActivator,PythonActivator\n"
          ]
        }
      ]
    },
    {
      "cell_type": "code",
      "source": [],
      "metadata": {
        "id": "OVZmbIUdJHdq"
      },
      "execution_count": 12,
      "outputs": []
    },
    {
      "cell_type": "markdown",
      "source": [
        "Upgrade pip"
      ],
      "metadata": {
        "id": "HgUtlvAAoQ8N"
      }
    },
    {
      "cell_type": "markdown",
      "source": [
        "Install required packages"
      ],
      "metadata": {
        "id": "dAvXnUqOowuo"
      }
    },
    {
      "cell_type": "code",
      "source": [
        "!pip install -r ./job-ads-classifier/requirements.txt"
      ],
      "metadata": {
        "colab": {
          "base_uri": "https://localhost:8080/",
          "height": 1000
        },
        "id": "-GU78XJUokwh",
        "outputId": "2c48fa6e-1bd6-48f0-aa3a-7b3ff0706bea"
      },
      "execution_count": 15,
      "outputs": [
        {
          "output_type": "stream",
          "name": "stdout",
          "text": [
            "Looking in indexes: https://pypi.org/simple, https://us-python.pkg.dev/colab-wheels/public/simple/\n",
            "Collecting lxml\n",
            "  Using cached lxml-4.9.1-cp39-cp39-manylinux_2_17_x86_64.manylinux2014_x86_64.manylinux_2_24_x86_64.whl (7.0 MB)\n",
            "Collecting huggingface-hub==0.4.0\n",
            "  Using cached huggingface_hub-0.4.0-py3-none-any.whl (67 kB)\n",
            "Collecting jsbeautifier==1.14.0\n",
            "  Using cached jsbeautifier-1.14.0-py3-none-any.whl\n",
            "Collecting napkinxc==0.6.0\n",
            "  Using cached napkinxc-0.6.0-cp39-cp39-manylinux_2_17_x86_64.manylinux2014_x86_64.whl (539 kB)\n",
            "Collecting nltk==3.5\n",
            "  Using cached nltk-3.5-py3-none-any.whl\n",
            "Collecting numpy>=1.17.3\n",
            "  Using cached numpy-1.23.4-cp39-cp39-manylinux_2_17_x86_64.manylinux2014_x86_64.whl (17.1 MB)\n",
            "Collecting pandas==1.3.4\n",
            "  Using cached pandas-1.3.4-cp39-cp39-manylinux_2_17_x86_64.manylinux2014_x86_64.whl (11.5 MB)\n",
            "Collecting pyreadr==0.4.4\n",
            "  Using cached pyreadr-0.4.4-cp39-cp39-manylinux_2_17_x86_64.manylinux2014_x86_64.whl (363 kB)\n",
            "Collecting pystempel==1.2.0\n",
            "  Using cached pystempel-1.2.0-py3-none-any.whl (2.7 MB)\n",
            "Collecting pytorch-lightning==1.5.2\n",
            "  Using cached pytorch_lightning-1.5.2-py3-none-any.whl (1.0 MB)\n",
            "Requirement already satisfied: regex==2022.9.13 in /usr/local/lib/python3.9/dist-packages (from -r ./job-ads-classifier/requirements.txt (line 11)) (2022.9.13)\n",
            "Collecting scikit-learn==1.1.2\n",
            "  Using cached scikit_learn-1.1.2-cp39-cp39-manylinux_2_17_x86_64.manylinux2014_x86_64.whl (30.8 MB)\n",
            "Requirement already satisfied: stop-words==2018.7.23 in /usr/local/lib/python3.9/dist-packages (from -r ./job-ads-classifier/requirements.txt (line 13)) (2018.7.23)\n",
            "Collecting tensorboard==2.3.0\n",
            "  Using cached tensorboard-2.3.0-py3-none-any.whl (6.8 MB)\n",
            "Collecting matplotlib==3.5.1\n",
            "  Using cached matplotlib-3.5.1-cp39-cp39-manylinux_2_5_x86_64.manylinux1_x86_64.whl (11.2 MB)\n",
            "Requirement already satisfied: tokenizers==0.10.3 in /usr/local/lib/python3.9/dist-packages (from -r ./job-ads-classifier/requirements.txt (line 16)) (0.10.3)\n",
            "Collecting torch==1.12.1\n",
            "  Using cached torch-1.12.1-cp39-cp39-manylinux1_x86_64.whl (776.4 MB)\n",
            "Collecting torchmetrics==0.6.0\n",
            "  Using cached torchmetrics-0.6.0-py3-none-any.whl (329 kB)\n",
            "Collecting transformers==4.15.0\n",
            "  Using cached transformers-4.15.0-py3-none-any.whl (3.4 MB)\n",
            "Collecting tqdm==4.46.0\n",
            "  Using cached tqdm-4.46.0-py2.py3-none-any.whl (63 kB)\n",
            "Collecting xlrd==1.2.0\n",
            "  Using cached xlrd-1.2.0-py2.py3-none-any.whl (103 kB)\n",
            "Collecting requests\n",
            "  Using cached requests-2.28.1-py3-none-any.whl (62 kB)\n",
            "Requirement already satisfied: filelock in /usr/local/lib/python3.9/dist-packages (from huggingface-hub==0.4.0->-r ./job-ads-classifier/requirements.txt (line 2)) (3.8.0)\n",
            "Collecting pyyaml\n",
            "  Using cached PyYAML-6.0-cp39-cp39-manylinux_2_5_x86_64.manylinux1_x86_64.manylinux_2_12_x86_64.manylinux2010_x86_64.whl (661 kB)\n",
            "Collecting typing-extensions>=3.7.4.3\n",
            "  Using cached typing_extensions-4.4.0-py3-none-any.whl (26 kB)\n",
            "Collecting packaging>=20.9\n",
            "  Using cached packaging-21.3-py3-none-any.whl (40 kB)\n",
            "Collecting editorconfig>=0.12.2\n",
            "  Using cached EditorConfig-0.12.3-py3-none-any.whl (16 kB)\n",
            "Collecting six>=1.13.0\n",
            "  Using cached six-1.16.0-py2.py3-none-any.whl (11 kB)\n",
            "Collecting scipy\n",
            "  Using cached scipy-1.9.2-cp39-cp39-manylinux_2_17_x86_64.manylinux2014_x86_64.whl (33.8 MB)\n",
            "Collecting gdown\n",
            "  Using cached gdown-4.5.3-py3-none-any.whl\n",
            "Collecting joblib\n",
            "  Using cached joblib-1.2.0-py3-none-any.whl (297 kB)\n",
            "Collecting click\n",
            "  Using cached click-8.1.3-py3-none-any.whl (96 kB)\n",
            "Collecting python-dateutil>=2.7.3\n",
            "  Using cached python_dateutil-2.8.2-py2.py3-none-any.whl (247 kB)\n",
            "Collecting pytz>=2017.3\n",
            "  Using cached pytz-2022.5-py2.py3-none-any.whl (500 kB)\n",
            "Requirement already satisfied: sortedcontainers in /usr/local/lib/python3.9/dist-packages (from pystempel==1.2.0->-r ./job-ads-classifier/requirements.txt (line 9)) (2.4.0)\n",
            "Collecting fsspec[http]!=2021.06.0,>=2021.05.0\n",
            "  Using cached fsspec-2022.8.2-py3-none-any.whl (140 kB)\n",
            "Collecting future>=0.17.1\n",
            "  Using cached future-0.18.2-py3-none-any.whl\n",
            "Collecting pyDeprecate==0.3.1\n",
            "  Using cached pyDeprecate-0.3.1-py3-none-any.whl (10 kB)\n",
            "Collecting threadpoolctl>=2.0.0\n",
            "  Using cached threadpoolctl-3.1.0-py3-none-any.whl (14 kB)\n",
            "Collecting werkzeug>=0.11.15\n",
            "  Using cached Werkzeug-2.2.2-py3-none-any.whl (232 kB)\n",
            "Collecting absl-py>=0.4\n",
            "  Using cached absl_py-1.3.0-py3-none-any.whl (124 kB)\n",
            "Collecting google-auth<2,>=1.6.3\n",
            "  Using cached google_auth-1.35.0-py2.py3-none-any.whl (152 kB)\n",
            "Collecting grpcio>=1.24.3\n",
            "  Using cached grpcio-1.49.1-cp39-cp39-manylinux_2_17_x86_64.manylinux2014_x86_64.whl (4.7 MB)\n",
            "Collecting markdown>=2.6.8\n",
            "  Using cached Markdown-3.4.1-py3-none-any.whl (93 kB)\n",
            "Requirement already satisfied: wheel>=0.26 in /usr/local/lib/python3.9/dist-packages (from tensorboard==2.3.0->-r ./job-ads-classifier/requirements.txt (line 14)) (0.37.1)\n",
            "Collecting protobuf>=3.6.0\n",
            "  Using cached protobuf-4.21.7-cp37-abi3-manylinux2014_x86_64.whl (408 kB)\n",
            "Requirement already satisfied: setuptools>=41.0.0 in /usr/local/lib/python3.9/dist-packages (from tensorboard==2.3.0->-r ./job-ads-classifier/requirements.txt (line 14)) (65.5.0)\n",
            "Requirement already satisfied: tensorboard-plugin-wit>=1.6.0 in /usr/local/lib/python3.9/dist-packages (from tensorboard==2.3.0->-r ./job-ads-classifier/requirements.txt (line 14)) (1.8.1)\n",
            "Collecting google-auth-oauthlib<0.5,>=0.4.1\n",
            "  Using cached google_auth_oauthlib-0.4.6-py2.py3-none-any.whl (18 kB)\n",
            "Collecting kiwisolver>=1.0.1\n",
            "  Using cached kiwisolver-1.4.4-cp39-cp39-manylinux_2_12_x86_64.manylinux2010_x86_64.whl (1.6 MB)\n",
            "Collecting pillow>=6.2.0\n",
            "  Using cached Pillow-9.2.0-cp39-cp39-manylinux_2_17_x86_64.manylinux2014_x86_64.whl (3.1 MB)\n",
            "Collecting pyparsing>=2.2.1\n",
            "  Using cached pyparsing-3.0.9-py3-none-any.whl (98 kB)\n",
            "Collecting fonttools>=4.22.0\n",
            "  Using cached fonttools-4.37.4-py3-none-any.whl (960 kB)\n",
            "Collecting cycler>=0.10\n",
            "  Using cached cycler-0.11.0-py3-none-any.whl (6.4 kB)\n",
            "Collecting sacremoses\n",
            "  Using cached sacremoses-0.0.53-py3-none-any.whl\n",
            "Collecting aiohttp!=4.0.0a0,!=4.0.0a1\n",
            "  Using cached aiohttp-3.8.3-cp39-cp39-manylinux_2_17_x86_64.manylinux2014_x86_64.whl (1.0 MB)\n",
            "Collecting rsa<5,>=3.1.4\n",
            "  Using cached rsa-4.9-py3-none-any.whl (34 kB)\n",
            "Collecting pyasn1-modules>=0.2.1\n",
            "  Using cached pyasn1_modules-0.2.8-py2.py3-none-any.whl (155 kB)\n",
            "Collecting cachetools<5.0,>=2.0.0\n",
            "  Using cached cachetools-4.2.4-py3-none-any.whl (10 kB)\n",
            "Collecting requests-oauthlib>=0.7.0\n",
            "  Using cached requests_oauthlib-1.3.1-py2.py3-none-any.whl (23 kB)\n",
            "Collecting importlib-metadata>=4.4\n",
            "  Using cached importlib_metadata-5.0.0-py3-none-any.whl (21 kB)\n",
            "Requirement already satisfied: idna<4,>=2.5 in /usr/lib/python3/dist-packages (from requests->huggingface-hub==0.4.0->-r ./job-ads-classifier/requirements.txt (line 2)) (2.6)\n",
            "Collecting certifi>=2017.4.17\n",
            "  Using cached certifi-2022.9.24-py3-none-any.whl (161 kB)\n",
            "Collecting charset-normalizer<3,>=2\n",
            "  Using cached charset_normalizer-2.1.1-py3-none-any.whl (39 kB)\n",
            "Collecting urllib3<1.27,>=1.21.1\n",
            "  Using cached urllib3-1.26.12-py2.py3-none-any.whl (140 kB)\n",
            "Collecting MarkupSafe>=2.1.1\n",
            "  Using cached MarkupSafe-2.1.1-cp39-cp39-manylinux_2_17_x86_64.manylinux2014_x86_64.whl (25 kB)\n",
            "Collecting beautifulsoup4\n",
            "  Using cached beautifulsoup4-4.11.1-py3-none-any.whl (128 kB)\n",
            "Collecting frozenlist>=1.1.1\n",
            "  Using cached frozenlist-1.3.1-cp39-cp39-manylinux_2_5_x86_64.manylinux1_x86_64.manylinux_2_17_x86_64.manylinux2014_x86_64.whl (158 kB)\n",
            "Collecting async-timeout<5.0,>=4.0.0a3\n",
            "  Using cached async_timeout-4.0.2-py3-none-any.whl (5.8 kB)\n",
            "Collecting aiosignal>=1.1.2\n",
            "  Using cached aiosignal-1.2.0-py3-none-any.whl (8.2 kB)\n",
            "Collecting attrs>=17.3.0\n",
            "  Using cached attrs-22.1.0-py2.py3-none-any.whl (58 kB)\n",
            "Collecting yarl<2.0,>=1.0\n",
            "  Using cached yarl-1.8.1-cp39-cp39-manylinux_2_17_x86_64.manylinux2014_x86_64.whl (264 kB)\n",
            "Collecting multidict<7.0,>=4.5\n",
            "  Using cached multidict-6.0.2-cp39-cp39-manylinux_2_17_x86_64.manylinux2014_x86_64.whl (114 kB)\n",
            "Collecting zipp>=0.5\n",
            "  Using cached zipp-3.9.0-py3-none-any.whl (5.8 kB)\n",
            "Collecting pyasn1<0.5.0,>=0.4.6\n",
            "  Using cached pyasn1-0.4.8-py2.py3-none-any.whl (77 kB)\n",
            "Collecting oauthlib>=3.0.0\n",
            "  Using cached oauthlib-3.2.2-py3-none-any.whl (151 kB)\n",
            "Collecting soupsieve>1.2\n",
            "  Using cached soupsieve-2.3.2.post1-py3-none-any.whl (37 kB)\n",
            "Collecting PySocks!=1.5.7,>=1.5.6\n",
            "  Using cached PySocks-1.7.1-py3-none-any.whl (16 kB)\n",
            "Installing collected packages: pytz, pyasn1, editorconfig, zipp, xlrd, urllib3, typing-extensions, tqdm, threadpoolctl, soupsieve, six, rsa, pyyaml, PySocks, pyparsing, pyDeprecate, pyasn1-modules, protobuf, pillow, oauthlib, numpy, multidict, MarkupSafe, lxml, kiwisolver, joblib, future, fsspec, frozenlist, fonttools, cycler, click, charset-normalizer, certifi, cachetools, attrs, async-timeout, absl-py, yarl, werkzeug, torch, scipy, sacremoses, requests, python-dateutil, pystempel, packaging, nltk, jsbeautifier, importlib-metadata, grpcio, google-auth, beautifulsoup4, aiosignal, torchmetrics, scikit-learn, requests-oauthlib, pandas, matplotlib, markdown, huggingface-hub, aiohttp, transformers, pyreadr, google-auth-oauthlib, gdown, tensorboard, napkinxc, pytorch-lightning\n",
            "  Attempting uninstall: six\n",
            "    Found existing installation: six 1.11.0\n",
            "    Uninstalling six-1.11.0:\n",
            "      Successfully uninstalled six-1.11.0\n",
            "Successfully installed MarkupSafe-2.1.1 PySocks-1.7.1 absl-py-1.3.0 aiohttp-3.8.3 aiosignal-1.2.0 async-timeout-4.0.2 attrs-22.1.0 beautifulsoup4-4.11.1 cachetools-4.2.4 certifi-2022.9.24 charset-normalizer-2.1.1 click-8.1.3 cycler-0.11.0 editorconfig-0.12.3 fonttools-4.37.4 frozenlist-1.3.1 fsspec-2022.8.2 future-0.18.2 gdown-4.5.3 google-auth-1.35.0 google-auth-oauthlib-0.4.6 grpcio-1.49.1 huggingface-hub-0.4.0 importlib-metadata-5.0.0 joblib-1.2.0 jsbeautifier-1.14.0 kiwisolver-1.4.4 lxml-4.9.1 markdown-3.4.1 matplotlib-3.5.1 multidict-6.0.2 napkinxc-0.6.0 nltk-3.5 numpy-1.23.4 oauthlib-3.2.2 packaging-21.3 pandas-1.3.4 pillow-9.2.0 protobuf-4.21.7 pyDeprecate-0.3.1 pyasn1-0.4.8 pyasn1-modules-0.2.8 pyparsing-3.0.9 pyreadr-0.4.4 pystempel-1.2.0 python-dateutil-2.8.2 pytorch-lightning-1.5.2 pytz-2022.5 pyyaml-6.0 requests-2.28.1 requests-oauthlib-1.3.1 rsa-4.9 sacremoses-0.0.53 scikit-learn-1.1.2 scipy-1.9.2 six-1.16.0 soupsieve-2.3.2.post1 tensorboard-2.3.0 threadpoolctl-3.1.0 torch-1.12.1 torchmetrics-0.6.0 tqdm-4.46.0 transformers-4.15.0 typing-extensions-4.4.0 urllib3-1.26.12 werkzeug-2.2.2 xlrd-1.2.0 yarl-1.8.1 zipp-3.9.0\n",
            "\u001b[33mWARNING: Running pip as the 'root' user can result in broken permissions and conflicting behaviour with the system package manager. It is recommended to use a virtual environment instead: https://pip.pypa.io/warnings/venv\u001b[0m\u001b[33m\n",
            "\u001b[0m"
          ]
        },
        {
          "output_type": "display_data",
          "data": {
            "application/vnd.colab-display-data+json": {
              "pip_warning": {
                "packages": [
                  "certifi",
                  "cycler",
                  "dateutil",
                  "google",
                  "kiwisolver",
                  "socks"
                ]
              }
            }
          },
          "metadata": {}
        }
      ]
    },
    {
      "cell_type": "markdown",
      "source": [
        "## Working with trained models"
      ],
      "metadata": {
        "id": "fuxpaiMCv66r"
      }
    },
    {
      "cell_type": "markdown",
      "source": [
        "Load required modules"
      ],
      "metadata": {
        "id": "lBrdSIQ4wsRI"
      }
    },
    {
      "cell_type": "code",
      "source": [
        "import sys\n",
        "sys.path.insert(1, '/content/job-ads-classifier')"
      ],
      "metadata": {
        "id": "QhaM-XckGxzE"
      },
      "execution_count": 16,
      "outputs": []
    },
    {
      "cell_type": "code",
      "source": [
        "# Numpy, pandas i matplotlib jako pomocnicze biblioteki\n",
        "import numpy as np\n",
        "import pandas as pd\n",
        "import matplotlib.pyplot as plt\n",
        "from datetime import datetime\n",
        "from job_offers_classifier.load_save import load_to_df, save_obj, load_obj\n",
        "from job_offers_classifier.job_offers_utils import create_hierarchy, fix_class_str, remove_classes, filter_classes, remap_classes\n",
        "from job_offers_classifier.job_offers_classfier import *\n",
        "from sklearn.model_selection import train_test_split\n",
        "import torch\n",
        "from torchmetrics import MetricCollection, Recall, Accuracy, ConfusionMatrix"
      ],
      "metadata": {
        "colab": {
          "base_uri": "https://localhost:8080/",
          "height": 526
        },
        "id": "oB8NFIKswxje",
        "outputId": "5de11fbb-91de-40db-d2dc-29abbcfcff22"
      },
      "execution_count": 17,
      "outputs": [
        {
          "output_type": "error",
          "ename": "ModuleNotFoundError",
          "evalue": "ignored",
          "traceback": [
            "\u001b[0;31m---------------------------------------------------------------------------\u001b[0m",
            "\u001b[0;31mModuleNotFoundError\u001b[0m                       Traceback (most recent call last)",
            "\u001b[0;32m<ipython-input-17-b5945d8b6cba>\u001b[0m in \u001b[0;36m<module>\u001b[0;34m\u001b[0m\n\u001b[1;32m      4\u001b[0m \u001b[0;32mimport\u001b[0m \u001b[0mmatplotlib\u001b[0m\u001b[0;34m.\u001b[0m\u001b[0mpyplot\u001b[0m \u001b[0;32mas\u001b[0m \u001b[0mplt\u001b[0m\u001b[0;34m\u001b[0m\u001b[0;34m\u001b[0m\u001b[0m\n\u001b[1;32m      5\u001b[0m \u001b[0;32mfrom\u001b[0m \u001b[0mdatetime\u001b[0m \u001b[0;32mimport\u001b[0m \u001b[0mdatetime\u001b[0m\u001b[0;34m\u001b[0m\u001b[0;34m\u001b[0m\u001b[0m\n\u001b[0;32m----> 6\u001b[0;31m \u001b[0;32mfrom\u001b[0m \u001b[0mjob_offers_classifier\u001b[0m\u001b[0;34m.\u001b[0m\u001b[0mload_save\u001b[0m \u001b[0;32mimport\u001b[0m \u001b[0mload_to_df\u001b[0m\u001b[0;34m,\u001b[0m \u001b[0msave_obj\u001b[0m\u001b[0;34m,\u001b[0m \u001b[0mload_obj\u001b[0m\u001b[0;34m\u001b[0m\u001b[0;34m\u001b[0m\u001b[0m\n\u001b[0m\u001b[1;32m      7\u001b[0m \u001b[0;32mfrom\u001b[0m \u001b[0mjob_offers_classifier\u001b[0m\u001b[0;34m.\u001b[0m\u001b[0mjob_offers_utils\u001b[0m \u001b[0;32mimport\u001b[0m \u001b[0mcreate_hierarchy\u001b[0m\u001b[0;34m,\u001b[0m \u001b[0mfix_class_str\u001b[0m\u001b[0;34m,\u001b[0m \u001b[0mremove_classes\u001b[0m\u001b[0;34m,\u001b[0m \u001b[0mfilter_classes\u001b[0m\u001b[0;34m,\u001b[0m \u001b[0mremap_classes\u001b[0m\u001b[0;34m\u001b[0m\u001b[0;34m\u001b[0m\u001b[0m\n\u001b[1;32m      8\u001b[0m \u001b[0;32mfrom\u001b[0m \u001b[0mjob_offers_classifier\u001b[0m\u001b[0;34m.\u001b[0m\u001b[0mjob_offers_classfier\u001b[0m \u001b[0;32mimport\u001b[0m \u001b[0;34m*\u001b[0m\u001b[0;34m\u001b[0m\u001b[0;34m\u001b[0m\u001b[0m\n",
            "\u001b[0;32m/content/job-ads-classifier/job_offers_classifier/load_save.py\u001b[0m in \u001b[0;36m<module>\u001b[0;34m\u001b[0m\n\u001b[1;32m      3\u001b[0m \u001b[0;32mimport\u001b[0m \u001b[0mpickle\u001b[0m\u001b[0;34m\u001b[0m\u001b[0;34m\u001b[0m\u001b[0m\n\u001b[1;32m      4\u001b[0m \u001b[0;32mimport\u001b[0m \u001b[0mjson\u001b[0m\u001b[0;34m\u001b[0m\u001b[0;34m\u001b[0m\u001b[0m\n\u001b[0;32m----> 5\u001b[0;31m \u001b[0;32mimport\u001b[0m \u001b[0mjsbeautifier\u001b[0m\u001b[0;34m\u001b[0m\u001b[0;34m\u001b[0m\u001b[0m\n\u001b[0m\u001b[1;32m      6\u001b[0m \u001b[0;32mimport\u001b[0m \u001b[0mpickle\u001b[0m\u001b[0;34m\u001b[0m\u001b[0;34m\u001b[0m\u001b[0m\n\u001b[1;32m      7\u001b[0m \u001b[0;32mimport\u001b[0m \u001b[0mpyreadr\u001b[0m\u001b[0;34m\u001b[0m\u001b[0;34m\u001b[0m\u001b[0m\n",
            "\u001b[0;31mModuleNotFoundError\u001b[0m: No module named 'jsbeautifier'",
            "",
            "\u001b[0;31m---------------------------------------------------------------------------\u001b[0;32m\nNOTE: If your import is failing due to a missing package, you can\nmanually install dependencies using either !pip or !apt.\n\nTo view examples of installing some common dependencies, click the\n\"Open Examples\" button below.\n\u001b[0;31m---------------------------------------------------------------------------\u001b[0m\n"
          ],
          "errorDetails": {
            "actions": [
              {
                "action": "open_url",
                "actionText": "Open Examples",
                "url": "/notebooks/snippets/importing_libraries.ipynb"
              }
            ]
          }
        }
      ]
    },
    {
      "cell_type": "markdown",
      "source": [
        "Load functions and hierarchy"
      ],
      "metadata": {
        "id": "RBXShSLDwual"
      }
    },
    {
      "cell_type": "markdown",
      "source": [
        "Example data -- job offers from Public Sercice"
      ],
      "metadata": {
        "id": "1vVguSR1wwWW"
      }
    },
    {
      "cell_type": "code",
      "source": [
        "kprm_df=pd.read_xml(\"https://nabory.kprm.gov.pl/pls/serwis/app.xml\", xpath = \"./new/oferta\")\n",
        "kprm_df = kprm_df.replace(\"\\\\<\\\\!\\\\[CDATA\\\\[ \", \"\", regex=True)\n",
        "kprm_df = kprm_df.replace(\" \\\\]\\\\]\\\\>\", \"\", regex=True)\n",
        "kprm_df = kprm_df.replace(r'<[^<>]*>', '', regex=True)\n",
        "kprm_df = kprm_df.replace('&nbsp;', ' ', regex=True)\n",
        "kprm_df = kprm_df.replace('&dash;', ' ', regex=True)\n",
        "kprm_df = kprm_df.replace('&oacute;', ' ', regex=True)\n",
        "kprm_df = kprm_df.replace('\\r', ' ', regex=True)\n",
        "kprm_df[[\"unid\", \"nazwa_firmy\", \"stanowisko\", \"do_spraw\", \"poledodatkowelista1\", \"poledodatkowelista3\"]].head(n=2)"
      ],
      "metadata": {
        "colab": {
          "base_uri": "https://localhost:8080/",
          "height": 191
        },
        "id": "Wy8oi59nwreR",
        "outputId": "338521b0-c907-4878-8265-953b39890b68"
      },
      "execution_count": 47,
      "outputs": [
        {
          "output_type": "execute_result",
          "data": {
            "text/plain": [
              "     unid                                        nazwa_firmy  \\\n",
              "0  108581       Ministerstwo Spraw Zagranicznych w Warszawie   \n",
              "1  108580  Powiatowy Inspektorat Nadzoru Budowlanego w Op...   \n",
              "\n",
              "                      stanowisko                          do_spraw  \\\n",
              "0                      inspektor  ekspedycji informacji niejawnych   \n",
              "1  inspektor nadzoru budowlanego                          kontroli   \n",
              "\n",
              "                                 poledodatkowelista1  \\\n",
              "0  Prowadzi dzienniki ewidencji materiałów niejaw...   \n",
              "1  Przygotowywanie i opracowywanie projektów decy...   \n",
              "\n",
              "                                 poledodatkowelista3  \n",
              "0  Warunki dotyczące charakteru pracy na stanowis...  \n",
              "1  Praca w siedzibie Inspektoratu przy wykorzysta...  "
            ],
            "text/html": [
              "\n",
              "  <div id=\"df-9b6ee48e-707f-4fd4-9755-321c73a3dda3\">\n",
              "    <div class=\"colab-df-container\">\n",
              "      <div>\n",
              "<style scoped>\n",
              "    .dataframe tbody tr th:only-of-type {\n",
              "        vertical-align: middle;\n",
              "    }\n",
              "\n",
              "    .dataframe tbody tr th {\n",
              "        vertical-align: top;\n",
              "    }\n",
              "\n",
              "    .dataframe thead th {\n",
              "        text-align: right;\n",
              "    }\n",
              "</style>\n",
              "<table border=\"1\" class=\"dataframe\">\n",
              "  <thead>\n",
              "    <tr style=\"text-align: right;\">\n",
              "      <th></th>\n",
              "      <th>unid</th>\n",
              "      <th>nazwa_firmy</th>\n",
              "      <th>stanowisko</th>\n",
              "      <th>do_spraw</th>\n",
              "      <th>poledodatkowelista1</th>\n",
              "      <th>poledodatkowelista3</th>\n",
              "    </tr>\n",
              "  </thead>\n",
              "  <tbody>\n",
              "    <tr>\n",
              "      <th>0</th>\n",
              "      <td>108581</td>\n",
              "      <td>Ministerstwo Spraw Zagranicznych w Warszawie</td>\n",
              "      <td>inspektor</td>\n",
              "      <td>ekspedycji informacji niejawnych</td>\n",
              "      <td>Prowadzi dzienniki ewidencji materiałów niejaw...</td>\n",
              "      <td>Warunki dotyczące charakteru pracy na stanowis...</td>\n",
              "    </tr>\n",
              "    <tr>\n",
              "      <th>1</th>\n",
              "      <td>108580</td>\n",
              "      <td>Powiatowy Inspektorat Nadzoru Budowlanego w Op...</td>\n",
              "      <td>inspektor nadzoru budowlanego</td>\n",
              "      <td>kontroli</td>\n",
              "      <td>Przygotowywanie i opracowywanie projektów decy...</td>\n",
              "      <td>Praca w siedzibie Inspektoratu przy wykorzysta...</td>\n",
              "    </tr>\n",
              "  </tbody>\n",
              "</table>\n",
              "</div>\n",
              "      <button class=\"colab-df-convert\" onclick=\"convertToInteractive('df-9b6ee48e-707f-4fd4-9755-321c73a3dda3')\"\n",
              "              title=\"Convert this dataframe to an interactive table.\"\n",
              "              style=\"display:none;\">\n",
              "        \n",
              "  <svg xmlns=\"http://www.w3.org/2000/svg\" height=\"24px\"viewBox=\"0 0 24 24\"\n",
              "       width=\"24px\">\n",
              "    <path d=\"M0 0h24v24H0V0z\" fill=\"none\"/>\n",
              "    <path d=\"M18.56 5.44l.94 2.06.94-2.06 2.06-.94-2.06-.94-.94-2.06-.94 2.06-2.06.94zm-11 1L8.5 8.5l.94-2.06 2.06-.94-2.06-.94L8.5 2.5l-.94 2.06-2.06.94zm10 10l.94 2.06.94-2.06 2.06-.94-2.06-.94-.94-2.06-.94 2.06-2.06.94z\"/><path d=\"M17.41 7.96l-1.37-1.37c-.4-.4-.92-.59-1.43-.59-.52 0-1.04.2-1.43.59L10.3 9.45l-7.72 7.72c-.78.78-.78 2.05 0 2.83L4 21.41c.39.39.9.59 1.41.59.51 0 1.02-.2 1.41-.59l7.78-7.78 2.81-2.81c.8-.78.8-2.07 0-2.86zM5.41 20L4 18.59l7.72-7.72 1.47 1.35L5.41 20z\"/>\n",
              "  </svg>\n",
              "      </button>\n",
              "      \n",
              "  <style>\n",
              "    .colab-df-container {\n",
              "      display:flex;\n",
              "      flex-wrap:wrap;\n",
              "      gap: 12px;\n",
              "    }\n",
              "\n",
              "    .colab-df-convert {\n",
              "      background-color: #E8F0FE;\n",
              "      border: none;\n",
              "      border-radius: 50%;\n",
              "      cursor: pointer;\n",
              "      display: none;\n",
              "      fill: #1967D2;\n",
              "      height: 32px;\n",
              "      padding: 0 0 0 0;\n",
              "      width: 32px;\n",
              "    }\n",
              "\n",
              "    .colab-df-convert:hover {\n",
              "      background-color: #E2EBFA;\n",
              "      box-shadow: 0px 1px 2px rgba(60, 64, 67, 0.3), 0px 1px 3px 1px rgba(60, 64, 67, 0.15);\n",
              "      fill: #174EA6;\n",
              "    }\n",
              "\n",
              "    [theme=dark] .colab-df-convert {\n",
              "      background-color: #3B4455;\n",
              "      fill: #D2E3FC;\n",
              "    }\n",
              "\n",
              "    [theme=dark] .colab-df-convert:hover {\n",
              "      background-color: #434B5C;\n",
              "      box-shadow: 0px 1px 3px 1px rgba(0, 0, 0, 0.15);\n",
              "      filter: drop-shadow(0px 1px 2px rgba(0, 0, 0, 0.3));\n",
              "      fill: #FFFFFF;\n",
              "    }\n",
              "  </style>\n",
              "\n",
              "      <script>\n",
              "        const buttonEl =\n",
              "          document.querySelector('#df-9b6ee48e-707f-4fd4-9755-321c73a3dda3 button.colab-df-convert');\n",
              "        buttonEl.style.display =\n",
              "          google.colab.kernel.accessAllowed ? 'block' : 'none';\n",
              "\n",
              "        async function convertToInteractive(key) {\n",
              "          const element = document.querySelector('#df-9b6ee48e-707f-4fd4-9755-321c73a3dda3');\n",
              "          const dataTable =\n",
              "            await google.colab.kernel.invokeFunction('convertToInteractive',\n",
              "                                                     [key], {});\n",
              "          if (!dataTable) return;\n",
              "\n",
              "          const docLinkHtml = 'Like what you see? Visit the ' +\n",
              "            '<a target=\"_blank\" href=https://colab.research.google.com/notebooks/data_table.ipynb>data table notebook</a>'\n",
              "            + ' to learn more about interactive tables.';\n",
              "          element.innerHTML = '';\n",
              "          dataTable['output_type'] = 'display_data';\n",
              "          await google.colab.output.renderOutput(dataTable, element);\n",
              "          const docLink = document.createElement('div');\n",
              "          docLink.innerHTML = docLinkHtml;\n",
              "          element.appendChild(docLink);\n",
              "        }\n",
              "      </script>\n",
              "    </div>\n",
              "  </div>\n",
              "  "
            ]
          },
          "metadata": {},
          "execution_count": 47
        }
      ]
    },
    {
      "cell_type": "code",
      "source": [
        "kprm_df.poledodatkowelista1[1]"
      ],
      "metadata": {
        "colab": {
          "base_uri": "https://localhost:8080/",
          "height": 89
        },
        "id": "CtVsiZEUy1K_",
        "outputId": "af509012-e47e-4966-9e9d-4aab5887d835"
      },
      "execution_count": 48,
      "outputs": [
        {
          "output_type": "execute_result",
          "data": {
            "text/plain": [
              "'Przygotowywanie i opracowywanie projektów decyzji, postanowień i innych pism z zakresu właściwości Powiatowego Inspektora Nadzoru Budowlanego.Prowadzenie postępowań administracyjnych.Prowadzenie kontroli budów, robót budowlanych i utrzymania obiektów budowlanych.Przyjmowanie zawiadomień o zamierzonym terminie rozpoczęcia robót budowlanych, o zakończeniu budowy oraz wniosków o udzielenie pozwolenia na użytkowanie.Prowadzenie ewidencji i przygotowywanie wymaganych sprawozdań.'"
            ],
            "application/vnd.google.colaboratory.intrinsic+json": {
              "type": "string"
            }
          },
          "metadata": {},
          "execution_count": 48
        }
      ]
    },
    {
      "cell_type": "markdown",
      "source": [
        "### Logistic regression model using tf-df matrix"
      ],
      "metadata": {
        "id": "xAUjwi0Fv87j"
      }
    },
    {
      "cell_type": "markdown",
      "source": [
        "### Transformer model"
      ],
      "metadata": {
        "id": "2j_LhmFuwA6O"
      }
    }
  ]
}
